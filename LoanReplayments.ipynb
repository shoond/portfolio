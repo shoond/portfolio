{
  "nbformat": 4,
  "nbformat_minor": 0,
  "metadata": {
    "colab": {
      "provenance": [],
      "authorship_tag": "ABX9TyO999HhQNaq0nUgCNWV9GtN",
      "include_colab_link": true
    },
    "kernelspec": {
      "name": "python3",
      "display_name": "Python 3"
    },
    "language_info": {
      "name": "python"
    }
  },
  "cells": [
    {
      "cell_type": "markdown",
      "metadata": {
        "id": "view-in-github",
        "colab_type": "text"
      },
      "source": [
        "<a href=\"https://colab.research.google.com/github/shoond/portfolio/blob/main/LoanReplayments.ipynb\" target=\"_parent\"><img src=\"https://colab.research.google.com/assets/colab-badge.svg\" alt=\"Open In Colab\"/></a>"
      ]
    },
    {
      "cell_type": "markdown",
      "source": [
        "# Loan Repayment Exercise\n",
        "\n",
        "Goal: Minimize the risk of a borrower being unable to repay a loan.\n",
        "* Predict \"NotfullyPaid\" using all the other variables as independent variables.\n",
        "\n",
        "NotFullyPaid = 0 means loans paid back in full\n",
        "\n",
        "NotFullyPaid = 1 means debt\n",
        "\n",
        "Data:\n",
        "* 9578 observations, each representing a 3-yr loan between May 2007 and Feb 2010.\n",
        "* There are 14 variables in dataset.\n",
        "\n"
      ],
      "metadata": {
        "id": "n15o4gpL3S8I"
      }
    },
    {
      "cell_type": "code",
      "source": [
        "import pandas as pd\n",
        "import numpy as np\n",
        "from sklearn.model_selection import train_test_split\n",
        "from sklearn.metrics import confusion_matrix, roc_auc_score\n",
        "import statsmodels.formula.api as smf"
      ],
      "metadata": {
        "id": "WauNH5IB2b66"
      },
      "execution_count": 2,
      "outputs": []
    },
    {
      "cell_type": "code",
      "execution_count": 3,
      "metadata": {
        "colab": {
          "base_uri": "https://localhost:8080/"
        },
        "id": "yZ3TaklQ1uAi",
        "outputId": "dbb598b9-0bda-45f7-8e24-ac5c18f2e73e"
      },
      "outputs": [
        {
          "output_type": "execute_result",
          "data": {
            "text/plain": [
              "CreditPolicy        int64\n",
              "Purpose            object\n",
              "IntRate           float64\n",
              "Installment       float64\n",
              "LogAnnualInc      float64\n",
              "Dti               float64\n",
              "Fico                int64\n",
              "DaysWithCrLine    float64\n",
              "RevolBal            int64\n",
              "RevolUtil         float64\n",
              "InqLast6mths        int64\n",
              "Delinq2yrs          int64\n",
              "PubRec              int64\n",
              "NotFullyPaid        int64\n",
              "dtype: object"
            ]
          },
          "metadata": {},
          "execution_count": 3
        }
      ],
      "source": [
        "df_loans = pd.read_csv('https://raw.githubusercontent.com/amandeep0/IS451/main/data/loans.csv')\n",
        "\n",
        "df_loans.describe()     #Peek at rows\n",
        "df_loans.head()     #Peek at data\n",
        "df_loans.dtypes\n",
        "\n",
        "# There exists str values for column['Purpose'], we need to adjust to int values for our model.\n",
        "# float64 vs int64 is okay, just a performance thing"
      ]
    },
    {
      "cell_type": "code",
      "source": [
        "# Use pd.factorize() to assign integer values for df_loans['Purpose']\n",
        "\n",
        "df_loans['Purpose'] = pd.factorize(df_loans['Purpose'])[0]\n",
        "\n",
        "print(df_loans['Purpose'])"
      ],
      "metadata": {
        "colab": {
          "base_uri": "https://localhost:8080/"
        },
        "id": "Uz-8aVK1TuaM",
        "outputId": "a44ec013-0909-45a2-e2a1-69ed9db6aa52"
      },
      "execution_count": 4,
      "outputs": [
        {
          "output_type": "stream",
          "name": "stdout",
          "text": [
            "0       0\n",
            "1       1\n",
            "2       0\n",
            "3       0\n",
            "4       1\n",
            "       ..\n",
            "9573    2\n",
            "9574    2\n",
            "9575    0\n",
            "9576    3\n",
            "9577    0\n",
            "Name: Purpose, Length: 9578, dtype: int64\n"
          ]
        }
      ]
    },
    {
      "cell_type": "markdown",
      "source": [
        "# a\n",
        "\n",
        "## a_i\n",
        "* Split the dataset: 70/30 train/test\n",
        "* What is the accuracy on the test set of a simple baseline model that predicts loans will be paid back in full (NotFullyPaid = 0)?\n",
        "> 84.20%"
      ],
      "metadata": {
        "id": "xgb99F-F37q-"
      }
    },
    {
      "cell_type": "code",
      "source": [
        "train = 0.70\n",
        "\n",
        "#Split the data\n",
        "df_loans_train, df_loans_test = train_test_split(df_loans, test_size=(1-train), random_state=23)\n",
        "\n",
        "print(df_loans_train.shape[0]/df_loans.shape[0])    #Confirm 70% train\n",
        "\n",
        "print(df_loans_test.shape[0]/df_loans.shape[0])     #Confirm 30% test\n"
      ],
      "metadata": {
        "colab": {
          "base_uri": "https://localhost:8080/"
        },
        "id": "T1jbKfGn4rQI",
        "outputId": "5b055744-bc6b-4e8b-f8c4-e1f2748e9fcd"
      },
      "execution_count": 5,
      "outputs": [
        {
          "output_type": "stream",
          "name": "stdout",
          "text": [
            "0.6999373564418458\n",
            "0.3000626435581541\n"
          ]
        }
      ]
    },
    {
      "cell_type": "code",
      "source": [
        "print(df_loans_test['NotFullyPaid'].value_counts())\n",
        "\n",
        "#Baseline says borrowers will pay back in full.\n",
        "\n",
        "baseline = 2420/(2420+454)\n",
        "print(baseline)"
      ],
      "metadata": {
        "colab": {
          "base_uri": "https://localhost:8080/"
        },
        "id": "fMqvrMhux4Fl",
        "outputId": "4884707f-4b10-4f09-ae1f-b4a60e008237"
      },
      "execution_count": 6,
      "outputs": [
        {
          "output_type": "stream",
          "name": "stdout",
          "text": [
            "0    2420\n",
            "1     454\n",
            "Name: NotFullyPaid, dtype: int64\n",
            "0.8420320111343076\n"
          ]
        }
      ]
    },
    {
      "cell_type": "markdown",
      "source": [
        "#a_ii\n",
        "\n",
        "Now, build a logistic regression model that predicts \"NotFullyPaid\" using all of the other variables as indepedent variables. Use the training set as the data for the model.\n",
        "\n",
        "* Describe your model.\n",
        "> The model is roughly 84% accurate in predicting loans not being paid. Although there exist a couple variables such a FICO that are inversely correlated to loans not being paid, where as increases in FICO would signify credit trustworthy and loans being successfully paid.\n",
        "\n",
        "* Which of the independent variables are significant in your model?\n",
        "> CreditPolicy, Purpose, IntRate, Installment, LogAnnualInc, Fico, InqLast6mths, PubRec"
      ],
      "metadata": {
        "id": "7h3x0P_D9eNe"
      }
    },
    {
      "cell_type": "code",
      "source": [
        "# We create a for loop to concat all the column names together in order to place into logit_reg function in the next step.\n",
        "# We could copy and paste each one individually but this would be faster.\n",
        "\n",
        "columns = [col for col in df_loans.columns if col!= 'NotFullyPaid']\n",
        "\n",
        "joined = '+'.join(columns)\n",
        "\n",
        "col_str = 'NotFullyPaid ~ ' + joined   # assign the concat string to 'reg_all'\n",
        "\n",
        "print(col_str)"
      ],
      "metadata": {
        "colab": {
          "base_uri": "https://localhost:8080/"
        },
        "id": "1juTxJvl5Vqn",
        "outputId": "08df798e-0a59-4268-f5c7-b80807e3be41"
      },
      "execution_count": 7,
      "outputs": [
        {
          "output_type": "stream",
          "name": "stdout",
          "text": [
            "NotFullyPaid ~ CreditPolicy+Purpose+IntRate+Installment+LogAnnualInc+Dti+Fico+DaysWithCrLine+RevolBal+RevolUtil+InqLast6mths+Delinq2yrs+PubRec\n"
          ]
        }
      ]
    },
    {
      "cell_type": "code",
      "source": [
        "model = smf.logit(col_str, data=df_loans_train)\n",
        "model_results = model.fit()\n",
        "\n",
        "print(model_results.summary())"
      ],
      "metadata": {
        "colab": {
          "base_uri": "https://localhost:8080/"
        },
        "id": "KFONRs9K6XIo",
        "outputId": "b8da48d4-582e-4036-df03-0ebd5e167947"
      },
      "execution_count": 8,
      "outputs": [
        {
          "output_type": "stream",
          "name": "stdout",
          "text": [
            "Optimization terminated successfully.\n",
            "         Current function value: 0.411580\n",
            "         Iterations 6\n",
            "                           Logit Regression Results                           \n",
            "==============================================================================\n",
            "Dep. Variable:           NotFullyPaid   No. Observations:                 6704\n",
            "Model:                          Logit   Df Residuals:                     6690\n",
            "Method:                           MLE   Df Model:                           13\n",
            "Date:                Fri, 17 Nov 2023   Pseudo R-squ.:                 0.06722\n",
            "Time:                        17:36:56   Log-Likelihood:                -2759.2\n",
            "converged:                       True   LL-Null:                       -2958.1\n",
            "Covariance Type:            nonrobust   LLR p-value:                 6.925e-77\n",
            "==================================================================================\n",
            "                     coef    std err          z      P>|z|      [0.025      0.975]\n",
            "----------------------------------------------------------------------------------\n",
            "Intercept          7.6790      1.523      5.042      0.000       4.694      10.664\n",
            "CreditPolicy      -0.2915      0.101     -2.895      0.004      -0.489      -0.094\n",
            "Purpose            0.1028      0.020      5.017      0.000       0.063       0.143\n",
            "IntRate            4.2477      2.024      2.098      0.036       0.280       8.215\n",
            "Installment        0.0013      0.000      6.510      0.000       0.001       0.002\n",
            "LogAnnualInc      -0.4677      0.071     -6.613      0.000      -0.606      -0.329\n",
            "Dti               -0.0053      0.005     -0.989      0.323      -0.016       0.005\n",
            "Fico              -0.0078      0.002     -4.599      0.000      -0.011      -0.004\n",
            "DaysWithCrLine  6.464e-06    1.6e-05      0.404      0.686   -2.49e-05    3.78e-05\n",
            "RevolBal         3.36e-06   1.06e-06      3.168      0.002    1.28e-06    5.44e-06\n",
            "RevolUtil          0.0025      0.002      1.660      0.097      -0.000       0.005\n",
            "InqLast6mths       0.0918      0.017      5.557      0.000       0.059       0.124\n",
            "Delinq2yrs        -0.0448      0.061     -0.736      0.461      -0.164       0.074\n",
            "PubRec             0.2979      0.114      2.614      0.009       0.075       0.521\n",
            "==================================================================================\n"
          ]
        }
      ]
    },
    {
      "cell_type": "code",
      "source": [
        "#Predict against training data\n",
        "NFP_prob = model_results.predict(df_loans_train)\n",
        "\n",
        "# NFP = NotFullyPaid\n",
        "# Find NFP_prob = P(NFP = 1)\n",
        "# Assume IF P(NFP=1) > 0.5 THEN Loan will not be paid\n",
        "        #IF P(NFP=1) < 0.5 THEN loan will be paid\n",
        "\n",
        "loan_paid = NFP_prob < 0.5\n",
        "loan_debt = NFP_prob > 0.5\n",
        "\n",
        "confusion_matrix = pd.crosstab(df_loans_train['NotFullyPaid'], loan_paid)\n",
        "print(confusion_matrix)"
      ],
      "metadata": {
        "colab": {
          "base_uri": "https://localhost:8080/"
        },
        "id": "YRsFfH65BWx4",
        "outputId": "c389b83b-11c1-49ae-aaf0-ee34d729f718"
      },
      "execution_count": 9,
      "outputs": [
        {
          "output_type": "stream",
          "name": "stdout",
          "text": [
            "col_0         False  True \n",
            "NotFullyPaid              \n",
            "0                33   5592\n",
            "1                24   1055\n"
          ]
        }
      ]
    },
    {
      "cell_type": "code",
      "source": [
        "TP = 5592\n",
        "TN = 24\n",
        "FN = 33\n",
        "FP = 1055\n",
        "N_sum = TP+TN+FN+FP"
      ],
      "metadata": {
        "id": "ZmyxwE_5LuUK"
      },
      "execution_count": 10,
      "outputs": []
    },
    {
      "cell_type": "code",
      "source": [
        "#Model Accuracy = (TP +TN) / N_sum\n",
        "\n",
        "model_acc = (TP+TN)/(N_sum)\n",
        "print(model_acc)"
      ],
      "metadata": {
        "colab": {
          "base_uri": "https://localhost:8080/"
        },
        "id": "e7G4IORLFAWf",
        "outputId": "d23b0a49-86e2-45a3-8768-5389e107ec7b"
      },
      "execution_count": 11,
      "outputs": [
        {
          "output_type": "stream",
          "name": "stdout",
          "text": [
            "0.837708830548926\n"
          ]
        }
      ]
    },
    {
      "cell_type": "markdown",
      "source": [
        "# a_iii\n",
        "Consider two applications, which are identical except App_A has FICO = 700, and App_B has FICO = 710.\n",
        "\n",
        "Let Logit(A) be the value of the linear logit function of loan A NotFullyPaid.\n",
        "Define Logit(B) similarly for loan B.\n",
        "\n",
        "What is Logit(A) - Logit(B)?\n",
        "> 0.0779\n",
        "\n"
      ],
      "metadata": {
        "id": "LcwVjo-QjRov"
      }
    },
    {
      "cell_type": "code",
      "source": [
        "# From previous model:\n",
        "int_coef = 7.6790\n",
        "fico_coef = -0.0078\n",
        "\n",
        "# Logit = b0 + b1_x1\n",
        "\n",
        "# Logit(A)\n",
        "fico_a = 700\n",
        "logit_a = int_coef + fico_a*fico_coef\n",
        "print(logit_a)\n",
        "\n",
        "# Logit(B)\n",
        "fico_b = 710\n",
        "logit_b = int_coef + fico_b*fico_coef\n",
        "print(logit_b)\n",
        "\n",
        "print(logit_a - logit_b)\n"
      ],
      "metadata": {
        "id": "BvaaauEnLdmX",
        "colab": {
          "base_uri": "https://localhost:8080/"
        },
        "outputId": "d81d7118-f94b-4028-85b7-80ded816d17b"
      },
      "execution_count": 12,
      "outputs": [
        {
          "output_type": "stream",
          "name": "stdout",
          "text": [
            "2.2190000000000003\n",
            "2.141000000000001\n",
            "0.0779999999999994\n"
          ]
        }
      ]
    },
    {
      "cell_type": "markdown",
      "source": [
        "# a_iv\n",
        "\n",
        "Now predict the probability of the test set of loans not being paid in full. Store these predicted probabilities in a variable **'PredictedRisk'** and add it to your test set.\n",
        "\n",
        "What is the accuracy of the logistic regression model on test set using threshold of 0.5?\n",
        "> 84.10%\n",
        "\n",
        "How does this compare to baseline model?\n",
        ">Baseline was 84.20%. This model is slightly worse by 0.10%\n"
      ],
      "metadata": {
        "id": "GSccrFb4vgkV"
      }
    },
    {
      "cell_type": "code",
      "source": [
        "# Predict against test data\n",
        "NFP_prob_testdata = model_results.predict(df_loans_test)\n",
        "\n",
        "loan_paid = NFP_prob_testdata < 0.5\n",
        "loan_debt = NFP_prob_testdata > 0.5\n",
        "\n",
        "confusion_matrix = pd.crosstab(df_loans_test['NotFullyPaid'], loan_paid)\n",
        "print(confusion_matrix)"
      ],
      "metadata": {
        "colab": {
          "base_uri": "https://localhost:8080/"
        },
        "id": "qYaEbrB0tcra",
        "outputId": "b2b9c853-0fa8-40ea-ee3e-12e98d7ec21c"
      },
      "execution_count": 13,
      "outputs": [
        {
          "output_type": "stream",
          "name": "stdout",
          "text": [
            "col_0         False  True \n",
            "NotFullyPaid              \n",
            "0                12   2408\n",
            "1                 9    445\n"
          ]
        }
      ]
    },
    {
      "cell_type": "code",
      "source": [
        "# Store the prob as 'PredictedRisk'\n",
        "\n",
        "df_loans_test['PredictedRisk'] = NFP_prob_testdata\n",
        "\n",
        "#Confirm new column\n",
        "df_loans_test.head()\n"
      ],
      "metadata": {
        "colab": {
          "base_uri": "https://localhost:8080/",
          "height": 206
        },
        "id": "G0_r5S-618jT",
        "outputId": "cef56e13-e3a5-42b1-a6de-1774345f2e67"
      },
      "execution_count": 14,
      "outputs": [
        {
          "output_type": "execute_result",
          "data": {
            "text/plain": [
              "      CreditPolicy  Purpose  IntRate  Installment  LogAnnualInc    Dti  Fico  \\\n",
              "3409             1        0   0.1442       343.83     11.002100   3.68   667   \n",
              "8289             0        2   0.1229        50.03     10.308953  14.12   662   \n",
              "9293             0        2   0.1461       103.43     10.491274  22.13   667   \n",
              "3839             1        1   0.0932       159.74     11.050890  13.79   737   \n",
              "9050             0        4   0.1663       115.28      8.987197   6.30   707   \n",
              "\n",
              "      DaysWithCrLine  RevolBal  RevolUtil  InqLast6mths  Delinq2yrs  PubRec  \\\n",
              "3409    14133.000000      6383       30.1             1           2       0   \n",
              "8289      660.041667       669        7.5             1           0       0   \n",
              "9293     2940.000000     37617       89.4             0           0       0   \n",
              "3839     3630.000000      5163       28.1             1           0       0   \n",
              "9050      660.000000         0        0.0             2           0       0   \n",
              "\n",
              "      NotFullyPaid  PredictedRisk  \n",
              "3409             0       0.154846  \n",
              "8289             0       0.189923  \n",
              "9293             0       0.232585  \n",
              "3839             0       0.065019  \n",
              "9050             0       0.356151  "
            ],
            "text/html": [
              "\n",
              "  <div id=\"df-baf8f593-27de-47e6-9992-6ca8b16ef36b\" class=\"colab-df-container\">\n",
              "    <div>\n",
              "<style scoped>\n",
              "    .dataframe tbody tr th:only-of-type {\n",
              "        vertical-align: middle;\n",
              "    }\n",
              "\n",
              "    .dataframe tbody tr th {\n",
              "        vertical-align: top;\n",
              "    }\n",
              "\n",
              "    .dataframe thead th {\n",
              "        text-align: right;\n",
              "    }\n",
              "</style>\n",
              "<table border=\"1\" class=\"dataframe\">\n",
              "  <thead>\n",
              "    <tr style=\"text-align: right;\">\n",
              "      <th></th>\n",
              "      <th>CreditPolicy</th>\n",
              "      <th>Purpose</th>\n",
              "      <th>IntRate</th>\n",
              "      <th>Installment</th>\n",
              "      <th>LogAnnualInc</th>\n",
              "      <th>Dti</th>\n",
              "      <th>Fico</th>\n",
              "      <th>DaysWithCrLine</th>\n",
              "      <th>RevolBal</th>\n",
              "      <th>RevolUtil</th>\n",
              "      <th>InqLast6mths</th>\n",
              "      <th>Delinq2yrs</th>\n",
              "      <th>PubRec</th>\n",
              "      <th>NotFullyPaid</th>\n",
              "      <th>PredictedRisk</th>\n",
              "    </tr>\n",
              "  </thead>\n",
              "  <tbody>\n",
              "    <tr>\n",
              "      <th>3409</th>\n",
              "      <td>1</td>\n",
              "      <td>0</td>\n",
              "      <td>0.1442</td>\n",
              "      <td>343.83</td>\n",
              "      <td>11.002100</td>\n",
              "      <td>3.68</td>\n",
              "      <td>667</td>\n",
              "      <td>14133.000000</td>\n",
              "      <td>6383</td>\n",
              "      <td>30.1</td>\n",
              "      <td>1</td>\n",
              "      <td>2</td>\n",
              "      <td>0</td>\n",
              "      <td>0</td>\n",
              "      <td>0.154846</td>\n",
              "    </tr>\n",
              "    <tr>\n",
              "      <th>8289</th>\n",
              "      <td>0</td>\n",
              "      <td>2</td>\n",
              "      <td>0.1229</td>\n",
              "      <td>50.03</td>\n",
              "      <td>10.308953</td>\n",
              "      <td>14.12</td>\n",
              "      <td>662</td>\n",
              "      <td>660.041667</td>\n",
              "      <td>669</td>\n",
              "      <td>7.5</td>\n",
              "      <td>1</td>\n",
              "      <td>0</td>\n",
              "      <td>0</td>\n",
              "      <td>0</td>\n",
              "      <td>0.189923</td>\n",
              "    </tr>\n",
              "    <tr>\n",
              "      <th>9293</th>\n",
              "      <td>0</td>\n",
              "      <td>2</td>\n",
              "      <td>0.1461</td>\n",
              "      <td>103.43</td>\n",
              "      <td>10.491274</td>\n",
              "      <td>22.13</td>\n",
              "      <td>667</td>\n",
              "      <td>2940.000000</td>\n",
              "      <td>37617</td>\n",
              "      <td>89.4</td>\n",
              "      <td>0</td>\n",
              "      <td>0</td>\n",
              "      <td>0</td>\n",
              "      <td>0</td>\n",
              "      <td>0.232585</td>\n",
              "    </tr>\n",
              "    <tr>\n",
              "      <th>3839</th>\n",
              "      <td>1</td>\n",
              "      <td>1</td>\n",
              "      <td>0.0932</td>\n",
              "      <td>159.74</td>\n",
              "      <td>11.050890</td>\n",
              "      <td>13.79</td>\n",
              "      <td>737</td>\n",
              "      <td>3630.000000</td>\n",
              "      <td>5163</td>\n",
              "      <td>28.1</td>\n",
              "      <td>1</td>\n",
              "      <td>0</td>\n",
              "      <td>0</td>\n",
              "      <td>0</td>\n",
              "      <td>0.065019</td>\n",
              "    </tr>\n",
              "    <tr>\n",
              "      <th>9050</th>\n",
              "      <td>0</td>\n",
              "      <td>4</td>\n",
              "      <td>0.1663</td>\n",
              "      <td>115.28</td>\n",
              "      <td>8.987197</td>\n",
              "      <td>6.30</td>\n",
              "      <td>707</td>\n",
              "      <td>660.000000</td>\n",
              "      <td>0</td>\n",
              "      <td>0.0</td>\n",
              "      <td>2</td>\n",
              "      <td>0</td>\n",
              "      <td>0</td>\n",
              "      <td>0</td>\n",
              "      <td>0.356151</td>\n",
              "    </tr>\n",
              "  </tbody>\n",
              "</table>\n",
              "</div>\n",
              "    <div class=\"colab-df-buttons\">\n",
              "\n",
              "  <div class=\"colab-df-container\">\n",
              "    <button class=\"colab-df-convert\" onclick=\"convertToInteractive('df-baf8f593-27de-47e6-9992-6ca8b16ef36b')\"\n",
              "            title=\"Convert this dataframe to an interactive table.\"\n",
              "            style=\"display:none;\">\n",
              "\n",
              "  <svg xmlns=\"http://www.w3.org/2000/svg\" height=\"24px\" viewBox=\"0 -960 960 960\">\n",
              "    <path d=\"M120-120v-720h720v720H120Zm60-500h600v-160H180v160Zm220 220h160v-160H400v160Zm0 220h160v-160H400v160ZM180-400h160v-160H180v160Zm440 0h160v-160H620v160ZM180-180h160v-160H180v160Zm440 0h160v-160H620v160Z\"/>\n",
              "  </svg>\n",
              "    </button>\n",
              "\n",
              "  <style>\n",
              "    .colab-df-container {\n",
              "      display:flex;\n",
              "      gap: 12px;\n",
              "    }\n",
              "\n",
              "    .colab-df-convert {\n",
              "      background-color: #E8F0FE;\n",
              "      border: none;\n",
              "      border-radius: 50%;\n",
              "      cursor: pointer;\n",
              "      display: none;\n",
              "      fill: #1967D2;\n",
              "      height: 32px;\n",
              "      padding: 0 0 0 0;\n",
              "      width: 32px;\n",
              "    }\n",
              "\n",
              "    .colab-df-convert:hover {\n",
              "      background-color: #E2EBFA;\n",
              "      box-shadow: 0px 1px 2px rgba(60, 64, 67, 0.3), 0px 1px 3px 1px rgba(60, 64, 67, 0.15);\n",
              "      fill: #174EA6;\n",
              "    }\n",
              "\n",
              "    .colab-df-buttons div {\n",
              "      margin-bottom: 4px;\n",
              "    }\n",
              "\n",
              "    [theme=dark] .colab-df-convert {\n",
              "      background-color: #3B4455;\n",
              "      fill: #D2E3FC;\n",
              "    }\n",
              "\n",
              "    [theme=dark] .colab-df-convert:hover {\n",
              "      background-color: #434B5C;\n",
              "      box-shadow: 0px 1px 3px 1px rgba(0, 0, 0, 0.15);\n",
              "      filter: drop-shadow(0px 1px 2px rgba(0, 0, 0, 0.3));\n",
              "      fill: #FFFFFF;\n",
              "    }\n",
              "  </style>\n",
              "\n",
              "    <script>\n",
              "      const buttonEl =\n",
              "        document.querySelector('#df-baf8f593-27de-47e6-9992-6ca8b16ef36b button.colab-df-convert');\n",
              "      buttonEl.style.display =\n",
              "        google.colab.kernel.accessAllowed ? 'block' : 'none';\n",
              "\n",
              "      async function convertToInteractive(key) {\n",
              "        const element = document.querySelector('#df-baf8f593-27de-47e6-9992-6ca8b16ef36b');\n",
              "        const dataTable =\n",
              "          await google.colab.kernel.invokeFunction('convertToInteractive',\n",
              "                                                    [key], {});\n",
              "        if (!dataTable) return;\n",
              "\n",
              "        const docLinkHtml = 'Like what you see? Visit the ' +\n",
              "          '<a target=\"_blank\" href=https://colab.research.google.com/notebooks/data_table.ipynb>data table notebook</a>'\n",
              "          + ' to learn more about interactive tables.';\n",
              "        element.innerHTML = '';\n",
              "        dataTable['output_type'] = 'display_data';\n",
              "        await google.colab.output.renderOutput(dataTable, element);\n",
              "        const docLink = document.createElement('div');\n",
              "        docLink.innerHTML = docLinkHtml;\n",
              "        element.appendChild(docLink);\n",
              "      }\n",
              "    </script>\n",
              "  </div>\n",
              "\n",
              "\n",
              "<div id=\"df-642dcaad-1894-4ca4-9e93-8ca30c8eb30e\">\n",
              "  <button class=\"colab-df-quickchart\" onclick=\"quickchart('df-642dcaad-1894-4ca4-9e93-8ca30c8eb30e')\"\n",
              "            title=\"Suggest charts\"\n",
              "            style=\"display:none;\">\n",
              "\n",
              "<svg xmlns=\"http://www.w3.org/2000/svg\" height=\"24px\"viewBox=\"0 0 24 24\"\n",
              "     width=\"24px\">\n",
              "    <g>\n",
              "        <path d=\"M19 3H5c-1.1 0-2 .9-2 2v14c0 1.1.9 2 2 2h14c1.1 0 2-.9 2-2V5c0-1.1-.9-2-2-2zM9 17H7v-7h2v7zm4 0h-2V7h2v10zm4 0h-2v-4h2v4z\"/>\n",
              "    </g>\n",
              "</svg>\n",
              "  </button>\n",
              "\n",
              "<style>\n",
              "  .colab-df-quickchart {\n",
              "      --bg-color: #E8F0FE;\n",
              "      --fill-color: #1967D2;\n",
              "      --hover-bg-color: #E2EBFA;\n",
              "      --hover-fill-color: #174EA6;\n",
              "      --disabled-fill-color: #AAA;\n",
              "      --disabled-bg-color: #DDD;\n",
              "  }\n",
              "\n",
              "  [theme=dark] .colab-df-quickchart {\n",
              "      --bg-color: #3B4455;\n",
              "      --fill-color: #D2E3FC;\n",
              "      --hover-bg-color: #434B5C;\n",
              "      --hover-fill-color: #FFFFFF;\n",
              "      --disabled-bg-color: #3B4455;\n",
              "      --disabled-fill-color: #666;\n",
              "  }\n",
              "\n",
              "  .colab-df-quickchart {\n",
              "    background-color: var(--bg-color);\n",
              "    border: none;\n",
              "    border-radius: 50%;\n",
              "    cursor: pointer;\n",
              "    display: none;\n",
              "    fill: var(--fill-color);\n",
              "    height: 32px;\n",
              "    padding: 0;\n",
              "    width: 32px;\n",
              "  }\n",
              "\n",
              "  .colab-df-quickchart:hover {\n",
              "    background-color: var(--hover-bg-color);\n",
              "    box-shadow: 0 1px 2px rgba(60, 64, 67, 0.3), 0 1px 3px 1px rgba(60, 64, 67, 0.15);\n",
              "    fill: var(--button-hover-fill-color);\n",
              "  }\n",
              "\n",
              "  .colab-df-quickchart-complete:disabled,\n",
              "  .colab-df-quickchart-complete:disabled:hover {\n",
              "    background-color: var(--disabled-bg-color);\n",
              "    fill: var(--disabled-fill-color);\n",
              "    box-shadow: none;\n",
              "  }\n",
              "\n",
              "  .colab-df-spinner {\n",
              "    border: 2px solid var(--fill-color);\n",
              "    border-color: transparent;\n",
              "    border-bottom-color: var(--fill-color);\n",
              "    animation:\n",
              "      spin 1s steps(1) infinite;\n",
              "  }\n",
              "\n",
              "  @keyframes spin {\n",
              "    0% {\n",
              "      border-color: transparent;\n",
              "      border-bottom-color: var(--fill-color);\n",
              "      border-left-color: var(--fill-color);\n",
              "    }\n",
              "    20% {\n",
              "      border-color: transparent;\n",
              "      border-left-color: var(--fill-color);\n",
              "      border-top-color: var(--fill-color);\n",
              "    }\n",
              "    30% {\n",
              "      border-color: transparent;\n",
              "      border-left-color: var(--fill-color);\n",
              "      border-top-color: var(--fill-color);\n",
              "      border-right-color: var(--fill-color);\n",
              "    }\n",
              "    40% {\n",
              "      border-color: transparent;\n",
              "      border-right-color: var(--fill-color);\n",
              "      border-top-color: var(--fill-color);\n",
              "    }\n",
              "    60% {\n",
              "      border-color: transparent;\n",
              "      border-right-color: var(--fill-color);\n",
              "    }\n",
              "    80% {\n",
              "      border-color: transparent;\n",
              "      border-right-color: var(--fill-color);\n",
              "      border-bottom-color: var(--fill-color);\n",
              "    }\n",
              "    90% {\n",
              "      border-color: transparent;\n",
              "      border-bottom-color: var(--fill-color);\n",
              "    }\n",
              "  }\n",
              "</style>\n",
              "\n",
              "  <script>\n",
              "    async function quickchart(key) {\n",
              "      const quickchartButtonEl =\n",
              "        document.querySelector('#' + key + ' button');\n",
              "      quickchartButtonEl.disabled = true;  // To prevent multiple clicks.\n",
              "      quickchartButtonEl.classList.add('colab-df-spinner');\n",
              "      try {\n",
              "        const charts = await google.colab.kernel.invokeFunction(\n",
              "            'suggestCharts', [key], {});\n",
              "      } catch (error) {\n",
              "        console.error('Error during call to suggestCharts:', error);\n",
              "      }\n",
              "      quickchartButtonEl.classList.remove('colab-df-spinner');\n",
              "      quickchartButtonEl.classList.add('colab-df-quickchart-complete');\n",
              "    }\n",
              "    (() => {\n",
              "      let quickchartButtonEl =\n",
              "        document.querySelector('#df-642dcaad-1894-4ca4-9e93-8ca30c8eb30e button');\n",
              "      quickchartButtonEl.style.display =\n",
              "        google.colab.kernel.accessAllowed ? 'block' : 'none';\n",
              "    })();\n",
              "  </script>\n",
              "</div>\n",
              "    </div>\n",
              "  </div>\n"
            ]
          },
          "metadata": {},
          "execution_count": 14
        }
      ]
    },
    {
      "cell_type": "code",
      "source": [
        "#Model Accuracy = (TP +TN) / N_sum\n",
        "TP = 2408\n",
        "TN = 9\n",
        "FP = 445\n",
        "FN = 12\n",
        "\n",
        "test_predict_acc = (TP+TN)/(TP+TN+FP+FN)\n",
        "print(test_predict_acc)"
      ],
      "metadata": {
        "colab": {
          "base_uri": "https://localhost:8080/"
        },
        "id": "G-2kD5iJ06UI",
        "outputId": "57313245-70e8-457f-c656-b3e4ac2d2b27"
      },
      "execution_count": 15,
      "outputs": [
        {
          "output_type": "stream",
          "name": "stdout",
          "text": [
            "0.8409881697981907\n"
          ]
        }
      ]
    },
    {
      "cell_type": "markdown",
      "source": [
        "# a_v\n",
        "\n",
        "What is the test set AUC of the model?\n",
        "> 0.65\n",
        "\n",
        "Given the accuracy and AUC on test set, do you think this model could be useful to an investory to make profitable investments?\n",
        "> I would advise using this model as it is very risk averse. We see that recall is nearly 100% in identifying risky loans. From an investor's perspective this is a safe model."
      ],
      "metadata": {
        "id": "VjgAAEKO3C5h"
      }
    },
    {
      "cell_type": "code",
      "source": [
        "# use roc_auc_score\n",
        "roc_auc_score(df_loans_test['NotFullyPaid'], df_loans_test['PredictedRisk'])"
      ],
      "metadata": {
        "colab": {
          "base_uri": "https://localhost:8080/"
        },
        "id": "uQK68Kx63A0g",
        "outputId": "a66b6dd5-063c-41af-e8f2-b7f145438e61"
      },
      "execution_count": 16,
      "outputs": [
        {
          "output_type": "execute_result",
          "data": {
            "text/plain": [
              "0.6549714202497543"
            ]
          },
          "metadata": {},
          "execution_count": 16
        }
      ]
    },
    {
      "cell_type": "code",
      "source": [
        "# Precision Metric\n",
        "    #   TP/(TP+FP)\n",
        "    #   ability to correctly identify class 1 among the predicted (these are column calculations)\n",
        "precision = TP/(TP+FP)\n",
        "print(precision)\n",
        "\n",
        "# Recall\n",
        "    #   TP/(TP+FN)\n",
        "    #   ability to correctly identify something among that actually exists (these are row calculations)\n",
        "recall = TP/(TP+FN)\n",
        "print(recall)\n",
        "\n",
        "f1_score = 2*recall*precision/(recall+precision)\n",
        "print(f1_score)"
      ],
      "metadata": {
        "colab": {
          "base_uri": "https://localhost:8080/"
        },
        "id": "Om4O-XTIIEnL",
        "outputId": "9d230fc7-02c7-4745-deb1-d203c9c56e2c"
      },
      "execution_count": 17,
      "outputs": [
        {
          "output_type": "stream",
          "name": "stdout",
          "text": [
            "0.8440238345601122\n",
            "0.9950413223140496\n",
            "0.9133320690309122\n"
          ]
        }
      ]
    },
    {
      "cell_type": "markdown",
      "source": [
        "# b)\n",
        "LendingClub assigns the interest rate to a loan based on their estimate of that loan's risk. This variable, **'IntRate'** is an indepedent variable in our dataset.\n",
        "\n",
        "In this part we investigate just using the loans interest rate as a \"smart baseline\" to order the loans accoriding to risk"
      ],
      "metadata": {
        "id": "J99uIfHF5u0O"
      }
    },
    {
      "cell_type": "markdown",
      "source": [
        "# b_i\n",
        "\n",
        "Using the training set, build a logistic regression model that predicts the dependent variable **NotFullyPaid** using **IntRate** as the only indepdent variable.\n",
        "\n",
        "Is IntRate significant in this model?\n",
        "> Yes. P>|z| is = 0.\n",
        "\n",
        "Was it significant in the first logistic regression model you built?\n",
        "> Yes, but not as significant as the other independent variables.\n",
        "\n",
        "How would you explain this difference?\n",
        "> A single, simple logistic regression model produces a yes or no answer where as multivariate models provides probability based on independent variables.\n"
      ],
      "metadata": {
        "id": "xF2fgPHX6FfC"
      }
    },
    {
      "cell_type": "code",
      "source": [
        "model_intrate = smf.logit('NotFullyPaid ~ IntRate', data=df_loans_train)\n",
        "model_results_intrate = model_intrate.fit()\n",
        "\n",
        "print(model_results_intrate.summary())"
      ],
      "metadata": {
        "colab": {
          "base_uri": "https://localhost:8080/"
        },
        "id": "lLNSyKL76D6Y",
        "outputId": "84fa5067-eb1f-49da-ed7a-8755d2f35603"
      },
      "execution_count": 18,
      "outputs": [
        {
          "output_type": "stream",
          "name": "stdout",
          "text": [
            "Optimization terminated successfully.\n",
            "         Current function value: 0.427025\n",
            "         Iterations 6\n",
            "                           Logit Regression Results                           \n",
            "==============================================================================\n",
            "Dep. Variable:           NotFullyPaid   No. Observations:                 6704\n",
            "Model:                          Logit   Df Residuals:                     6702\n",
            "Method:                           MLE   Df Model:                            1\n",
            "Date:                Fri, 17 Nov 2023   Pseudo R-squ.:                 0.03221\n",
            "Time:                        17:36:56   Log-Likelihood:                -2862.8\n",
            "converged:                       True   LL-Null:                       -2958.1\n",
            "Covariance Type:            nonrobust   LLR p-value:                 2.370e-43\n",
            "==============================================================================\n",
            "                 coef    std err          z      P>|z|      [0.025      0.975]\n",
            "------------------------------------------------------------------------------\n",
            "Intercept     -3.8200      0.168    -22.686      0.000      -4.150      -3.490\n",
            "IntRate       17.0934      1.261     13.557      0.000      14.622      19.565\n",
            "==============================================================================\n"
          ]
        }
      ]
    },
    {
      "cell_type": "code",
      "source": [
        "# Correlation Matrix\n",
        "corr = df_loans_train.corr()\n",
        "\n",
        "#Apply heatmap\n",
        "corr.style.background_gradient(vmin = 0, vmax = 1)"
      ],
      "metadata": {
        "colab": {
          "base_uri": "https://localhost:8080/",
          "height": 488
        },
        "id": "Xbfg-YFI8kYQ",
        "outputId": "39336b94-dd68-42ac-ef7d-2409ac119448"
      },
      "execution_count": 19,
      "outputs": [
        {
          "output_type": "execute_result",
          "data": {
            "text/plain": [
              "<pandas.io.formats.style.Styler at 0x7d9d6af5eb60>"
            ],
            "text/html": [
              "<style type=\"text/css\">\n",
              "#T_4864f_row0_col0, #T_4864f_row1_col1, #T_4864f_row2_col2, #T_4864f_row3_col3, #T_4864f_row4_col4, #T_4864f_row5_col5, #T_4864f_row6_col6, #T_4864f_row7_col7, #T_4864f_row8_col8, #T_4864f_row9_col9, #T_4864f_row10_col10, #T_4864f_row11_col11, #T_4864f_row12_col12, #T_4864f_row13_col13 {\n",
              "  background-color: #023858;\n",
              "  color: #f1f1f1;\n",
              "}\n",
              "#T_4864f_row0_col1, #T_4864f_row0_col2, #T_4864f_row0_col5, #T_4864f_row0_col8, #T_4864f_row0_col9, #T_4864f_row0_col10, #T_4864f_row0_col11, #T_4864f_row0_col12, #T_4864f_row0_col13, #T_4864f_row1_col0, #T_4864f_row1_col2, #T_4864f_row1_col3, #T_4864f_row1_col4, #T_4864f_row1_col5, #T_4864f_row1_col7, #T_4864f_row1_col8, #T_4864f_row1_col9, #T_4864f_row1_col11, #T_4864f_row1_col12, #T_4864f_row2_col0, #T_4864f_row2_col1, #T_4864f_row2_col6, #T_4864f_row2_col7, #T_4864f_row3_col1, #T_4864f_row3_col11, #T_4864f_row3_col12, #T_4864f_row4_col1, #T_4864f_row4_col5, #T_4864f_row4_col13, #T_4864f_row5_col0, #T_4864f_row5_col1, #T_4864f_row5_col4, #T_4864f_row5_col6, #T_4864f_row5_col11, #T_4864f_row5_col12, #T_4864f_row6_col2, #T_4864f_row6_col5, #T_4864f_row6_col8, #T_4864f_row6_col9, #T_4864f_row6_col10, #T_4864f_row6_col11, #T_4864f_row6_col12, #T_4864f_row6_col13, #T_4864f_row7_col1, #T_4864f_row7_col2, #T_4864f_row7_col9, #T_4864f_row7_col10, #T_4864f_row7_col13, #T_4864f_row8_col0, #T_4864f_row8_col1, #T_4864f_row8_col6, #T_4864f_row8_col11, #T_4864f_row8_col12, #T_4864f_row9_col0, #T_4864f_row9_col1, #T_4864f_row9_col6, #T_4864f_row9_col7, #T_4864f_row9_col10, #T_4864f_row9_col11, #T_4864f_row10_col0, #T_4864f_row10_col6, #T_4864f_row10_col7, #T_4864f_row10_col9, #T_4864f_row11_col0, #T_4864f_row11_col1, #T_4864f_row11_col3, #T_4864f_row11_col5, #T_4864f_row11_col6, #T_4864f_row11_col8, #T_4864f_row11_col9, #T_4864f_row12_col0, #T_4864f_row12_col1, #T_4864f_row12_col3, #T_4864f_row12_col5, #T_4864f_row12_col6, #T_4864f_row12_col8, #T_4864f_row13_col0, #T_4864f_row13_col4, #T_4864f_row13_col6, #T_4864f_row13_col7 {\n",
              "  background-color: #fff7fb;\n",
              "  color: #000000;\n",
              "}\n",
              "#T_4864f_row0_col3, #T_4864f_row3_col0, #T_4864f_row3_col5, #T_4864f_row5_col3 {\n",
              "  background-color: #f8f1f8;\n",
              "  color: #000000;\n",
              "}\n",
              "#T_4864f_row0_col4, #T_4864f_row4_col0, #T_4864f_row5_col10, #T_4864f_row8_col10, #T_4864f_row10_col5, #T_4864f_row10_col8 {\n",
              "  background-color: #fbf3f9;\n",
              "  color: #000000;\n",
              "}\n",
              "#T_4864f_row0_col6, #T_4864f_row6_col0 {\n",
              "  background-color: #b3c3de;\n",
              "  color: #000000;\n",
              "}\n",
              "#T_4864f_row0_col7, #T_4864f_row2_col12, #T_4864f_row7_col0, #T_4864f_row12_col2 {\n",
              "  background-color: #f0eaf4;\n",
              "  color: #000000;\n",
              "}\n",
              "#T_4864f_row1_col6, #T_4864f_row2_col11, #T_4864f_row6_col1, #T_4864f_row10_col13, #T_4864f_row11_col2, #T_4864f_row13_col10 {\n",
              "  background-color: #e6e2ef;\n",
              "  color: #000000;\n",
              "}\n",
              "#T_4864f_row1_col10, #T_4864f_row7_col12, #T_4864f_row10_col1, #T_4864f_row12_col7 {\n",
              "  background-color: #f5eef6;\n",
              "  color: #000000;\n",
              "}\n",
              "#T_4864f_row1_col13, #T_4864f_row13_col1 {\n",
              "  background-color: #f9f2f8;\n",
              "  color: #000000;\n",
              "}\n",
              "#T_4864f_row2_col3, #T_4864f_row3_col2 {\n",
              "  background-color: #c5cce3;\n",
              "  color: #000000;\n",
              "}\n",
              "#T_4864f_row2_col4, #T_4864f_row3_col13, #T_4864f_row4_col2, #T_4864f_row4_col9, #T_4864f_row5_col7, #T_4864f_row7_col5, #T_4864f_row8_col13, #T_4864f_row9_col4, #T_4864f_row12_col13, #T_4864f_row13_col3, #T_4864f_row13_col8, #T_4864f_row13_col12 {\n",
              "  background-color: #f7f0f7;\n",
              "  color: #000000;\n",
              "}\n",
              "#T_4864f_row2_col5, #T_4864f_row5_col2 {\n",
              "  background-color: #d8d7e9;\n",
              "  color: #000000;\n",
              "}\n",
              "#T_4864f_row2_col8, #T_4864f_row8_col2 {\n",
              "  background-color: #f1ebf4;\n",
              "  color: #000000;\n",
              "}\n",
              "#T_4864f_row2_col9, #T_4864f_row9_col2 {\n",
              "  background-color: #81aed2;\n",
              "  color: #f1f1f1;\n",
              "}\n",
              "#T_4864f_row2_col10, #T_4864f_row10_col2 {\n",
              "  background-color: #d9d8ea;\n",
              "  color: #000000;\n",
              "}\n",
              "#T_4864f_row2_col13, #T_4864f_row5_col8, #T_4864f_row8_col5, #T_4864f_row13_col2 {\n",
              "  background-color: #e2dfee;\n",
              "  color: #000000;\n",
              "}\n",
              "#T_4864f_row3_col4, #T_4864f_row4_col3 {\n",
              "  background-color: #89b1d4;\n",
              "  color: #000000;\n",
              "}\n",
              "#T_4864f_row3_col6, #T_4864f_row6_col3, #T_4864f_row10_col12, #T_4864f_row12_col10 {\n",
              "  background-color: #f3edf5;\n",
              "  color: #000000;\n",
              "}\n",
              "#T_4864f_row3_col7, #T_4864f_row7_col3 {\n",
              "  background-color: #e0dded;\n",
              "  color: #000000;\n",
              "}\n",
              "#T_4864f_row3_col8, #T_4864f_row8_col3 {\n",
              "  background-color: #d5d5e8;\n",
              "  color: #000000;\n",
              "}\n",
              "#T_4864f_row3_col9, #T_4864f_row7_col11, #T_4864f_row9_col3, #T_4864f_row11_col7 {\n",
              "  background-color: #f4edf6;\n",
              "  color: #000000;\n",
              "}\n",
              "#T_4864f_row3_col10, #T_4864f_row10_col3 {\n",
              "  background-color: #fef6fb;\n",
              "  color: #000000;\n",
              "}\n",
              "#T_4864f_row4_col6, #T_4864f_row6_col4 {\n",
              "  background-color: #eee9f3;\n",
              "  color: #000000;\n",
              "}\n",
              "#T_4864f_row4_col7, #T_4864f_row7_col4 {\n",
              "  background-color: #b4c4df;\n",
              "  color: #000000;\n",
              "}\n",
              "#T_4864f_row4_col8, #T_4864f_row8_col4 {\n",
              "  background-color: #a9bfdc;\n",
              "  color: #000000;\n",
              "}\n",
              "#T_4864f_row4_col10, #T_4864f_row4_col12, #T_4864f_row10_col4, #T_4864f_row12_col4 {\n",
              "  background-color: #fbf4f9;\n",
              "  color: #000000;\n",
              "}\n",
              "#T_4864f_row4_col11, #T_4864f_row10_col11, #T_4864f_row11_col4, #T_4864f_row11_col10 {\n",
              "  background-color: #fcf4fa;\n",
              "  color: #000000;\n",
              "}\n",
              "#T_4864f_row5_col9, #T_4864f_row9_col5 {\n",
              "  background-color: #b5c4df;\n",
              "  color: #000000;\n",
              "}\n",
              "#T_4864f_row5_col13, #T_4864f_row13_col5 {\n",
              "  background-color: #faf3f9;\n",
              "  color: #000000;\n",
              "}\n",
              "#T_4864f_row6_col7, #T_4864f_row7_col6 {\n",
              "  background-color: #cacee5;\n",
              "  color: #000000;\n",
              "}\n",
              "#T_4864f_row7_col8, #T_4864f_row8_col7 {\n",
              "  background-color: #d7d6e9;\n",
              "  color: #000000;\n",
              "}\n",
              "#T_4864f_row8_col9, #T_4864f_row9_col8 {\n",
              "  background-color: #dcdaeb;\n",
              "  color: #000000;\n",
              "}\n",
              "#T_4864f_row9_col12, #T_4864f_row12_col9 {\n",
              "  background-color: #f5eff6;\n",
              "  color: #000000;\n",
              "}\n",
              "#T_4864f_row9_col13, #T_4864f_row13_col9 {\n",
              "  background-color: #f2ecf5;\n",
              "  color: #000000;\n",
              "}\n",
              "#T_4864f_row11_col12, #T_4864f_row11_col13, #T_4864f_row12_col11, #T_4864f_row13_col11 {\n",
              "  background-color: #fdf5fa;\n",
              "  color: #000000;\n",
              "}\n",
              "</style>\n",
              "<table id=\"T_4864f\" class=\"dataframe\">\n",
              "  <thead>\n",
              "    <tr>\n",
              "      <th class=\"blank level0\" >&nbsp;</th>\n",
              "      <th id=\"T_4864f_level0_col0\" class=\"col_heading level0 col0\" >CreditPolicy</th>\n",
              "      <th id=\"T_4864f_level0_col1\" class=\"col_heading level0 col1\" >Purpose</th>\n",
              "      <th id=\"T_4864f_level0_col2\" class=\"col_heading level0 col2\" >IntRate</th>\n",
              "      <th id=\"T_4864f_level0_col3\" class=\"col_heading level0 col3\" >Installment</th>\n",
              "      <th id=\"T_4864f_level0_col4\" class=\"col_heading level0 col4\" >LogAnnualInc</th>\n",
              "      <th id=\"T_4864f_level0_col5\" class=\"col_heading level0 col5\" >Dti</th>\n",
              "      <th id=\"T_4864f_level0_col6\" class=\"col_heading level0 col6\" >Fico</th>\n",
              "      <th id=\"T_4864f_level0_col7\" class=\"col_heading level0 col7\" >DaysWithCrLine</th>\n",
              "      <th id=\"T_4864f_level0_col8\" class=\"col_heading level0 col8\" >RevolBal</th>\n",
              "      <th id=\"T_4864f_level0_col9\" class=\"col_heading level0 col9\" >RevolUtil</th>\n",
              "      <th id=\"T_4864f_level0_col10\" class=\"col_heading level0 col10\" >InqLast6mths</th>\n",
              "      <th id=\"T_4864f_level0_col11\" class=\"col_heading level0 col11\" >Delinq2yrs</th>\n",
              "      <th id=\"T_4864f_level0_col12\" class=\"col_heading level0 col12\" >PubRec</th>\n",
              "      <th id=\"T_4864f_level0_col13\" class=\"col_heading level0 col13\" >NotFullyPaid</th>\n",
              "    </tr>\n",
              "  </thead>\n",
              "  <tbody>\n",
              "    <tr>\n",
              "      <th id=\"T_4864f_level0_row0\" class=\"row_heading level0 row0\" >CreditPolicy</th>\n",
              "      <td id=\"T_4864f_row0_col0\" class=\"data row0 col0\" >1.000000</td>\n",
              "      <td id=\"T_4864f_row0_col1\" class=\"data row0 col1\" >-0.019332</td>\n",
              "      <td id=\"T_4864f_row0_col2\" class=\"data row0 col2\" >-0.291884</td>\n",
              "      <td id=\"T_4864f_row0_col3\" class=\"data row0 col3\" >0.047615</td>\n",
              "      <td id=\"T_4864f_row0_col4\" class=\"data row0 col4\" >0.028924</td>\n",
              "      <td id=\"T_4864f_row0_col5\" class=\"data row0 col5\" >-0.092240</td>\n",
              "      <td id=\"T_4864f_row0_col6\" class=\"data row0 col6\" >0.338114</td>\n",
              "      <td id=\"T_4864f_row0_col7\" class=\"data row0 col7\" >0.100385</td>\n",
              "      <td id=\"T_4864f_row0_col8\" class=\"data row0 col8\" >-0.197355</td>\n",
              "      <td id=\"T_4864f_row0_col9\" class=\"data row0 col9\" >-0.107751</td>\n",
              "      <td id=\"T_4864f_row0_col10\" class=\"data row0 col10\" >-0.531647</td>\n",
              "      <td id=\"T_4864f_row0_col11\" class=\"data row0 col11\" >-0.076343</td>\n",
              "      <td id=\"T_4864f_row0_col12\" class=\"data row0 col12\" >-0.049123</td>\n",
              "      <td id=\"T_4864f_row0_col13\" class=\"data row0 col13\" >-0.157570</td>\n",
              "    </tr>\n",
              "    <tr>\n",
              "      <th id=\"T_4864f_level0_row1\" class=\"row_heading level0 row1\" >Purpose</th>\n",
              "      <td id=\"T_4864f_row1_col0\" class=\"data row1 col0\" >-0.019332</td>\n",
              "      <td id=\"T_4864f_row1_col1\" class=\"data row1 col1\" >1.000000</td>\n",
              "      <td id=\"T_4864f_row1_col2\" class=\"data row1 col2\" >-0.076988</td>\n",
              "      <td id=\"T_4864f_row1_col3\" class=\"data row1 col3\" >-0.119135</td>\n",
              "      <td id=\"T_4864f_row1_col4\" class=\"data row1 col4\" >-0.012315</td>\n",
              "      <td id=\"T_4864f_row1_col5\" class=\"data row1 col5\" >-0.204358</td>\n",
              "      <td id=\"T_4864f_row1_col6\" class=\"data row1 col6\" >0.152963</td>\n",
              "      <td id=\"T_4864f_row1_col7\" class=\"data row1 col7\" >-0.006684</td>\n",
              "      <td id=\"T_4864f_row1_col8\" class=\"data row1 col8\" >-0.017474</td>\n",
              "      <td id=\"T_4864f_row1_col9\" class=\"data row1 col9\" >-0.242639</td>\n",
              "      <td id=\"T_4864f_row1_col10\" class=\"data row1 col10\" >0.066728</td>\n",
              "      <td id=\"T_4864f_row1_col11\" class=\"data row1 col11\" >-0.003130</td>\n",
              "      <td id=\"T_4864f_row1_col12\" class=\"data row1 col12\" >-0.020718</td>\n",
              "      <td id=\"T_4864f_row1_col13\" class=\"data row1 col13\" >0.041748</td>\n",
              "    </tr>\n",
              "    <tr>\n",
              "      <th id=\"T_4864f_level0_row2\" class=\"row_heading level0 row2\" >IntRate</th>\n",
              "      <td id=\"T_4864f_row2_col0\" class=\"data row2 col0\" >-0.291884</td>\n",
              "      <td id=\"T_4864f_row2_col1\" class=\"data row2 col1\" >-0.076988</td>\n",
              "      <td id=\"T_4864f_row2_col2\" class=\"data row2 col2\" >1.000000</td>\n",
              "      <td id=\"T_4864f_row2_col3\" class=\"data row2 col3\" >0.283605</td>\n",
              "      <td id=\"T_4864f_row2_col4\" class=\"data row2 col4\" >0.058441</td>\n",
              "      <td id=\"T_4864f_row2_col5\" class=\"data row2 col5\" >0.214974</td>\n",
              "      <td id=\"T_4864f_row2_col6\" class=\"data row2 col6\" >-0.720840</td>\n",
              "      <td id=\"T_4864f_row2_col7\" class=\"data row2 col7\" >-0.127703</td>\n",
              "      <td id=\"T_4864f_row2_col8\" class=\"data row2 col8\" >0.094677</td>\n",
              "      <td id=\"T_4864f_row2_col9\" class=\"data row2 col9\" >0.468537</td>\n",
              "      <td id=\"T_4864f_row2_col10\" class=\"data row2 col10\" >0.207613</td>\n",
              "      <td id=\"T_4864f_row2_col11\" class=\"data row2 col11\" >0.152605</td>\n",
              "      <td id=\"T_4864f_row2_col12\" class=\"data row2 col12\" >0.102243</td>\n",
              "      <td id=\"T_4864f_row2_col13\" class=\"data row2 col13\" >0.168616</td>\n",
              "    </tr>\n",
              "    <tr>\n",
              "      <th id=\"T_4864f_level0_row3\" class=\"row_heading level0 row3\" >Installment</th>\n",
              "      <td id=\"T_4864f_row3_col0\" class=\"data row3 col0\" >0.047615</td>\n",
              "      <td id=\"T_4864f_row3_col1\" class=\"data row3 col1\" >-0.119135</td>\n",
              "      <td id=\"T_4864f_row3_col2\" class=\"data row3 col2\" >0.283605</td>\n",
              "      <td id=\"T_4864f_row3_col3\" class=\"data row3 col3\" >1.000000</td>\n",
              "      <td id=\"T_4864f_row3_col4\" class=\"data row3 col4\" >0.447286</td>\n",
              "      <td id=\"T_4864f_row3_col5\" class=\"data row3 col5\" >0.048414</td>\n",
              "      <td id=\"T_4864f_row3_col6\" class=\"data row3 col6\" >0.078912</td>\n",
              "      <td id=\"T_4864f_row3_col7\" class=\"data row3 col7\" >0.181014</td>\n",
              "      <td id=\"T_4864f_row3_col8\" class=\"data row3 col8\" >0.229450</td>\n",
              "      <td id=\"T_4864f_row3_col9\" class=\"data row3 col9\" >0.077421</td>\n",
              "      <td id=\"T_4864f_row3_col10\" class=\"data row3 col10\" >0.006513</td>\n",
              "      <td id=\"T_4864f_row3_col11\" class=\"data row3 col11\" >-0.001173</td>\n",
              "      <td id=\"T_4864f_row3_col12\" class=\"data row3 col12\" >-0.025054</td>\n",
              "      <td id=\"T_4864f_row3_col13\" class=\"data row3 col13\" >0.058008</td>\n",
              "    </tr>\n",
              "    <tr>\n",
              "      <th id=\"T_4864f_level0_row4\" class=\"row_heading level0 row4\" >LogAnnualInc</th>\n",
              "      <td id=\"T_4864f_row4_col0\" class=\"data row4 col0\" >0.028924</td>\n",
              "      <td id=\"T_4864f_row4_col1\" class=\"data row4 col1\" >-0.012315</td>\n",
              "      <td id=\"T_4864f_row4_col2\" class=\"data row4 col2\" >0.058441</td>\n",
              "      <td id=\"T_4864f_row4_col3\" class=\"data row4 col3\" >0.447286</td>\n",
              "      <td id=\"T_4864f_row4_col4\" class=\"data row4 col4\" >1.000000</td>\n",
              "      <td id=\"T_4864f_row4_col5\" class=\"data row4 col5\" >-0.059817</td>\n",
              "      <td id=\"T_4864f_row4_col6\" class=\"data row4 col6\" >0.111067</td>\n",
              "      <td id=\"T_4864f_row4_col7\" class=\"data row4 col7\" >0.334421</td>\n",
              "      <td id=\"T_4864f_row4_col8\" class=\"data row4 col8\" >0.366397</td>\n",
              "      <td id=\"T_4864f_row4_col9\" class=\"data row4 col9\" >0.052256</td>\n",
              "      <td id=\"T_4864f_row4_col10\" class=\"data row4 col10\" >0.025398</td>\n",
              "      <td id=\"T_4864f_row4_col11\" class=\"data row4 col11\" >0.020203</td>\n",
              "      <td id=\"T_4864f_row4_col12\" class=\"data row4 col12\" >0.023490</td>\n",
              "      <td id=\"T_4864f_row4_col13\" class=\"data row4 col13\" >-0.039216</td>\n",
              "    </tr>\n",
              "    <tr>\n",
              "      <th id=\"T_4864f_level0_row5\" class=\"row_heading level0 row5\" >Dti</th>\n",
              "      <td id=\"T_4864f_row5_col0\" class=\"data row5 col0\" >-0.092240</td>\n",
              "      <td id=\"T_4864f_row5_col1\" class=\"data row5 col1\" >-0.204358</td>\n",
              "      <td id=\"T_4864f_row5_col2\" class=\"data row5 col2\" >0.214974</td>\n",
              "      <td id=\"T_4864f_row5_col3\" class=\"data row5 col3\" >0.048414</td>\n",
              "      <td id=\"T_4864f_row5_col4\" class=\"data row5 col4\" >-0.059817</td>\n",
              "      <td id=\"T_4864f_row5_col5\" class=\"data row5 col5\" >1.000000</td>\n",
              "      <td id=\"T_4864f_row5_col6\" class=\"data row5 col6\" >-0.242465</td>\n",
              "      <td id=\"T_4864f_row5_col7\" class=\"data row5 col7\" >0.056527</td>\n",
              "      <td id=\"T_4864f_row5_col8\" class=\"data row5 col8\" >0.170507</td>\n",
              "      <td id=\"T_4864f_row5_col9\" class=\"data row5 col9\" >0.330180</td>\n",
              "      <td id=\"T_4864f_row5_col10\" class=\"data row5 col10\" >0.030753</td>\n",
              "      <td id=\"T_4864f_row5_col11\" class=\"data row5 col11\" >-0.017384</td>\n",
              "      <td id=\"T_4864f_row5_col12\" class=\"data row5 col12\" >0.002224</td>\n",
              "      <td id=\"T_4864f_row5_col13\" class=\"data row5 col13\" >0.032918</td>\n",
              "    </tr>\n",
              "    <tr>\n",
              "      <th id=\"T_4864f_level0_row6\" class=\"row_heading level0 row6\" >Fico</th>\n",
              "      <td id=\"T_4864f_row6_col0\" class=\"data row6 col0\" >0.338114</td>\n",
              "      <td id=\"T_4864f_row6_col1\" class=\"data row6 col1\" >0.152963</td>\n",
              "      <td id=\"T_4864f_row6_col2\" class=\"data row6 col2\" >-0.720840</td>\n",
              "      <td id=\"T_4864f_row6_col3\" class=\"data row6 col3\" >0.078912</td>\n",
              "      <td id=\"T_4864f_row6_col4\" class=\"data row6 col4\" >0.111067</td>\n",
              "      <td id=\"T_4864f_row6_col5\" class=\"data row6 col5\" >-0.242465</td>\n",
              "      <td id=\"T_4864f_row6_col6\" class=\"data row6 col6\" >1.000000</td>\n",
              "      <td id=\"T_4864f_row6_col7\" class=\"data row6 col7\" >0.265899</td>\n",
              "      <td id=\"T_4864f_row6_col8\" class=\"data row6 col8\" >-0.021689</td>\n",
              "      <td id=\"T_4864f_row6_col9\" class=\"data row6 col9\" >-0.548775</td>\n",
              "      <td id=\"T_4864f_row6_col10\" class=\"data row6 col10\" >-0.183430</td>\n",
              "      <td id=\"T_4864f_row6_col11\" class=\"data row6 col11\" >-0.213879</td>\n",
              "      <td id=\"T_4864f_row6_col12\" class=\"data row6 col12\" >-0.144169</td>\n",
              "      <td id=\"T_4864f_row6_col13\" class=\"data row6 col13\" >-0.155927</td>\n",
              "    </tr>\n",
              "    <tr>\n",
              "      <th id=\"T_4864f_level0_row7\" class=\"row_heading level0 row7\" >DaysWithCrLine</th>\n",
              "      <td id=\"T_4864f_row7_col0\" class=\"data row7 col0\" >0.100385</td>\n",
              "      <td id=\"T_4864f_row7_col1\" class=\"data row7 col1\" >-0.006684</td>\n",
              "      <td id=\"T_4864f_row7_col2\" class=\"data row7 col2\" >-0.127703</td>\n",
              "      <td id=\"T_4864f_row7_col3\" class=\"data row7 col3\" >0.181014</td>\n",
              "      <td id=\"T_4864f_row7_col4\" class=\"data row7 col4\" >0.334421</td>\n",
              "      <td id=\"T_4864f_row7_col5\" class=\"data row7 col5\" >0.056527</td>\n",
              "      <td id=\"T_4864f_row7_col6\" class=\"data row7 col6\" >0.265899</td>\n",
              "      <td id=\"T_4864f_row7_col7\" class=\"data row7 col7\" >1.000000</td>\n",
              "      <td id=\"T_4864f_row7_col8\" class=\"data row7 col8\" >0.219154</td>\n",
              "      <td id=\"T_4864f_row7_col9\" class=\"data row7 col9\" >-0.025100</td>\n",
              "      <td id=\"T_4864f_row7_col10\" class=\"data row7 col10\" >-0.052753</td>\n",
              "      <td id=\"T_4864f_row7_col11\" class=\"data row7 col11\" >0.074616</td>\n",
              "      <td id=\"T_4864f_row7_col12\" class=\"data row7 col12\" >0.068426</td>\n",
              "      <td id=\"T_4864f_row7_col13\" class=\"data row7 col13\" >-0.036998</td>\n",
              "    </tr>\n",
              "    <tr>\n",
              "      <th id=\"T_4864f_level0_row8\" class=\"row_heading level0 row8\" >RevolBal</th>\n",
              "      <td id=\"T_4864f_row8_col0\" class=\"data row8 col0\" >-0.197355</td>\n",
              "      <td id=\"T_4864f_row8_col1\" class=\"data row8 col1\" >-0.017474</td>\n",
              "      <td id=\"T_4864f_row8_col2\" class=\"data row8 col2\" >0.094677</td>\n",
              "      <td id=\"T_4864f_row8_col3\" class=\"data row8 col3\" >0.229450</td>\n",
              "      <td id=\"T_4864f_row8_col4\" class=\"data row8 col4\" >0.366397</td>\n",
              "      <td id=\"T_4864f_row8_col5\" class=\"data row8 col5\" >0.170507</td>\n",
              "      <td id=\"T_4864f_row8_col6\" class=\"data row8 col6\" >-0.021689</td>\n",
              "      <td id=\"T_4864f_row8_col7\" class=\"data row8 col7\" >0.219154</td>\n",
              "      <td id=\"T_4864f_row8_col8\" class=\"data row8 col8\" >1.000000</td>\n",
              "      <td id=\"T_4864f_row8_col9\" class=\"data row8 col9\" >0.195773</td>\n",
              "      <td id=\"T_4864f_row8_col10\" class=\"data row8 col10\" >0.027944</td>\n",
              "      <td id=\"T_4864f_row8_col11\" class=\"data row8 col11\" >-0.032802</td>\n",
              "      <td id=\"T_4864f_row8_col12\" class=\"data row8 col12\" >-0.027137</td>\n",
              "      <td id=\"T_4864f_row8_col13\" class=\"data row8 col13\" >0.055901</td>\n",
              "    </tr>\n",
              "    <tr>\n",
              "      <th id=\"T_4864f_level0_row9\" class=\"row_heading level0 row9\" >RevolUtil</th>\n",
              "      <td id=\"T_4864f_row9_col0\" class=\"data row9 col0\" >-0.107751</td>\n",
              "      <td id=\"T_4864f_row9_col1\" class=\"data row9 col1\" >-0.242639</td>\n",
              "      <td id=\"T_4864f_row9_col2\" class=\"data row9 col2\" >0.468537</td>\n",
              "      <td id=\"T_4864f_row9_col3\" class=\"data row9 col3\" >0.077421</td>\n",
              "      <td id=\"T_4864f_row9_col4\" class=\"data row9 col4\" >0.052256</td>\n",
              "      <td id=\"T_4864f_row9_col5\" class=\"data row9 col5\" >0.330180</td>\n",
              "      <td id=\"T_4864f_row9_col6\" class=\"data row9 col6\" >-0.548775</td>\n",
              "      <td id=\"T_4864f_row9_col7\" class=\"data row9 col7\" >-0.025100</td>\n",
              "      <td id=\"T_4864f_row9_col8\" class=\"data row9 col8\" >0.195773</td>\n",
              "      <td id=\"T_4864f_row9_col9\" class=\"data row9 col9\" >1.000000</td>\n",
              "      <td id=\"T_4864f_row9_col10\" class=\"data row9 col10\" >-0.010282</td>\n",
              "      <td id=\"T_4864f_row9_col11\" class=\"data row9 col11\" >-0.039675</td>\n",
              "      <td id=\"T_4864f_row9_col12\" class=\"data row9 col12\" >0.066043</td>\n",
              "      <td id=\"T_4864f_row9_col13\" class=\"data row9 col13\" >0.087482</td>\n",
              "    </tr>\n",
              "    <tr>\n",
              "      <th id=\"T_4864f_level0_row10\" class=\"row_heading level0 row10\" >InqLast6mths</th>\n",
              "      <td id=\"T_4864f_row10_col0\" class=\"data row10 col0\" >-0.531647</td>\n",
              "      <td id=\"T_4864f_row10_col1\" class=\"data row10 col1\" >0.066728</td>\n",
              "      <td id=\"T_4864f_row10_col2\" class=\"data row10 col2\" >0.207613</td>\n",
              "      <td id=\"T_4864f_row10_col3\" class=\"data row10 col3\" >0.006513</td>\n",
              "      <td id=\"T_4864f_row10_col4\" class=\"data row10 col4\" >0.025398</td>\n",
              "      <td id=\"T_4864f_row10_col5\" class=\"data row10 col5\" >0.030753</td>\n",
              "      <td id=\"T_4864f_row10_col6\" class=\"data row10 col6\" >-0.183430</td>\n",
              "      <td id=\"T_4864f_row10_col7\" class=\"data row10 col7\" >-0.052753</td>\n",
              "      <td id=\"T_4864f_row10_col8\" class=\"data row10 col8\" >0.027944</td>\n",
              "      <td id=\"T_4864f_row10_col9\" class=\"data row10 col9\" >-0.010282</td>\n",
              "      <td id=\"T_4864f_row10_col10\" class=\"data row10 col10\" >1.000000</td>\n",
              "      <td id=\"T_4864f_row10_col11\" class=\"data row10 col11\" >0.021186</td>\n",
              "      <td id=\"T_4864f_row10_col12\" class=\"data row10 col12\" >0.079051</td>\n",
              "      <td id=\"T_4864f_row10_col13\" class=\"data row10 col13\" >0.154501</td>\n",
              "    </tr>\n",
              "    <tr>\n",
              "      <th id=\"T_4864f_level0_row11\" class=\"row_heading level0 row11\" >Delinq2yrs</th>\n",
              "      <td id=\"T_4864f_row11_col0\" class=\"data row11 col0\" >-0.076343</td>\n",
              "      <td id=\"T_4864f_row11_col1\" class=\"data row11 col1\" >-0.003130</td>\n",
              "      <td id=\"T_4864f_row11_col2\" class=\"data row11 col2\" >0.152605</td>\n",
              "      <td id=\"T_4864f_row11_col3\" class=\"data row11 col3\" >-0.001173</td>\n",
              "      <td id=\"T_4864f_row11_col4\" class=\"data row11 col4\" >0.020203</td>\n",
              "      <td id=\"T_4864f_row11_col5\" class=\"data row11 col5\" >-0.017384</td>\n",
              "      <td id=\"T_4864f_row11_col6\" class=\"data row11 col6\" >-0.213879</td>\n",
              "      <td id=\"T_4864f_row11_col7\" class=\"data row11 col7\" >0.074616</td>\n",
              "      <td id=\"T_4864f_row11_col8\" class=\"data row11 col8\" >-0.032802</td>\n",
              "      <td id=\"T_4864f_row11_col9\" class=\"data row11 col9\" >-0.039675</td>\n",
              "      <td id=\"T_4864f_row11_col10\" class=\"data row11 col10\" >0.021186</td>\n",
              "      <td id=\"T_4864f_row11_col11\" class=\"data row11 col11\" >1.000000</td>\n",
              "      <td id=\"T_4864f_row11_col12\" class=\"data row11 col12\" >0.014282</td>\n",
              "      <td id=\"T_4864f_row11_col13\" class=\"data row11 col13\" >0.017442</td>\n",
              "    </tr>\n",
              "    <tr>\n",
              "      <th id=\"T_4864f_level0_row12\" class=\"row_heading level0 row12\" >PubRec</th>\n",
              "      <td id=\"T_4864f_row12_col0\" class=\"data row12 col0\" >-0.049123</td>\n",
              "      <td id=\"T_4864f_row12_col1\" class=\"data row12 col1\" >-0.020718</td>\n",
              "      <td id=\"T_4864f_row12_col2\" class=\"data row12 col2\" >0.102243</td>\n",
              "      <td id=\"T_4864f_row12_col3\" class=\"data row12 col3\" >-0.025054</td>\n",
              "      <td id=\"T_4864f_row12_col4\" class=\"data row12 col4\" >0.023490</td>\n",
              "      <td id=\"T_4864f_row12_col5\" class=\"data row12 col5\" >0.002224</td>\n",
              "      <td id=\"T_4864f_row12_col6\" class=\"data row12 col6\" >-0.144169</td>\n",
              "      <td id=\"T_4864f_row12_col7\" class=\"data row12 col7\" >0.068426</td>\n",
              "      <td id=\"T_4864f_row12_col8\" class=\"data row12 col8\" >-0.027137</td>\n",
              "      <td id=\"T_4864f_row12_col9\" class=\"data row12 col9\" >0.066043</td>\n",
              "      <td id=\"T_4864f_row12_col10\" class=\"data row12 col10\" >0.079051</td>\n",
              "      <td id=\"T_4864f_row12_col11\" class=\"data row12 col11\" >0.014282</td>\n",
              "      <td id=\"T_4864f_row12_col12\" class=\"data row12 col12\" >1.000000</td>\n",
              "      <td id=\"T_4864f_row12_col13\" class=\"data row12 col13\" >0.056601</td>\n",
              "    </tr>\n",
              "    <tr>\n",
              "      <th id=\"T_4864f_level0_row13\" class=\"row_heading level0 row13\" >NotFullyPaid</th>\n",
              "      <td id=\"T_4864f_row13_col0\" class=\"data row13 col0\" >-0.157570</td>\n",
              "      <td id=\"T_4864f_row13_col1\" class=\"data row13 col1\" >0.041748</td>\n",
              "      <td id=\"T_4864f_row13_col2\" class=\"data row13 col2\" >0.168616</td>\n",
              "      <td id=\"T_4864f_row13_col3\" class=\"data row13 col3\" >0.058008</td>\n",
              "      <td id=\"T_4864f_row13_col4\" class=\"data row13 col4\" >-0.039216</td>\n",
              "      <td id=\"T_4864f_row13_col5\" class=\"data row13 col5\" >0.032918</td>\n",
              "      <td id=\"T_4864f_row13_col6\" class=\"data row13 col6\" >-0.155927</td>\n",
              "      <td id=\"T_4864f_row13_col7\" class=\"data row13 col7\" >-0.036998</td>\n",
              "      <td id=\"T_4864f_row13_col8\" class=\"data row13 col8\" >0.055901</td>\n",
              "      <td id=\"T_4864f_row13_col9\" class=\"data row13 col9\" >0.087482</td>\n",
              "      <td id=\"T_4864f_row13_col10\" class=\"data row13 col10\" >0.154501</td>\n",
              "      <td id=\"T_4864f_row13_col11\" class=\"data row13 col11\" >0.017442</td>\n",
              "      <td id=\"T_4864f_row13_col12\" class=\"data row13 col12\" >0.056601</td>\n",
              "      <td id=\"T_4864f_row13_col13\" class=\"data row13 col13\" >1.000000</td>\n",
              "    </tr>\n",
              "  </tbody>\n",
              "</table>\n"
            ]
          },
          "metadata": {},
          "execution_count": 19
        }
      ]
    },
    {
      "cell_type": "markdown",
      "source": [
        "# b_ii\n",
        "\n",
        "Use the model you just built to make predictions for the observations in the test set.\n",
        "\n",
        "What is the highest predicted probability of a loan not being paid back in fullt on test set?\n",
        "> Prob.max() = 45.15%\n",
        "\n",
        "How many loans would we predict would not be paid back in full if we used a threshold of 0.5 to make predictions?\n",
        "> 0"
      ],
      "metadata": {
        "id": "ccx8XvfmOHt1"
      }
    },
    {
      "cell_type": "code",
      "source": [
        "# Predict against test set\n",
        "NFP_intrate_test = model_results_intrate.predict(df_loans_test)\n",
        "\n",
        "#Store in new column\n",
        "df_loans_test['PredRisk_IntRateOnly'] = NFP_intrate_test\n",
        "\n",
        "print(NFP_intrate_test.max())"
      ],
      "metadata": {
        "colab": {
          "base_uri": "https://localhost:8080/"
        },
        "id": "0qV9BGA3Kn5w",
        "outputId": "f8680ec4-38de-420a-b3e8-68935973344a"
      },
      "execution_count": 20,
      "outputs": [
        {
          "output_type": "stream",
          "name": "stdout",
          "text": [
            "0.4515366238129087\n"
          ]
        }
      ]
    },
    {
      "cell_type": "code",
      "source": [
        "#\n",
        "loan_paid_test = NFP_intrate_test < 0.5\n",
        "loan_debt_test = NFP_intrate_test > 0.5\n",
        "\n",
        "confusion_matrix_test = pd.crosstab(df_loans_test['NotFullyPaid'], loan_paid_test)\n",
        "print(confusion_matrix_test)"
      ],
      "metadata": {
        "colab": {
          "base_uri": "https://localhost:8080/"
        },
        "id": "frRnZoi6PYuM",
        "outputId": "bb42238e-7562-4e35-aae7-b15412087c82"
      },
      "execution_count": 21,
      "outputs": [
        {
          "output_type": "stream",
          "name": "stdout",
          "text": [
            "col_0         True\n",
            "NotFullyPaid      \n",
            "0             2420\n",
            "1              454\n"
          ]
        }
      ]
    },
    {
      "cell_type": "code",
      "source": [
        "df_loans_test.head()"
      ],
      "metadata": {
        "colab": {
          "base_uri": "https://localhost:8080/",
          "height": 206
        },
        "id": "G8sA_tyHS7jv",
        "outputId": "15196934-8a7e-441d-a844-e35261bf2686"
      },
      "execution_count": 22,
      "outputs": [
        {
          "output_type": "execute_result",
          "data": {
            "text/plain": [
              "      CreditPolicy  Purpose  IntRate  Installment  LogAnnualInc    Dti  Fico  \\\n",
              "3409             1        0   0.1442       343.83     11.002100   3.68   667   \n",
              "8289             0        2   0.1229        50.03     10.308953  14.12   662   \n",
              "9293             0        2   0.1461       103.43     10.491274  22.13   667   \n",
              "3839             1        1   0.0932       159.74     11.050890  13.79   737   \n",
              "9050             0        4   0.1663       115.28      8.987197   6.30   707   \n",
              "\n",
              "      DaysWithCrLine  RevolBal  RevolUtil  InqLast6mths  Delinq2yrs  PubRec  \\\n",
              "3409    14133.000000      6383       30.1             1           2       0   \n",
              "8289      660.041667       669        7.5             1           0       0   \n",
              "9293     2940.000000     37617       89.4             0           0       0   \n",
              "3839     3630.000000      5163       28.1             1           0       0   \n",
              "9050      660.000000         0        0.0             2           0       0   \n",
              "\n",
              "      NotFullyPaid  PredictedRisk  PredRisk_IntRateOnly  \n",
              "3409             0       0.154846              0.205037  \n",
              "8289             0       0.189923              0.151975  \n",
              "9293             0       0.232585              0.210382  \n",
              "3839             0       0.065019              0.097364  \n",
              "9050             0       0.356151              0.273420  "
            ],
            "text/html": [
              "\n",
              "  <div id=\"df-e9740ed9-4d44-41dd-b2fb-e22f822d7983\" class=\"colab-df-container\">\n",
              "    <div>\n",
              "<style scoped>\n",
              "    .dataframe tbody tr th:only-of-type {\n",
              "        vertical-align: middle;\n",
              "    }\n",
              "\n",
              "    .dataframe tbody tr th {\n",
              "        vertical-align: top;\n",
              "    }\n",
              "\n",
              "    .dataframe thead th {\n",
              "        text-align: right;\n",
              "    }\n",
              "</style>\n",
              "<table border=\"1\" class=\"dataframe\">\n",
              "  <thead>\n",
              "    <tr style=\"text-align: right;\">\n",
              "      <th></th>\n",
              "      <th>CreditPolicy</th>\n",
              "      <th>Purpose</th>\n",
              "      <th>IntRate</th>\n",
              "      <th>Installment</th>\n",
              "      <th>LogAnnualInc</th>\n",
              "      <th>Dti</th>\n",
              "      <th>Fico</th>\n",
              "      <th>DaysWithCrLine</th>\n",
              "      <th>RevolBal</th>\n",
              "      <th>RevolUtil</th>\n",
              "      <th>InqLast6mths</th>\n",
              "      <th>Delinq2yrs</th>\n",
              "      <th>PubRec</th>\n",
              "      <th>NotFullyPaid</th>\n",
              "      <th>PredictedRisk</th>\n",
              "      <th>PredRisk_IntRateOnly</th>\n",
              "    </tr>\n",
              "  </thead>\n",
              "  <tbody>\n",
              "    <tr>\n",
              "      <th>3409</th>\n",
              "      <td>1</td>\n",
              "      <td>0</td>\n",
              "      <td>0.1442</td>\n",
              "      <td>343.83</td>\n",
              "      <td>11.002100</td>\n",
              "      <td>3.68</td>\n",
              "      <td>667</td>\n",
              "      <td>14133.000000</td>\n",
              "      <td>6383</td>\n",
              "      <td>30.1</td>\n",
              "      <td>1</td>\n",
              "      <td>2</td>\n",
              "      <td>0</td>\n",
              "      <td>0</td>\n",
              "      <td>0.154846</td>\n",
              "      <td>0.205037</td>\n",
              "    </tr>\n",
              "    <tr>\n",
              "      <th>8289</th>\n",
              "      <td>0</td>\n",
              "      <td>2</td>\n",
              "      <td>0.1229</td>\n",
              "      <td>50.03</td>\n",
              "      <td>10.308953</td>\n",
              "      <td>14.12</td>\n",
              "      <td>662</td>\n",
              "      <td>660.041667</td>\n",
              "      <td>669</td>\n",
              "      <td>7.5</td>\n",
              "      <td>1</td>\n",
              "      <td>0</td>\n",
              "      <td>0</td>\n",
              "      <td>0</td>\n",
              "      <td>0.189923</td>\n",
              "      <td>0.151975</td>\n",
              "    </tr>\n",
              "    <tr>\n",
              "      <th>9293</th>\n",
              "      <td>0</td>\n",
              "      <td>2</td>\n",
              "      <td>0.1461</td>\n",
              "      <td>103.43</td>\n",
              "      <td>10.491274</td>\n",
              "      <td>22.13</td>\n",
              "      <td>667</td>\n",
              "      <td>2940.000000</td>\n",
              "      <td>37617</td>\n",
              "      <td>89.4</td>\n",
              "      <td>0</td>\n",
              "      <td>0</td>\n",
              "      <td>0</td>\n",
              "      <td>0</td>\n",
              "      <td>0.232585</td>\n",
              "      <td>0.210382</td>\n",
              "    </tr>\n",
              "    <tr>\n",
              "      <th>3839</th>\n",
              "      <td>1</td>\n",
              "      <td>1</td>\n",
              "      <td>0.0932</td>\n",
              "      <td>159.74</td>\n",
              "      <td>11.050890</td>\n",
              "      <td>13.79</td>\n",
              "      <td>737</td>\n",
              "      <td>3630.000000</td>\n",
              "      <td>5163</td>\n",
              "      <td>28.1</td>\n",
              "      <td>1</td>\n",
              "      <td>0</td>\n",
              "      <td>0</td>\n",
              "      <td>0</td>\n",
              "      <td>0.065019</td>\n",
              "      <td>0.097364</td>\n",
              "    </tr>\n",
              "    <tr>\n",
              "      <th>9050</th>\n",
              "      <td>0</td>\n",
              "      <td>4</td>\n",
              "      <td>0.1663</td>\n",
              "      <td>115.28</td>\n",
              "      <td>8.987197</td>\n",
              "      <td>6.30</td>\n",
              "      <td>707</td>\n",
              "      <td>660.000000</td>\n",
              "      <td>0</td>\n",
              "      <td>0.0</td>\n",
              "      <td>2</td>\n",
              "      <td>0</td>\n",
              "      <td>0</td>\n",
              "      <td>0</td>\n",
              "      <td>0.356151</td>\n",
              "      <td>0.273420</td>\n",
              "    </tr>\n",
              "  </tbody>\n",
              "</table>\n",
              "</div>\n",
              "    <div class=\"colab-df-buttons\">\n",
              "\n",
              "  <div class=\"colab-df-container\">\n",
              "    <button class=\"colab-df-convert\" onclick=\"convertToInteractive('df-e9740ed9-4d44-41dd-b2fb-e22f822d7983')\"\n",
              "            title=\"Convert this dataframe to an interactive table.\"\n",
              "            style=\"display:none;\">\n",
              "\n",
              "  <svg xmlns=\"http://www.w3.org/2000/svg\" height=\"24px\" viewBox=\"0 -960 960 960\">\n",
              "    <path d=\"M120-120v-720h720v720H120Zm60-500h600v-160H180v160Zm220 220h160v-160H400v160Zm0 220h160v-160H400v160ZM180-400h160v-160H180v160Zm440 0h160v-160H620v160ZM180-180h160v-160H180v160Zm440 0h160v-160H620v160Z\"/>\n",
              "  </svg>\n",
              "    </button>\n",
              "\n",
              "  <style>\n",
              "    .colab-df-container {\n",
              "      display:flex;\n",
              "      gap: 12px;\n",
              "    }\n",
              "\n",
              "    .colab-df-convert {\n",
              "      background-color: #E8F0FE;\n",
              "      border: none;\n",
              "      border-radius: 50%;\n",
              "      cursor: pointer;\n",
              "      display: none;\n",
              "      fill: #1967D2;\n",
              "      height: 32px;\n",
              "      padding: 0 0 0 0;\n",
              "      width: 32px;\n",
              "    }\n",
              "\n",
              "    .colab-df-convert:hover {\n",
              "      background-color: #E2EBFA;\n",
              "      box-shadow: 0px 1px 2px rgba(60, 64, 67, 0.3), 0px 1px 3px 1px rgba(60, 64, 67, 0.15);\n",
              "      fill: #174EA6;\n",
              "    }\n",
              "\n",
              "    .colab-df-buttons div {\n",
              "      margin-bottom: 4px;\n",
              "    }\n",
              "\n",
              "    [theme=dark] .colab-df-convert {\n",
              "      background-color: #3B4455;\n",
              "      fill: #D2E3FC;\n",
              "    }\n",
              "\n",
              "    [theme=dark] .colab-df-convert:hover {\n",
              "      background-color: #434B5C;\n",
              "      box-shadow: 0px 1px 3px 1px rgba(0, 0, 0, 0.15);\n",
              "      filter: drop-shadow(0px 1px 2px rgba(0, 0, 0, 0.3));\n",
              "      fill: #FFFFFF;\n",
              "    }\n",
              "  </style>\n",
              "\n",
              "    <script>\n",
              "      const buttonEl =\n",
              "        document.querySelector('#df-e9740ed9-4d44-41dd-b2fb-e22f822d7983 button.colab-df-convert');\n",
              "      buttonEl.style.display =\n",
              "        google.colab.kernel.accessAllowed ? 'block' : 'none';\n",
              "\n",
              "      async function convertToInteractive(key) {\n",
              "        const element = document.querySelector('#df-e9740ed9-4d44-41dd-b2fb-e22f822d7983');\n",
              "        const dataTable =\n",
              "          await google.colab.kernel.invokeFunction('convertToInteractive',\n",
              "                                                    [key], {});\n",
              "        if (!dataTable) return;\n",
              "\n",
              "        const docLinkHtml = 'Like what you see? Visit the ' +\n",
              "          '<a target=\"_blank\" href=https://colab.research.google.com/notebooks/data_table.ipynb>data table notebook</a>'\n",
              "          + ' to learn more about interactive tables.';\n",
              "        element.innerHTML = '';\n",
              "        dataTable['output_type'] = 'display_data';\n",
              "        await google.colab.output.renderOutput(dataTable, element);\n",
              "        const docLink = document.createElement('div');\n",
              "        docLink.innerHTML = docLinkHtml;\n",
              "        element.appendChild(docLink);\n",
              "      }\n",
              "    </script>\n",
              "  </div>\n",
              "\n",
              "\n",
              "<div id=\"df-541735dc-bc61-4364-b963-e05fa6c54f98\">\n",
              "  <button class=\"colab-df-quickchart\" onclick=\"quickchart('df-541735dc-bc61-4364-b963-e05fa6c54f98')\"\n",
              "            title=\"Suggest charts\"\n",
              "            style=\"display:none;\">\n",
              "\n",
              "<svg xmlns=\"http://www.w3.org/2000/svg\" height=\"24px\"viewBox=\"0 0 24 24\"\n",
              "     width=\"24px\">\n",
              "    <g>\n",
              "        <path d=\"M19 3H5c-1.1 0-2 .9-2 2v14c0 1.1.9 2 2 2h14c1.1 0 2-.9 2-2V5c0-1.1-.9-2-2-2zM9 17H7v-7h2v7zm4 0h-2V7h2v10zm4 0h-2v-4h2v4z\"/>\n",
              "    </g>\n",
              "</svg>\n",
              "  </button>\n",
              "\n",
              "<style>\n",
              "  .colab-df-quickchart {\n",
              "      --bg-color: #E8F0FE;\n",
              "      --fill-color: #1967D2;\n",
              "      --hover-bg-color: #E2EBFA;\n",
              "      --hover-fill-color: #174EA6;\n",
              "      --disabled-fill-color: #AAA;\n",
              "      --disabled-bg-color: #DDD;\n",
              "  }\n",
              "\n",
              "  [theme=dark] .colab-df-quickchart {\n",
              "      --bg-color: #3B4455;\n",
              "      --fill-color: #D2E3FC;\n",
              "      --hover-bg-color: #434B5C;\n",
              "      --hover-fill-color: #FFFFFF;\n",
              "      --disabled-bg-color: #3B4455;\n",
              "      --disabled-fill-color: #666;\n",
              "  }\n",
              "\n",
              "  .colab-df-quickchart {\n",
              "    background-color: var(--bg-color);\n",
              "    border: none;\n",
              "    border-radius: 50%;\n",
              "    cursor: pointer;\n",
              "    display: none;\n",
              "    fill: var(--fill-color);\n",
              "    height: 32px;\n",
              "    padding: 0;\n",
              "    width: 32px;\n",
              "  }\n",
              "\n",
              "  .colab-df-quickchart:hover {\n",
              "    background-color: var(--hover-bg-color);\n",
              "    box-shadow: 0 1px 2px rgba(60, 64, 67, 0.3), 0 1px 3px 1px rgba(60, 64, 67, 0.15);\n",
              "    fill: var(--button-hover-fill-color);\n",
              "  }\n",
              "\n",
              "  .colab-df-quickchart-complete:disabled,\n",
              "  .colab-df-quickchart-complete:disabled:hover {\n",
              "    background-color: var(--disabled-bg-color);\n",
              "    fill: var(--disabled-fill-color);\n",
              "    box-shadow: none;\n",
              "  }\n",
              "\n",
              "  .colab-df-spinner {\n",
              "    border: 2px solid var(--fill-color);\n",
              "    border-color: transparent;\n",
              "    border-bottom-color: var(--fill-color);\n",
              "    animation:\n",
              "      spin 1s steps(1) infinite;\n",
              "  }\n",
              "\n",
              "  @keyframes spin {\n",
              "    0% {\n",
              "      border-color: transparent;\n",
              "      border-bottom-color: var(--fill-color);\n",
              "      border-left-color: var(--fill-color);\n",
              "    }\n",
              "    20% {\n",
              "      border-color: transparent;\n",
              "      border-left-color: var(--fill-color);\n",
              "      border-top-color: var(--fill-color);\n",
              "    }\n",
              "    30% {\n",
              "      border-color: transparent;\n",
              "      border-left-color: var(--fill-color);\n",
              "      border-top-color: var(--fill-color);\n",
              "      border-right-color: var(--fill-color);\n",
              "    }\n",
              "    40% {\n",
              "      border-color: transparent;\n",
              "      border-right-color: var(--fill-color);\n",
              "      border-top-color: var(--fill-color);\n",
              "    }\n",
              "    60% {\n",
              "      border-color: transparent;\n",
              "      border-right-color: var(--fill-color);\n",
              "    }\n",
              "    80% {\n",
              "      border-color: transparent;\n",
              "      border-right-color: var(--fill-color);\n",
              "      border-bottom-color: var(--fill-color);\n",
              "    }\n",
              "    90% {\n",
              "      border-color: transparent;\n",
              "      border-bottom-color: var(--fill-color);\n",
              "    }\n",
              "  }\n",
              "</style>\n",
              "\n",
              "  <script>\n",
              "    async function quickchart(key) {\n",
              "      const quickchartButtonEl =\n",
              "        document.querySelector('#' + key + ' button');\n",
              "      quickchartButtonEl.disabled = true;  // To prevent multiple clicks.\n",
              "      quickchartButtonEl.classList.add('colab-df-spinner');\n",
              "      try {\n",
              "        const charts = await google.colab.kernel.invokeFunction(\n",
              "            'suggestCharts', [key], {});\n",
              "      } catch (error) {\n",
              "        console.error('Error during call to suggestCharts:', error);\n",
              "      }\n",
              "      quickchartButtonEl.classList.remove('colab-df-spinner');\n",
              "      quickchartButtonEl.classList.add('colab-df-quickchart-complete');\n",
              "    }\n",
              "    (() => {\n",
              "      let quickchartButtonEl =\n",
              "        document.querySelector('#df-541735dc-bc61-4364-b963-e05fa6c54f98 button');\n",
              "      quickchartButtonEl.style.display =\n",
              "        google.colab.kernel.accessAllowed ? 'block' : 'none';\n",
              "    })();\n",
              "  </script>\n",
              "</div>\n",
              "    </div>\n",
              "  </div>\n"
            ]
          },
          "metadata": {},
          "execution_count": 22
        }
      ]
    },
    {
      "cell_type": "markdown",
      "source": [
        "# b_iii\n",
        "\n",
        "Compute the test set AUC of the model.\n",
        "\n",
        "How does this compare to the model using all the independent variables?\n",
        "> AUC = 0.60 which is less than the model with all ind. variables (AUC_all = 0.65).\n",
        "\n",
        "In your opinion which model is stronger?\n",
        "> Accuracy is stronger at 84.20% but with threshold set to 0.5, the AUC is too low and does not give me confidence in this model.\n",
        "\n",
        "> I would continue to fine-tune the threshold value for this model, in order to prove significance of IntRate alone as a predictor in loans NotFullyPaid\n",
        "\n",
        "> Additionally, this model is slight more risk prone than the previous model. From an investor's persepective, I would use the previous model"
      ],
      "metadata": {
        "id": "KMWqBj_QSJyk"
      }
    },
    {
      "cell_type": "code",
      "source": [
        "roc_auc_score(df_loans_test['NotFullyPaid'], df_loans_test['PredRisk_IntRateOnly'])"
      ],
      "metadata": {
        "colab": {
          "base_uri": "https://localhost:8080/"
        },
        "id": "i_tE3FojQfyG",
        "outputId": "0541e9a8-5136-4b43-eb1c-68baeab1fed1"
      },
      "execution_count": 23,
      "outputs": [
        {
          "output_type": "execute_result",
          "data": {
            "text/plain": [
              "0.6033831506899189"
            ]
          },
          "metadata": {},
          "execution_count": 23
        }
      ]
    },
    {
      "cell_type": "code",
      "source": [
        "# Accuracy TP / N_sum\n",
        "TP_test = 2420\n",
        "FP_test = 454\n",
        "N_test = TP+FP\n",
        "acc_intrate_test = TP_test/N_test\n",
        "print(acc_intrate_test)"
      ],
      "metadata": {
        "colab": {
          "base_uri": "https://localhost:8080/"
        },
        "id": "jc_BhdqASnuV",
        "outputId": "69a9fbae-91ad-439c-a258-8253163335de"
      },
      "execution_count": 24,
      "outputs": [
        {
          "output_type": "stream",
          "name": "stdout",
          "text": [
            "0.848229933403435\n"
          ]
        }
      ]
    },
    {
      "cell_type": "code",
      "source": [
        "# Precision Metric\n",
        "    #   TP/(TP+FP)\n",
        "    #   ability to correctly identify class 1 among the predicted (these are column calculations)\n",
        "precision_test = TP_test/(TP_test+FP_test)\n",
        "print(precision_test)\n",
        "\n",
        "# Recall\n",
        "    #   TP/(TP+FN)\n",
        "    #   ability to correctly identify something among that actually exists (these are row calculations)\n",
        "recall_test = TP_test/(TP_test)\n",
        "print(recall_test)\n",
        "\n",
        "f1_score_test = 2*recall_test*precision_test/(recall_test+precision_test)\n",
        "print(f1_score_test)"
      ],
      "metadata": {
        "colab": {
          "base_uri": "https://localhost:8080/"
        },
        "id": "yAIxBPigJLdI",
        "outputId": "70f52781-955f-459d-9113-3421eb20223c"
      },
      "execution_count": 25,
      "outputs": [
        {
          "output_type": "stream",
          "name": "stdout",
          "text": [
            "0.8420320111343076\n",
            "1.0\n",
            "0.9142425387230827\n"
          ]
        }
      ]
    },
    {
      "cell_type": "markdown",
      "source": [
        "# c\n",
        "\n",
        "Let us now see how our logistic regression model can be used to identify loans that are expected to be profitable.\n"
      ],
      "metadata": {
        "id": "tTzpmFSdXaYa"
      }
    },
    {
      "cell_type": "markdown",
      "source": [
        "# c_i\n",
        "\n",
        "If the loan is paid back in full, then the investor makes interest on the loan. However, if the loan is not paid back, the investor loses money invested. Therefore, investor should seek loans that best balance risk vs reward.\n",
        "\n",
        "To compute interest revenue consider an investment, 'c', with annual interest rate, 'r', over a period of 't' years.\n",
        "Compound interest = c * exp ** rt\n",
        "\n",
        "How much does a $10 investment with r = 6% after 3 years pay?\n",
        "> 11.97"
      ],
      "metadata": {
        "id": "SNSvvpNHXh5w"
      }
    },
    {
      "cell_type": "code",
      "source": [
        "\n",
        "c = 10\n",
        "r = 0.06\n",
        "t = 3\n",
        "\n",
        "# Revenue\n",
        "Revenue = c*(np.exp(r*t))\n",
        "print(Revenue)"
      ],
      "metadata": {
        "colab": {
          "base_uri": "https://localhost:8080/"
        },
        "id": "adlbTHBLVpOf",
        "outputId": "a66c10ba-c58e-4f86-9bef-27b9cf60b770"
      },
      "execution_count": 26,
      "outputs": [
        {
          "output_type": "stream",
          "name": "stdout",
          "text": [
            "11.972173631218102\n"
          ]
        }
      ]
    },
    {
      "cell_type": "markdown",
      "source": [
        "# c_ii\n",
        "\n",
        "While the investment has this value after collecting interest, that investor had to pay c dollars for the investment.\n",
        "\n",
        "What is the profit to the investor if the investment is paid back in full?\n",
        "> 11.97 - 10 = 1.97 profit\n",
        "\n",
        "What is the profit to the investor if the investment if not paid back in full?\n",
        "> It is assumed that the investor would lose his money if loan is not paid back in full so there is no profit.\n",
        "\n"
      ],
      "metadata": {
        "id": "XW6NcWOXYasF"
      }
    },
    {
      "cell_type": "markdown",
      "source": [
        "# c_iii\n",
        "\n",
        "Compute the profit of a $1 dollar investment in each loan, and save your result to a variable named 'Profit'.\n",
        "\n",
        "Keep in mind that the profit computation should depend on the value of the variable 'NotFullyPaid'\n",
        "\n",
        "What is the maximum profit of a $1 investment in any loan in the testing set?\n",
        "> 0.89\n"
      ],
      "metadata": {
        "id": "bl8K8_iTTmHe"
      }
    },
    {
      "cell_type": "code",
      "source": [
        "# We only care about loans that are paid back, so slice test set such that 'NotFullyPaid' == 0.\n",
        "NFP_0 = df_loans_test[df_loans_test['NotFullyPaid'] == 0]\n",
        "\n",
        "#Revenue = c*np.exp(r*t)\n",
        "# c = $1, r = IntRate t = 3\n",
        "c = 1\n",
        "r = NFP_0['IntRate']\n",
        "t = 3\n",
        "\n",
        "#Profit = Revenue - principal\n",
        "df_loans_test['Profit'] = (c*np.exp(r*t)) - c\n",
        "\n",
        "#Show newly added column 'Profit'\n",
        "print(df_loans_test.columns)\n",
        "\n",
        "#Get max value\n",
        "print(df_loans_test['Profit'].max())"
      ],
      "metadata": {
        "colab": {
          "base_uri": "https://localhost:8080/"
        },
        "id": "QSSCtu9Dweie",
        "outputId": "92fe87cc-ac76-446a-98f2-00afb0dedbeb"
      },
      "execution_count": 27,
      "outputs": [
        {
          "output_type": "stream",
          "name": "stdout",
          "text": [
            "Index(['CreditPolicy', 'Purpose', 'IntRate', 'Installment', 'LogAnnualInc',\n",
            "       'Dti', 'Fico', 'DaysWithCrLine', 'RevolBal', 'RevolUtil',\n",
            "       'InqLast6mths', 'Delinq2yrs', 'PubRec', 'NotFullyPaid', 'PredictedRisk',\n",
            "       'PredRisk_IntRateOnly', 'Profit'],\n",
            "      dtype='object')\n",
            "0.8894768654675331\n"
          ]
        }
      ]
    },
    {
      "cell_type": "markdown",
      "source": [
        "# c_iv\n",
        "\n",
        "A simple investment strategy of equally investing in all the loans would yield a profit 20.94 for a $100 investment. Instead, let us analyze an investment strategy in which the investor only purchases loans with IntRate >= 15% to maximize return, but select loans with lowest predicted risk.\n",
        "\n",
        "We will model an investor who invests $1 in each of the most promising 100 loans.\n",
        "\n",
        "First, create a new dataset called 'HighInterest' consisting of test set loans with IntRate >= 15%.\n",
        "\n",
        "What is the average profit of a $1 investment in one of these high-interest loans?\n",
        "> 0.64\n",
        "\n",
        "What proportion of the high-interest loans were not paid in full?\n",
        "> 22.86%"
      ],
      "metadata": {
        "id": "fzWPuM6oljCA"
      }
    },
    {
      "cell_type": "code",
      "source": [
        "#Create new dataset called 'HighInterest'\n",
        "#Slice the test data set such that IntRate >= 0.15\n",
        "df_HighInterest = df_loans_test[df_loans_test['IntRate'] >= 0.15]\n",
        "\n",
        "print(df_HighInterest['Profit'].mean())"
      ],
      "metadata": {
        "colab": {
          "base_uri": "https://localhost:8080/"
        },
        "id": "iBg0WIcQlN-i",
        "outputId": "801089b4-f7d0-4ade-8317-9b967fe5510e"
      },
      "execution_count": 28,
      "outputs": [
        {
          "output_type": "stream",
          "name": "stdout",
          "text": [
            "0.6383449116249343\n"
          ]
        }
      ]
    },
    {
      "cell_type": "code",
      "source": [
        "#Find number of entries in high interest data where NotFullyPaid == 1\n",
        "NFP_1_HighInt = len(df_HighInterest[df_HighInterest['NotFullyPaid'] == 1])\n",
        "\n",
        "#Find number of entires in high interest data where NotFullyPaid == 0\n",
        "NFP_0_HighInt = len(df_HighInterest[df_HighInterest['NotFullyPaid'] == 0])\n",
        "\n",
        "# Take proportion of loans not paid in full (NFP_1 / NFP_0 + NFP_1)\n",
        "print(NFP_1_HighInt / (NFP_0_HighInt + NFP_1_HighInt))"
      ],
      "metadata": {
        "colab": {
          "base_uri": "https://localhost:8080/"
        },
        "id": "ZCT6JM97fuAP",
        "outputId": "24b82305-e353-435a-e104-bbdf60a40d56"
      },
      "execution_count": 29,
      "outputs": [
        {
          "output_type": "stream",
          "name": "stdout",
          "text": [
            "0.228643216080402\n"
          ]
        }
      ]
    },
    {
      "cell_type": "markdown",
      "source": [
        "# c_v\n",
        "\n",
        "Next, sort the loans in the HighInterest dataset by the variable 'PredictedRisk' that we computed earlier.\n",
        "\n",
        "Create a new dataset called 'SelectedLoans' that consists of the 100 loans with the smallest values of PredictedRisk.\n",
        "\n",
        "What is the profit of an investor who invested $1 in each of these 100 loans?\n",
        "> 0.62\n",
        "\n",
        "How many of the 100 selected loans were not paid back in full?\n",
        "> 16%\n",
        "\n",
        "How does this compare to the simple strategy of investing in all loans, which yieled a profit of 20.94 for a $100 investment?\n",
        "> The return on investment (ROI) for the simple model is 20.94\n",
        "while the ROI for the selected model is 62.0.\n",
        ">> The selective strategy has a 3x better probability of yielding positive profits.\n",
        "\n",
        "\n",
        "\n"
      ],
      "metadata": {
        "id": "9ClkfRIn0GqF"
      }
    },
    {
      "cell_type": "code",
      "source": [
        "#From df_HighInterest we want only the 100 with lowest 'PredictedRisk'\n",
        "df_SelectedLoans = df_HighInterest.nsmallest(100, ['PredictedRisk'])\n",
        "\n",
        "#Calculate avg profit from profit column, since we already calculated this from last problem.\n",
        "print(df_SelectedLoans['Profit'].mean())\n"
      ],
      "metadata": {
        "colab": {
          "base_uri": "https://localhost:8080/"
        },
        "id": "qrd65Fojz7Bx",
        "outputId": "d7b188af-70d8-42a0-c154-fa682fb267c7"
      },
      "execution_count": 30,
      "outputs": [
        {
          "output_type": "stream",
          "name": "stdout",
          "text": [
            "0.6172046111413271\n"
          ]
        }
      ]
    },
    {
      "cell_type": "code",
      "source": [
        "#Find number of entries in high interest data where NotFullyPaid == 1\n",
        "NFP_1_HighInt_Select = len(df_SelectedLoans[df_SelectedLoans['NotFullyPaid'] == 1])\n",
        "\n",
        "#Find number of entires in high interest data where NotFullyPaid == 0\n",
        "NFP_0_HighInt_Select = len(df_SelectedLoans[df_SelectedLoans['NotFullyPaid'] == 0])\n",
        "\n",
        "# Take proportion of loans not paid in full (NFP_1 / NFP_0 + NFP_1)\n",
        "print(NFP_1_HighInt_Select / (NFP_0_HighInt_Select + NFP_1_HighInt_Select))"
      ],
      "metadata": {
        "colab": {
          "base_uri": "https://localhost:8080/"
        },
        "id": "OYXfbEH84FHf",
        "outputId": "20419e2c-4a5b-4b93-9699-cf580b8ea715"
      },
      "execution_count": 31,
      "outputs": [
        {
          "output_type": "stream",
          "name": "stdout",
          "text": [
            "0.16\n"
          ]
        }
      ]
    },
    {
      "cell_type": "code",
      "source": [
        "#ROI = Profit/Investment * 100%\n",
        "\n",
        "#ROI for simple model\n",
        "ROI_simple = 20.94/100 * 100\n",
        "\n",
        "#ROI for selected\n",
        "ROI_select = 0.62/1*100\n",
        "\n",
        "print(f'''The return on investment (ROI) for the simple model is {ROI_simple}\n",
        "while the ROI for the selected model is {ROI_select}.''' )\n",
        "\n"
      ],
      "metadata": {
        "colab": {
          "base_uri": "https://localhost:8080/"
        },
        "id": "H_6PkX-o_gh8",
        "outputId": "51ad6cab-3f14-4d12-c2fe-a4270790d4fd"
      },
      "execution_count": 32,
      "outputs": [
        {
          "output_type": "stream",
          "name": "stdout",
          "text": [
            "The return on investment (ROI) for the simple model is 20.94\n",
            "while the ROI for the selected model is 62.0.\n"
          ]
        }
      ]
    },
    {
      "cell_type": "markdown",
      "source": [
        "#d\n",
        "\n",
        "One of the most important assumptions of predictive modeling often does not hold in financial situations, causing predictive models to fail.\n",
        "\n",
        "What do you think this is?\n",
        "> Predictive models are based on historical data, the assumption that the past will predict the future does not resonate well with financial institutions.\n",
        "\n",
        "As an anaylst, what could you do to improve the situation?\n",
        "> I believe the crux in financial modeling comes from human behavior/psychology. Humans, while reliable for the most part, are not immune to flaws or accidents. If we wish to improve our financial models we should try to find methods of extracting data from human behavior on a global scale. I believe these atttributes are the missing variable(s) which would allow our models to be truly predictive."
      ],
      "metadata": {
        "id": "2u8KWt2UBeJg"
      }
    }
  ]
}