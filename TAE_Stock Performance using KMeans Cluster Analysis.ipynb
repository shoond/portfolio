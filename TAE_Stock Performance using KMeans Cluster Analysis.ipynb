{
  "nbformat": 4,
  "nbformat_minor": 0,
  "metadata": {
    "colab": {
      "provenance": [],
      "machine_shape": "hm",
      "toc_visible": true,
      "authorship_tag": "ABX9TyO4udBfsaMOyB0kG4qEgPY1"
    },
    "kernelspec": {
      "name": "python3",
      "display_name": "Python 3"
    },
    "language_info": {
      "name": "python"
    },
    "accelerator": "TPU"
  },
  "cells": [
    {
      "cell_type": "markdown",
      "source": [
        "# Packages"
      ],
      "metadata": {
        "id": "F1QncZauBad-"
      }
    },
    {
      "cell_type": "code",
      "execution_count": null,
      "metadata": {
        "id": "iJv8Y9lXR-M8"
      },
      "outputs": [],
      "source": [
        "import pandas as pd\n",
        "import numpy as np\n",
        "from sklearn.cluster import KMeans\n",
        "from scipy.cluster.hierarchy import dendrogram, linkage, cut_tree\n",
        "import matplotlib.pyplot as plt"
      ]
    },
    {
      "cell_type": "markdown",
      "source": [
        "# Clustering Stock Returns\n",
        "\n",
        "Use clustering to identify clusters of stocks that have similar returns over time; an investor might select a diverse portfolio by selecting stocks from different clusters.\n",
        "\n"
      ],
      "metadata": {
        "id": "6T6SCSl3KyUh"
      }
    },
    {
      "cell_type": "code",
      "source": [
        "df_nasdaq = pd.read_csv('https://raw.githubusercontent.com/shoond/portfolio/datasets/NasdaqReturns.csv')\n",
        "\n",
        "print(df_nasdaq.dtypes)\n",
        "\n",
        "df_nasdaq.head()"
      ],
      "metadata": {
        "colab": {
          "base_uri": "https://localhost:8080/",
          "height": 533
        },
        "id": "CM7O26bsSX-Y",
        "outputId": "bbe38f24-65f3-4893-e148-02c854179dbf"
      },
      "execution_count": null,
      "outputs": [
        {
          "output_type": "stream",
          "name": "stdout",
          "text": [
            "StockSymbol     object\n",
            "Industry        object\n",
            "SubIndustry     object\n",
            "Ret2000.01     float64\n",
            "Ret2000.02     float64\n",
            "                ...   \n",
            "Ret2009.08     float64\n",
            "Ret2009.09     float64\n",
            "Ret2009.10     float64\n",
            "Ret2009.11     float64\n",
            "Ret2009.12     float64\n",
            "Length: 123, dtype: object\n"
          ]
        },
        {
          "output_type": "execute_result",
          "data": {
            "text/plain": [
              "  StockSymbol          Industry                 SubIndustry  Ret2000.01  \\\n",
              "0        AAON  Industrial Goods  General Building Materials    0.080678   \n",
              "1        AAPL    Consumer Goods        Electronic Equipment   -0.010680   \n",
              "2        ABAX        Healthcare       Diagnostic Substances    0.047742   \n",
              "3        ABCB         Financial                    Regional   -0.074040   \n",
              "4        ABFS          Services                    Trucking   -0.031046   \n",
              "\n",
              "   Ret2000.02  Ret2000.03  Ret2000.04  Ret2000.05  Ret2000.06  ret2000.07  \\\n",
              "0    0.066250    0.032941    0.183099    0.130334   -0.017642   -0.020517   \n",
              "1    0.102115    0.145496   -0.084428   -0.327300   -0.359266   -0.025321   \n",
              "2    0.035990    0.039702   -0.162353   -0.147427    0.048589   -0.135385   \n",
              "3   -0.048170    0.018219   -0.024679   -0.006036   -0.025304   -0.094000   \n",
              "4   -0.212677    0.091476    0.189338   -0.153846   -0.106115    0.355301   \n",
              "\n",
              "   ...  Ret2009.03  Ret2009.04  Ret2009.05  Ret2009.06  Ret2009.07  \\\n",
              "0  ...    0.185088    0.100565    0.067762   -0.045062   -0.025832   \n",
              "1  ...    0.192919    0.208858    0.079571    0.043673    0.138606   \n",
              "2  ...    0.111541   -0.119907    0.162126    0.161108    0.304581   \n",
              "3  ...   -0.024845    0.402570   -0.039816   -0.020155    0.004651   \n",
              "4  ...    0.113583    0.227007    0.216357   -0.075114    0.069471   \n",
              "\n",
              "   Ret2009.08  Ret2009.09  Ret2009.10  Ret2009.11  Ret2009.12  \n",
              "0    0.060976   -0.039234   -0.101297    0.041804    0.019885  \n",
              "1    0.018159    0.103339    0.016995    0.053267    0.041980  \n",
              "2    0.001883    0.014026   -0.141783   -0.024740    0.134043  \n",
              "3    0.007812    0.122449   -0.170423    0.105351    0.062315  \n",
              "4    0.112273   -0.052831   -0.127703   -0.047582    0.191981  \n",
              "\n",
              "[5 rows x 123 columns]"
            ],
            "text/html": [
              "\n",
              "  <div id=\"df-64551be4-a0dc-4f92-a912-77704a68d7d7\" class=\"colab-df-container\">\n",
              "    <div>\n",
              "<style scoped>\n",
              "    .dataframe tbody tr th:only-of-type {\n",
              "        vertical-align: middle;\n",
              "    }\n",
              "\n",
              "    .dataframe tbody tr th {\n",
              "        vertical-align: top;\n",
              "    }\n",
              "\n",
              "    .dataframe thead th {\n",
              "        text-align: right;\n",
              "    }\n",
              "</style>\n",
              "<table border=\"1\" class=\"dataframe\">\n",
              "  <thead>\n",
              "    <tr style=\"text-align: right;\">\n",
              "      <th></th>\n",
              "      <th>StockSymbol</th>\n",
              "      <th>Industry</th>\n",
              "      <th>SubIndustry</th>\n",
              "      <th>Ret2000.01</th>\n",
              "      <th>Ret2000.02</th>\n",
              "      <th>Ret2000.03</th>\n",
              "      <th>Ret2000.04</th>\n",
              "      <th>Ret2000.05</th>\n",
              "      <th>Ret2000.06</th>\n",
              "      <th>ret2000.07</th>\n",
              "      <th>...</th>\n",
              "      <th>Ret2009.03</th>\n",
              "      <th>Ret2009.04</th>\n",
              "      <th>Ret2009.05</th>\n",
              "      <th>Ret2009.06</th>\n",
              "      <th>Ret2009.07</th>\n",
              "      <th>Ret2009.08</th>\n",
              "      <th>Ret2009.09</th>\n",
              "      <th>Ret2009.10</th>\n",
              "      <th>Ret2009.11</th>\n",
              "      <th>Ret2009.12</th>\n",
              "    </tr>\n",
              "  </thead>\n",
              "  <tbody>\n",
              "    <tr>\n",
              "      <th>0</th>\n",
              "      <td>AAON</td>\n",
              "      <td>Industrial Goods</td>\n",
              "      <td>General Building Materials</td>\n",
              "      <td>0.080678</td>\n",
              "      <td>0.066250</td>\n",
              "      <td>0.032941</td>\n",
              "      <td>0.183099</td>\n",
              "      <td>0.130334</td>\n",
              "      <td>-0.017642</td>\n",
              "      <td>-0.020517</td>\n",
              "      <td>...</td>\n",
              "      <td>0.185088</td>\n",
              "      <td>0.100565</td>\n",
              "      <td>0.067762</td>\n",
              "      <td>-0.045062</td>\n",
              "      <td>-0.025832</td>\n",
              "      <td>0.060976</td>\n",
              "      <td>-0.039234</td>\n",
              "      <td>-0.101297</td>\n",
              "      <td>0.041804</td>\n",
              "      <td>0.019885</td>\n",
              "    </tr>\n",
              "    <tr>\n",
              "      <th>1</th>\n",
              "      <td>AAPL</td>\n",
              "      <td>Consumer Goods</td>\n",
              "      <td>Electronic Equipment</td>\n",
              "      <td>-0.010680</td>\n",
              "      <td>0.102115</td>\n",
              "      <td>0.145496</td>\n",
              "      <td>-0.084428</td>\n",
              "      <td>-0.327300</td>\n",
              "      <td>-0.359266</td>\n",
              "      <td>-0.025321</td>\n",
              "      <td>...</td>\n",
              "      <td>0.192919</td>\n",
              "      <td>0.208858</td>\n",
              "      <td>0.079571</td>\n",
              "      <td>0.043673</td>\n",
              "      <td>0.138606</td>\n",
              "      <td>0.018159</td>\n",
              "      <td>0.103339</td>\n",
              "      <td>0.016995</td>\n",
              "      <td>0.053267</td>\n",
              "      <td>0.041980</td>\n",
              "    </tr>\n",
              "    <tr>\n",
              "      <th>2</th>\n",
              "      <td>ABAX</td>\n",
              "      <td>Healthcare</td>\n",
              "      <td>Diagnostic Substances</td>\n",
              "      <td>0.047742</td>\n",
              "      <td>0.035990</td>\n",
              "      <td>0.039702</td>\n",
              "      <td>-0.162353</td>\n",
              "      <td>-0.147427</td>\n",
              "      <td>0.048589</td>\n",
              "      <td>-0.135385</td>\n",
              "      <td>...</td>\n",
              "      <td>0.111541</td>\n",
              "      <td>-0.119907</td>\n",
              "      <td>0.162126</td>\n",
              "      <td>0.161108</td>\n",
              "      <td>0.304581</td>\n",
              "      <td>0.001883</td>\n",
              "      <td>0.014026</td>\n",
              "      <td>-0.141783</td>\n",
              "      <td>-0.024740</td>\n",
              "      <td>0.134043</td>\n",
              "    </tr>\n",
              "    <tr>\n",
              "      <th>3</th>\n",
              "      <td>ABCB</td>\n",
              "      <td>Financial</td>\n",
              "      <td>Regional</td>\n",
              "      <td>-0.074040</td>\n",
              "      <td>-0.048170</td>\n",
              "      <td>0.018219</td>\n",
              "      <td>-0.024679</td>\n",
              "      <td>-0.006036</td>\n",
              "      <td>-0.025304</td>\n",
              "      <td>-0.094000</td>\n",
              "      <td>...</td>\n",
              "      <td>-0.024845</td>\n",
              "      <td>0.402570</td>\n",
              "      <td>-0.039816</td>\n",
              "      <td>-0.020155</td>\n",
              "      <td>0.004651</td>\n",
              "      <td>0.007812</td>\n",
              "      <td>0.122449</td>\n",
              "      <td>-0.170423</td>\n",
              "      <td>0.105351</td>\n",
              "      <td>0.062315</td>\n",
              "    </tr>\n",
              "    <tr>\n",
              "      <th>4</th>\n",
              "      <td>ABFS</td>\n",
              "      <td>Services</td>\n",
              "      <td>Trucking</td>\n",
              "      <td>-0.031046</td>\n",
              "      <td>-0.212677</td>\n",
              "      <td>0.091476</td>\n",
              "      <td>0.189338</td>\n",
              "      <td>-0.153846</td>\n",
              "      <td>-0.106115</td>\n",
              "      <td>0.355301</td>\n",
              "      <td>...</td>\n",
              "      <td>0.113583</td>\n",
              "      <td>0.227007</td>\n",
              "      <td>0.216357</td>\n",
              "      <td>-0.075114</td>\n",
              "      <td>0.069471</td>\n",
              "      <td>0.112273</td>\n",
              "      <td>-0.052831</td>\n",
              "      <td>-0.127703</td>\n",
              "      <td>-0.047582</td>\n",
              "      <td>0.191981</td>\n",
              "    </tr>\n",
              "  </tbody>\n",
              "</table>\n",
              "<p>5 rows × 123 columns</p>\n",
              "</div>\n",
              "    <div class=\"colab-df-buttons\">\n",
              "\n",
              "  <div class=\"colab-df-container\">\n",
              "    <button class=\"colab-df-convert\" onclick=\"convertToInteractive('df-64551be4-a0dc-4f92-a912-77704a68d7d7')\"\n",
              "            title=\"Convert this dataframe to an interactive table.\"\n",
              "            style=\"display:none;\">\n",
              "\n",
              "  <svg xmlns=\"http://www.w3.org/2000/svg\" height=\"24px\" viewBox=\"0 -960 960 960\">\n",
              "    <path d=\"M120-120v-720h720v720H120Zm60-500h600v-160H180v160Zm220 220h160v-160H400v160Zm0 220h160v-160H400v160ZM180-400h160v-160H180v160Zm440 0h160v-160H620v160ZM180-180h160v-160H180v160Zm440 0h160v-160H620v160Z\"/>\n",
              "  </svg>\n",
              "    </button>\n",
              "\n",
              "  <style>\n",
              "    .colab-df-container {\n",
              "      display:flex;\n",
              "      gap: 12px;\n",
              "    }\n",
              "\n",
              "    .colab-df-convert {\n",
              "      background-color: #E8F0FE;\n",
              "      border: none;\n",
              "      border-radius: 50%;\n",
              "      cursor: pointer;\n",
              "      display: none;\n",
              "      fill: #1967D2;\n",
              "      height: 32px;\n",
              "      padding: 0 0 0 0;\n",
              "      width: 32px;\n",
              "    }\n",
              "\n",
              "    .colab-df-convert:hover {\n",
              "      background-color: #E2EBFA;\n",
              "      box-shadow: 0px 1px 2px rgba(60, 64, 67, 0.3), 0px 1px 3px 1px rgba(60, 64, 67, 0.15);\n",
              "      fill: #174EA6;\n",
              "    }\n",
              "\n",
              "    .colab-df-buttons div {\n",
              "      margin-bottom: 4px;\n",
              "    }\n",
              "\n",
              "    [theme=dark] .colab-df-convert {\n",
              "      background-color: #3B4455;\n",
              "      fill: #D2E3FC;\n",
              "    }\n",
              "\n",
              "    [theme=dark] .colab-df-convert:hover {\n",
              "      background-color: #434B5C;\n",
              "      box-shadow: 0px 1px 3px 1px rgba(0, 0, 0, 0.15);\n",
              "      filter: drop-shadow(0px 1px 2px rgba(0, 0, 0, 0.3));\n",
              "      fill: #FFFFFF;\n",
              "    }\n",
              "  </style>\n",
              "\n",
              "    <script>\n",
              "      const buttonEl =\n",
              "        document.querySelector('#df-64551be4-a0dc-4f92-a912-77704a68d7d7 button.colab-df-convert');\n",
              "      buttonEl.style.display =\n",
              "        google.colab.kernel.accessAllowed ? 'block' : 'none';\n",
              "\n",
              "      async function convertToInteractive(key) {\n",
              "        const element = document.querySelector('#df-64551be4-a0dc-4f92-a912-77704a68d7d7');\n",
              "        const dataTable =\n",
              "          await google.colab.kernel.invokeFunction('convertToInteractive',\n",
              "                                                    [key], {});\n",
              "        if (!dataTable) return;\n",
              "\n",
              "        const docLinkHtml = 'Like what you see? Visit the ' +\n",
              "          '<a target=\"_blank\" href=https://colab.research.google.com/notebooks/data_table.ipynb>data table notebook</a>'\n",
              "          + ' to learn more about interactive tables.';\n",
              "        element.innerHTML = '';\n",
              "        dataTable['output_type'] = 'display_data';\n",
              "        await google.colab.output.renderOutput(dataTable, element);\n",
              "        const docLink = document.createElement('div');\n",
              "        docLink.innerHTML = docLinkHtml;\n",
              "        element.appendChild(docLink);\n",
              "      }\n",
              "    </script>\n",
              "  </div>\n",
              "\n",
              "\n",
              "<div id=\"df-95337c59-3252-4588-a73d-07c679ad8822\">\n",
              "  <button class=\"colab-df-quickchart\" onclick=\"quickchart('df-95337c59-3252-4588-a73d-07c679ad8822')\"\n",
              "            title=\"Suggest charts\"\n",
              "            style=\"display:none;\">\n",
              "\n",
              "<svg xmlns=\"http://www.w3.org/2000/svg\" height=\"24px\"viewBox=\"0 0 24 24\"\n",
              "     width=\"24px\">\n",
              "    <g>\n",
              "        <path d=\"M19 3H5c-1.1 0-2 .9-2 2v14c0 1.1.9 2 2 2h14c1.1 0 2-.9 2-2V5c0-1.1-.9-2-2-2zM9 17H7v-7h2v7zm4 0h-2V7h2v10zm4 0h-2v-4h2v4z\"/>\n",
              "    </g>\n",
              "</svg>\n",
              "  </button>\n",
              "\n",
              "<style>\n",
              "  .colab-df-quickchart {\n",
              "      --bg-color: #E8F0FE;\n",
              "      --fill-color: #1967D2;\n",
              "      --hover-bg-color: #E2EBFA;\n",
              "      --hover-fill-color: #174EA6;\n",
              "      --disabled-fill-color: #AAA;\n",
              "      --disabled-bg-color: #DDD;\n",
              "  }\n",
              "\n",
              "  [theme=dark] .colab-df-quickchart {\n",
              "      --bg-color: #3B4455;\n",
              "      --fill-color: #D2E3FC;\n",
              "      --hover-bg-color: #434B5C;\n",
              "      --hover-fill-color: #FFFFFF;\n",
              "      --disabled-bg-color: #3B4455;\n",
              "      --disabled-fill-color: #666;\n",
              "  }\n",
              "\n",
              "  .colab-df-quickchart {\n",
              "    background-color: var(--bg-color);\n",
              "    border: none;\n",
              "    border-radius: 50%;\n",
              "    cursor: pointer;\n",
              "    display: none;\n",
              "    fill: var(--fill-color);\n",
              "    height: 32px;\n",
              "    padding: 0;\n",
              "    width: 32px;\n",
              "  }\n",
              "\n",
              "  .colab-df-quickchart:hover {\n",
              "    background-color: var(--hover-bg-color);\n",
              "    box-shadow: 0 1px 2px rgba(60, 64, 67, 0.3), 0 1px 3px 1px rgba(60, 64, 67, 0.15);\n",
              "    fill: var(--button-hover-fill-color);\n",
              "  }\n",
              "\n",
              "  .colab-df-quickchart-complete:disabled,\n",
              "  .colab-df-quickchart-complete:disabled:hover {\n",
              "    background-color: var(--disabled-bg-color);\n",
              "    fill: var(--disabled-fill-color);\n",
              "    box-shadow: none;\n",
              "  }\n",
              "\n",
              "  .colab-df-spinner {\n",
              "    border: 2px solid var(--fill-color);\n",
              "    border-color: transparent;\n",
              "    border-bottom-color: var(--fill-color);\n",
              "    animation:\n",
              "      spin 1s steps(1) infinite;\n",
              "  }\n",
              "\n",
              "  @keyframes spin {\n",
              "    0% {\n",
              "      border-color: transparent;\n",
              "      border-bottom-color: var(--fill-color);\n",
              "      border-left-color: var(--fill-color);\n",
              "    }\n",
              "    20% {\n",
              "      border-color: transparent;\n",
              "      border-left-color: var(--fill-color);\n",
              "      border-top-color: var(--fill-color);\n",
              "    }\n",
              "    30% {\n",
              "      border-color: transparent;\n",
              "      border-left-color: var(--fill-color);\n",
              "      border-top-color: var(--fill-color);\n",
              "      border-right-color: var(--fill-color);\n",
              "    }\n",
              "    40% {\n",
              "      border-color: transparent;\n",
              "      border-right-color: var(--fill-color);\n",
              "      border-top-color: var(--fill-color);\n",
              "    }\n",
              "    60% {\n",
              "      border-color: transparent;\n",
              "      border-right-color: var(--fill-color);\n",
              "    }\n",
              "    80% {\n",
              "      border-color: transparent;\n",
              "      border-right-color: var(--fill-color);\n",
              "      border-bottom-color: var(--fill-color);\n",
              "    }\n",
              "    90% {\n",
              "      border-color: transparent;\n",
              "      border-bottom-color: var(--fill-color);\n",
              "    }\n",
              "  }\n",
              "</style>\n",
              "\n",
              "  <script>\n",
              "    async function quickchart(key) {\n",
              "      const quickchartButtonEl =\n",
              "        document.querySelector('#' + key + ' button');\n",
              "      quickchartButtonEl.disabled = true;  // To prevent multiple clicks.\n",
              "      quickchartButtonEl.classList.add('colab-df-spinner');\n",
              "      try {\n",
              "        const charts = await google.colab.kernel.invokeFunction(\n",
              "            'suggestCharts', [key], {});\n",
              "      } catch (error) {\n",
              "        console.error('Error during call to suggestCharts:', error);\n",
              "      }\n",
              "      quickchartButtonEl.classList.remove('colab-df-spinner');\n",
              "      quickchartButtonEl.classList.add('colab-df-quickchart-complete');\n",
              "    }\n",
              "    (() => {\n",
              "      let quickchartButtonEl =\n",
              "        document.querySelector('#df-95337c59-3252-4588-a73d-07c679ad8822 button');\n",
              "      quickchartButtonEl.style.display =\n",
              "        google.colab.kernel.accessAllowed ? 'block' : 'none';\n",
              "    })();\n",
              "  </script>\n",
              "</div>\n",
              "    </div>\n",
              "  </div>\n"
            ]
          },
          "metadata": {},
          "execution_count": 2
        }
      ]
    },
    {
      "cell_type": "markdown",
      "source": [
        "# a\n",
        "\n",
        "Let us start by exploring dataset.\n",
        "\n",
        "\n",
        "\n",
        "\n",
        "\n"
      ],
      "metadata": {
        "id": "x9pyU0pDTE83"
      }
    },
    {
      "cell_type": "markdown",
      "source": [
        "##a_i\n",
        "\n",
        "How many companies are in this dataset?\n",
        "> 1158 companies represented by 'StockSymbol'\n",
        "\n",
        "How many companies are there in each industry?\n",
        "\n",
        "> Basic Materials       50\n",
        "\n",
        "> Conglomerates          2\n",
        "\n",
        "> Consumer Cyclical      2\n",
        "\n",
        "> Consumer Goods        80\n",
        "\n",
        "> Financial            338\n",
        "\n",
        "> Healthcare           111\n",
        "\n",
        "> Industrial Goods      65\n",
        "\n",
        "> Services             202\n",
        "\n",
        "> Technology           296\n",
        "\n",
        "> Utilities             12"
      ],
      "metadata": {
        "id": "-5vSHOXB47KH"
      }
    },
    {
      "cell_type": "code",
      "source": [
        "# Number of unique companies (StockSymbols)\n",
        "companies = df_nasdaq['StockSymbol'].unique()\n",
        "print(len(companies))   # There are 1158 companies"
      ],
      "metadata": {
        "colab": {
          "base_uri": "https://localhost:8080/"
        },
        "id": "XEMzhtgtSit6",
        "outputId": "bfcd5847-a395-438b-9a78-03487ca8ef95"
      },
      "execution_count": null,
      "outputs": [
        {
          "output_type": "stream",
          "name": "stdout",
          "text": [
            "1158\n"
          ]
        }
      ]
    },
    {
      "cell_type": "code",
      "source": [
        "# Number of industries\n",
        "industry = df_nasdaq['Industry'].unique()\n",
        "print(len(industry))    # There are 10 industries\n",
        "print(industry)"
      ],
      "metadata": {
        "colab": {
          "base_uri": "https://localhost:8080/"
        },
        "id": "A54X-sQmTbWk",
        "outputId": "db8229a4-8a48-4b83-faed-ee82735f7a18"
      },
      "execution_count": null,
      "outputs": [
        {
          "output_type": "stream",
          "name": "stdout",
          "text": [
            "10\n",
            "['Industrial Goods' 'Consumer Goods' 'Healthcare' 'Financial' 'Services'\n",
            " 'Technology' 'Basic Materials' 'Utilities' 'Conglomerates'\n",
            " 'Consumer Cyclical']\n"
          ]
        }
      ]
    },
    {
      "cell_type": "code",
      "source": [
        "# Number of companies per industry, use groupby just like SQL\n",
        "companies_by_industry = df_nasdaq.groupby('Industry')['StockSymbol'].size()\n",
        "\n",
        "print(companies_by_industry)"
      ],
      "metadata": {
        "colab": {
          "base_uri": "https://localhost:8080/"
        },
        "id": "LmEYJKDCmlvB",
        "outputId": "31416475-a4e5-4e18-ae4f-e4b87a511fe9"
      },
      "execution_count": null,
      "outputs": [
        {
          "output_type": "stream",
          "name": "stdout",
          "text": [
            "Industry\n",
            "Basic Materials       50\n",
            "Conglomerates          2\n",
            "Consumer Cyclical      2\n",
            "Consumer Goods        80\n",
            "Financial            338\n",
            "Healthcare           111\n",
            "Industrial Goods      65\n",
            "Services             202\n",
            "Technology           296\n",
            "Utilities             12\n",
            "Name: StockSymbol, dtype: int64\n"
          ]
        }
      ]
    },
    {
      "cell_type": "markdown",
      "source": [
        "##a_ii\n",
        "\n",
        "In December 2000, how many stocks in this dataset saw their value increase by 10% or more?\n",
        "> 309 companies with 10% or more increase\n",
        "\n",
        "Decrease by 10% or more?\n",
        "> 261 companies with 10% or more decrease"
      ],
      "metadata": {
        "id": "3gFiI_MU4w2O"
      }
    },
    {
      "cell_type": "code",
      "source": [
        "# Companies whose value increased by 10% or more in Dec 2000 (Ret2000.12).\n",
        "\n",
        "gains = df_nasdaq[df_nasdaq['Ret2000.12'] >= 0.10]\n",
        "\n",
        "print(gains['StockSymbol'].count()) #Count the number of companies"
      ],
      "metadata": {
        "colab": {
          "base_uri": "https://localhost:8080/"
        },
        "id": "8353H1djmBGx",
        "outputId": "e08ad74d-56ca-4430-ac88-715359811841"
      },
      "execution_count": null,
      "outputs": [
        {
          "output_type": "stream",
          "name": "stdout",
          "text": [
            "309\n"
          ]
        }
      ]
    },
    {
      "cell_type": "code",
      "source": [
        "# Companies whose value decreasd by 10% or more in Dec 2000 (Ret2002.12).\n",
        "\n",
        "loss = df_nasdaq[df_nasdaq['Ret2000.12'] <= -0.10]\n",
        "\n",
        "print(loss['StockSymbol'].count())"
      ],
      "metadata": {
        "colab": {
          "base_uri": "https://localhost:8080/"
        },
        "id": "iJuY5krOrL_-",
        "outputId": "102218ac-382d-4435-9a12-b934a408f6a5"
      },
      "execution_count": null,
      "outputs": [
        {
          "output_type": "stream",
          "name": "stdout",
          "text": [
            "261\n"
          ]
        }
      ]
    },
    {
      "cell_type": "markdown",
      "source": [
        "## a_iii\n",
        "\n",
        "In October 2008, which industries had the worst average return across all stocks in that industry?\n",
        "> Conglomerates had the worst average return at -26.57%"
      ],
      "metadata": {
        "id": "sSApjnPP4_fy"
      }
    },
    {
      "cell_type": "code",
      "source": [
        "# Slice dataframe to only get 'Ret2008.10' data.\n",
        "df_2008_10 = df_nasdaq[['StockSymbol', 'Industry', 'Ret2008.10']]\n",
        "\n",
        "#Groupby industry and 'Ret2008.10' get mean.\n",
        "df_2008_10.groupby('Industry')['Ret2008.10'].mean()\n"
      ],
      "metadata": {
        "colab": {
          "base_uri": "https://localhost:8080/"
        },
        "id": "aXbCQo_pvg5q",
        "outputId": "1f5cf164-1e14-41ed-a20b-68556bbf6213"
      },
      "execution_count": null,
      "outputs": [
        {
          "output_type": "execute_result",
          "data": {
            "text/plain": [
              "Industry\n",
              "Basic Materials     -0.254674\n",
              "Conglomerates       -0.265748\n",
              "Consumer Cyclical   -0.145705\n",
              "Consumer Goods      -0.155209\n",
              "Financial           -0.102884\n",
              "Healthcare          -0.169440\n",
              "Industrial Goods    -0.233366\n",
              "Services            -0.173833\n",
              "Technology          -0.196299\n",
              "Utilities           -0.120087\n",
              "Name: Ret2008.10, dtype: float64"
            ]
          },
          "metadata": {},
          "execution_count": 8
        }
      ]
    },
    {
      "cell_type": "markdown",
      "source": [
        "# b\n",
        "\n",
        "Now lets cluster stocks by monthly returns.\n",
        "\n",
        "Cluster observations based on variables Ret2000.01 to Ret2009.12.\n",
        "\n",
        "Do not use variables (StockSymbol, Industry or SubIndustry)\n",
        "\n",
        "Do so by creating a new dataset containing only these variables or can just plug them into clustering algorithm.\n"
      ],
      "metadata": {
        "id": "ENgxxfTf7F9u"
      }
    },
    {
      "cell_type": "code",
      "source": [
        "# Omit the first three columns, to create new dataset\n",
        "# .iloc[rows, columns]\n",
        "df_cluster = df_nasdaq.iloc[:, 3:]\n",
        "df_cluster.head()"
      ],
      "metadata": {
        "colab": {
          "base_uri": "https://localhost:8080/",
          "height": 256
        },
        "id": "7WMs2wek74Fy",
        "outputId": "2113e0e3-dba2-4e23-b2b3-c6427a16f9e3"
      },
      "execution_count": null,
      "outputs": [
        {
          "output_type": "execute_result",
          "data": {
            "text/plain": [
              "   Ret2000.01  Ret2000.02  Ret2000.03  Ret2000.04  Ret2000.05  Ret2000.06  \\\n",
              "0    0.080678    0.066250    0.032941    0.183099    0.130334   -0.017642   \n",
              "1   -0.010680    0.102115    0.145496   -0.084428   -0.327300   -0.359266   \n",
              "2    0.047742    0.035990    0.039702   -0.162353   -0.147427    0.048589   \n",
              "3   -0.074040   -0.048170    0.018219   -0.024679   -0.006036   -0.025304   \n",
              "4   -0.031046   -0.212677    0.091476    0.189338   -0.153846   -0.106115   \n",
              "\n",
              "   ret2000.07  Ret2000.08  Ret2000.09  Ret2000.10  ...  Ret2009.03  \\\n",
              "0   -0.020517    0.024676   -0.020408   -0.173318  ...    0.185088   \n",
              "1   -0.025321    0.211290   -0.580003   -0.267141  ...    0.192919   \n",
              "2   -0.135385    0.033392    0.000000    0.091696  ...    0.111541   \n",
              "3   -0.094000    0.095290    0.056680   -0.096339  ...   -0.024845   \n",
              "4    0.355301    0.056842    0.033602    0.036269  ...    0.113583   \n",
              "\n",
              "   Ret2009.04  Ret2009.05  Ret2009.06  Ret2009.07  Ret2009.08  Ret2009.09  \\\n",
              "0    0.100565    0.067762   -0.045062   -0.025832    0.060976   -0.039234   \n",
              "1    0.208858    0.079571    0.043673    0.138606    0.018159    0.103339   \n",
              "2   -0.119907    0.162126    0.161108    0.304581    0.001883    0.014026   \n",
              "3    0.402570   -0.039816   -0.020155    0.004651    0.007812    0.122449   \n",
              "4    0.227007    0.216357   -0.075114    0.069471    0.112273   -0.052831   \n",
              "\n",
              "   Ret2009.10  Ret2009.11  Ret2009.12  \n",
              "0   -0.101297    0.041804    0.019885  \n",
              "1    0.016995    0.053267    0.041980  \n",
              "2   -0.141783   -0.024740    0.134043  \n",
              "3   -0.170423    0.105351    0.062315  \n",
              "4   -0.127703   -0.047582    0.191981  \n",
              "\n",
              "[5 rows x 120 columns]"
            ],
            "text/html": [
              "\n",
              "  <div id=\"df-ba5869c8-2884-4701-9752-fc7f1f7885cf\" class=\"colab-df-container\">\n",
              "    <div>\n",
              "<style scoped>\n",
              "    .dataframe tbody tr th:only-of-type {\n",
              "        vertical-align: middle;\n",
              "    }\n",
              "\n",
              "    .dataframe tbody tr th {\n",
              "        vertical-align: top;\n",
              "    }\n",
              "\n",
              "    .dataframe thead th {\n",
              "        text-align: right;\n",
              "    }\n",
              "</style>\n",
              "<table border=\"1\" class=\"dataframe\">\n",
              "  <thead>\n",
              "    <tr style=\"text-align: right;\">\n",
              "      <th></th>\n",
              "      <th>Ret2000.01</th>\n",
              "      <th>Ret2000.02</th>\n",
              "      <th>Ret2000.03</th>\n",
              "      <th>Ret2000.04</th>\n",
              "      <th>Ret2000.05</th>\n",
              "      <th>Ret2000.06</th>\n",
              "      <th>ret2000.07</th>\n",
              "      <th>Ret2000.08</th>\n",
              "      <th>Ret2000.09</th>\n",
              "      <th>Ret2000.10</th>\n",
              "      <th>...</th>\n",
              "      <th>Ret2009.03</th>\n",
              "      <th>Ret2009.04</th>\n",
              "      <th>Ret2009.05</th>\n",
              "      <th>Ret2009.06</th>\n",
              "      <th>Ret2009.07</th>\n",
              "      <th>Ret2009.08</th>\n",
              "      <th>Ret2009.09</th>\n",
              "      <th>Ret2009.10</th>\n",
              "      <th>Ret2009.11</th>\n",
              "      <th>Ret2009.12</th>\n",
              "    </tr>\n",
              "  </thead>\n",
              "  <tbody>\n",
              "    <tr>\n",
              "      <th>0</th>\n",
              "      <td>0.080678</td>\n",
              "      <td>0.066250</td>\n",
              "      <td>0.032941</td>\n",
              "      <td>0.183099</td>\n",
              "      <td>0.130334</td>\n",
              "      <td>-0.017642</td>\n",
              "      <td>-0.020517</td>\n",
              "      <td>0.024676</td>\n",
              "      <td>-0.020408</td>\n",
              "      <td>-0.173318</td>\n",
              "      <td>...</td>\n",
              "      <td>0.185088</td>\n",
              "      <td>0.100565</td>\n",
              "      <td>0.067762</td>\n",
              "      <td>-0.045062</td>\n",
              "      <td>-0.025832</td>\n",
              "      <td>0.060976</td>\n",
              "      <td>-0.039234</td>\n",
              "      <td>-0.101297</td>\n",
              "      <td>0.041804</td>\n",
              "      <td>0.019885</td>\n",
              "    </tr>\n",
              "    <tr>\n",
              "      <th>1</th>\n",
              "      <td>-0.010680</td>\n",
              "      <td>0.102115</td>\n",
              "      <td>0.145496</td>\n",
              "      <td>-0.084428</td>\n",
              "      <td>-0.327300</td>\n",
              "      <td>-0.359266</td>\n",
              "      <td>-0.025321</td>\n",
              "      <td>0.211290</td>\n",
              "      <td>-0.580003</td>\n",
              "      <td>-0.267141</td>\n",
              "      <td>...</td>\n",
              "      <td>0.192919</td>\n",
              "      <td>0.208858</td>\n",
              "      <td>0.079571</td>\n",
              "      <td>0.043673</td>\n",
              "      <td>0.138606</td>\n",
              "      <td>0.018159</td>\n",
              "      <td>0.103339</td>\n",
              "      <td>0.016995</td>\n",
              "      <td>0.053267</td>\n",
              "      <td>0.041980</td>\n",
              "    </tr>\n",
              "    <tr>\n",
              "      <th>2</th>\n",
              "      <td>0.047742</td>\n",
              "      <td>0.035990</td>\n",
              "      <td>0.039702</td>\n",
              "      <td>-0.162353</td>\n",
              "      <td>-0.147427</td>\n",
              "      <td>0.048589</td>\n",
              "      <td>-0.135385</td>\n",
              "      <td>0.033392</td>\n",
              "      <td>0.000000</td>\n",
              "      <td>0.091696</td>\n",
              "      <td>...</td>\n",
              "      <td>0.111541</td>\n",
              "      <td>-0.119907</td>\n",
              "      <td>0.162126</td>\n",
              "      <td>0.161108</td>\n",
              "      <td>0.304581</td>\n",
              "      <td>0.001883</td>\n",
              "      <td>0.014026</td>\n",
              "      <td>-0.141783</td>\n",
              "      <td>-0.024740</td>\n",
              "      <td>0.134043</td>\n",
              "    </tr>\n",
              "    <tr>\n",
              "      <th>3</th>\n",
              "      <td>-0.074040</td>\n",
              "      <td>-0.048170</td>\n",
              "      <td>0.018219</td>\n",
              "      <td>-0.024679</td>\n",
              "      <td>-0.006036</td>\n",
              "      <td>-0.025304</td>\n",
              "      <td>-0.094000</td>\n",
              "      <td>0.095290</td>\n",
              "      <td>0.056680</td>\n",
              "      <td>-0.096339</td>\n",
              "      <td>...</td>\n",
              "      <td>-0.024845</td>\n",
              "      <td>0.402570</td>\n",
              "      <td>-0.039816</td>\n",
              "      <td>-0.020155</td>\n",
              "      <td>0.004651</td>\n",
              "      <td>0.007812</td>\n",
              "      <td>0.122449</td>\n",
              "      <td>-0.170423</td>\n",
              "      <td>0.105351</td>\n",
              "      <td>0.062315</td>\n",
              "    </tr>\n",
              "    <tr>\n",
              "      <th>4</th>\n",
              "      <td>-0.031046</td>\n",
              "      <td>-0.212677</td>\n",
              "      <td>0.091476</td>\n",
              "      <td>0.189338</td>\n",
              "      <td>-0.153846</td>\n",
              "      <td>-0.106115</td>\n",
              "      <td>0.355301</td>\n",
              "      <td>0.056842</td>\n",
              "      <td>0.033602</td>\n",
              "      <td>0.036269</td>\n",
              "      <td>...</td>\n",
              "      <td>0.113583</td>\n",
              "      <td>0.227007</td>\n",
              "      <td>0.216357</td>\n",
              "      <td>-0.075114</td>\n",
              "      <td>0.069471</td>\n",
              "      <td>0.112273</td>\n",
              "      <td>-0.052831</td>\n",
              "      <td>-0.127703</td>\n",
              "      <td>-0.047582</td>\n",
              "      <td>0.191981</td>\n",
              "    </tr>\n",
              "  </tbody>\n",
              "</table>\n",
              "<p>5 rows × 120 columns</p>\n",
              "</div>\n",
              "    <div class=\"colab-df-buttons\">\n",
              "\n",
              "  <div class=\"colab-df-container\">\n",
              "    <button class=\"colab-df-convert\" onclick=\"convertToInteractive('df-ba5869c8-2884-4701-9752-fc7f1f7885cf')\"\n",
              "            title=\"Convert this dataframe to an interactive table.\"\n",
              "            style=\"display:none;\">\n",
              "\n",
              "  <svg xmlns=\"http://www.w3.org/2000/svg\" height=\"24px\" viewBox=\"0 -960 960 960\">\n",
              "    <path d=\"M120-120v-720h720v720H120Zm60-500h600v-160H180v160Zm220 220h160v-160H400v160Zm0 220h160v-160H400v160ZM180-400h160v-160H180v160Zm440 0h160v-160H620v160ZM180-180h160v-160H180v160Zm440 0h160v-160H620v160Z\"/>\n",
              "  </svg>\n",
              "    </button>\n",
              "\n",
              "  <style>\n",
              "    .colab-df-container {\n",
              "      display:flex;\n",
              "      gap: 12px;\n",
              "    }\n",
              "\n",
              "    .colab-df-convert {\n",
              "      background-color: #E8F0FE;\n",
              "      border: none;\n",
              "      border-radius: 50%;\n",
              "      cursor: pointer;\n",
              "      display: none;\n",
              "      fill: #1967D2;\n",
              "      height: 32px;\n",
              "      padding: 0 0 0 0;\n",
              "      width: 32px;\n",
              "    }\n",
              "\n",
              "    .colab-df-convert:hover {\n",
              "      background-color: #E2EBFA;\n",
              "      box-shadow: 0px 1px 2px rgba(60, 64, 67, 0.3), 0px 1px 3px 1px rgba(60, 64, 67, 0.15);\n",
              "      fill: #174EA6;\n",
              "    }\n",
              "\n",
              "    .colab-df-buttons div {\n",
              "      margin-bottom: 4px;\n",
              "    }\n",
              "\n",
              "    [theme=dark] .colab-df-convert {\n",
              "      background-color: #3B4455;\n",
              "      fill: #D2E3FC;\n",
              "    }\n",
              "\n",
              "    [theme=dark] .colab-df-convert:hover {\n",
              "      background-color: #434B5C;\n",
              "      box-shadow: 0px 1px 3px 1px rgba(0, 0, 0, 0.15);\n",
              "      filter: drop-shadow(0px 1px 2px rgba(0, 0, 0, 0.3));\n",
              "      fill: #FFFFFF;\n",
              "    }\n",
              "  </style>\n",
              "\n",
              "    <script>\n",
              "      const buttonEl =\n",
              "        document.querySelector('#df-ba5869c8-2884-4701-9752-fc7f1f7885cf button.colab-df-convert');\n",
              "      buttonEl.style.display =\n",
              "        google.colab.kernel.accessAllowed ? 'block' : 'none';\n",
              "\n",
              "      async function convertToInteractive(key) {\n",
              "        const element = document.querySelector('#df-ba5869c8-2884-4701-9752-fc7f1f7885cf');\n",
              "        const dataTable =\n",
              "          await google.colab.kernel.invokeFunction('convertToInteractive',\n",
              "                                                    [key], {});\n",
              "        if (!dataTable) return;\n",
              "\n",
              "        const docLinkHtml = 'Like what you see? Visit the ' +\n",
              "          '<a target=\"_blank\" href=https://colab.research.google.com/notebooks/data_table.ipynb>data table notebook</a>'\n",
              "          + ' to learn more about interactive tables.';\n",
              "        element.innerHTML = '';\n",
              "        dataTable['output_type'] = 'display_data';\n",
              "        await google.colab.output.renderOutput(dataTable, element);\n",
              "        const docLink = document.createElement('div');\n",
              "        docLink.innerHTML = docLinkHtml;\n",
              "        element.appendChild(docLink);\n",
              "      }\n",
              "    </script>\n",
              "  </div>\n",
              "\n",
              "\n",
              "<div id=\"df-4344e7ca-93d9-4cb4-8439-534a5f2ab9cc\">\n",
              "  <button class=\"colab-df-quickchart\" onclick=\"quickchart('df-4344e7ca-93d9-4cb4-8439-534a5f2ab9cc')\"\n",
              "            title=\"Suggest charts\"\n",
              "            style=\"display:none;\">\n",
              "\n",
              "<svg xmlns=\"http://www.w3.org/2000/svg\" height=\"24px\"viewBox=\"0 0 24 24\"\n",
              "     width=\"24px\">\n",
              "    <g>\n",
              "        <path d=\"M19 3H5c-1.1 0-2 .9-2 2v14c0 1.1.9 2 2 2h14c1.1 0 2-.9 2-2V5c0-1.1-.9-2-2-2zM9 17H7v-7h2v7zm4 0h-2V7h2v10zm4 0h-2v-4h2v4z\"/>\n",
              "    </g>\n",
              "</svg>\n",
              "  </button>\n",
              "\n",
              "<style>\n",
              "  .colab-df-quickchart {\n",
              "      --bg-color: #E8F0FE;\n",
              "      --fill-color: #1967D2;\n",
              "      --hover-bg-color: #E2EBFA;\n",
              "      --hover-fill-color: #174EA6;\n",
              "      --disabled-fill-color: #AAA;\n",
              "      --disabled-bg-color: #DDD;\n",
              "  }\n",
              "\n",
              "  [theme=dark] .colab-df-quickchart {\n",
              "      --bg-color: #3B4455;\n",
              "      --fill-color: #D2E3FC;\n",
              "      --hover-bg-color: #434B5C;\n",
              "      --hover-fill-color: #FFFFFF;\n",
              "      --disabled-bg-color: #3B4455;\n",
              "      --disabled-fill-color: #666;\n",
              "  }\n",
              "\n",
              "  .colab-df-quickchart {\n",
              "    background-color: var(--bg-color);\n",
              "    border: none;\n",
              "    border-radius: 50%;\n",
              "    cursor: pointer;\n",
              "    display: none;\n",
              "    fill: var(--fill-color);\n",
              "    height: 32px;\n",
              "    padding: 0;\n",
              "    width: 32px;\n",
              "  }\n",
              "\n",
              "  .colab-df-quickchart:hover {\n",
              "    background-color: var(--hover-bg-color);\n",
              "    box-shadow: 0 1px 2px rgba(60, 64, 67, 0.3), 0 1px 3px 1px rgba(60, 64, 67, 0.15);\n",
              "    fill: var(--button-hover-fill-color);\n",
              "  }\n",
              "\n",
              "  .colab-df-quickchart-complete:disabled,\n",
              "  .colab-df-quickchart-complete:disabled:hover {\n",
              "    background-color: var(--disabled-bg-color);\n",
              "    fill: var(--disabled-fill-color);\n",
              "    box-shadow: none;\n",
              "  }\n",
              "\n",
              "  .colab-df-spinner {\n",
              "    border: 2px solid var(--fill-color);\n",
              "    border-color: transparent;\n",
              "    border-bottom-color: var(--fill-color);\n",
              "    animation:\n",
              "      spin 1s steps(1) infinite;\n",
              "  }\n",
              "\n",
              "  @keyframes spin {\n",
              "    0% {\n",
              "      border-color: transparent;\n",
              "      border-bottom-color: var(--fill-color);\n",
              "      border-left-color: var(--fill-color);\n",
              "    }\n",
              "    20% {\n",
              "      border-color: transparent;\n",
              "      border-left-color: var(--fill-color);\n",
              "      border-top-color: var(--fill-color);\n",
              "    }\n",
              "    30% {\n",
              "      border-color: transparent;\n",
              "      border-left-color: var(--fill-color);\n",
              "      border-top-color: var(--fill-color);\n",
              "      border-right-color: var(--fill-color);\n",
              "    }\n",
              "    40% {\n",
              "      border-color: transparent;\n",
              "      border-right-color: var(--fill-color);\n",
              "      border-top-color: var(--fill-color);\n",
              "    }\n",
              "    60% {\n",
              "      border-color: transparent;\n",
              "      border-right-color: var(--fill-color);\n",
              "    }\n",
              "    80% {\n",
              "      border-color: transparent;\n",
              "      border-right-color: var(--fill-color);\n",
              "      border-bottom-color: var(--fill-color);\n",
              "    }\n",
              "    90% {\n",
              "      border-color: transparent;\n",
              "      border-bottom-color: var(--fill-color);\n",
              "    }\n",
              "  }\n",
              "</style>\n",
              "\n",
              "  <script>\n",
              "    async function quickchart(key) {\n",
              "      const quickchartButtonEl =\n",
              "        document.querySelector('#' + key + ' button');\n",
              "      quickchartButtonEl.disabled = true;  // To prevent multiple clicks.\n",
              "      quickchartButtonEl.classList.add('colab-df-spinner');\n",
              "      try {\n",
              "        const charts = await google.colab.kernel.invokeFunction(\n",
              "            'suggestCharts', [key], {});\n",
              "      } catch (error) {\n",
              "        console.error('Error during call to suggestCharts:', error);\n",
              "      }\n",
              "      quickchartButtonEl.classList.remove('colab-df-spinner');\n",
              "      quickchartButtonEl.classList.add('colab-df-quickchart-complete');\n",
              "    }\n",
              "    (() => {\n",
              "      let quickchartButtonEl =\n",
              "        document.querySelector('#df-4344e7ca-93d9-4cb4-8439-534a5f2ab9cc button');\n",
              "      quickchartButtonEl.style.display =\n",
              "        google.colab.kernel.accessAllowed ? 'block' : 'none';\n",
              "    })();\n",
              "  </script>\n",
              "</div>\n",
              "    </div>\n",
              "  </div>\n"
            ]
          },
          "metadata": {},
          "execution_count": 9
        }
      ]
    },
    {
      "cell_type": "markdown",
      "source": [
        "## b_i\n",
        "\n",
        "In this analysis, we will not normalize our data prior to clustering.\n",
        "\n",
        "Why is this the valid approach?\n",
        "> Our goal is to identify the variance in stock returns, normalization suppress variance in data, thus we want to keep it un-normalized."
      ],
      "metadata": {
        "id": "R7UeFN-L7qQk"
      }
    },
    {
      "cell_type": "markdown",
      "source": [
        "## b_ii\n",
        "\n",
        "Cluster the data using Hierarchical clustering. Clearly indicate which distance metrics you used for point distances and cluster distances.\n",
        "\n",
        "Plot the resulting dendogram.\n",
        "\n",
        "What do you think are reasonable choices for number of clusters to select, based on the dendrogram?\n",
        "> From dendrogram we see adequate separation of nodes while still being able to distinguish the nodes starting at 10 clusters.\n",
        "\n",
        "\n",
        "How about for the application?\n",
        "> For the application, Ive reduced the number of clusters to 5. Ive found empirically that using more than 5 clusters starts to create unnecessary clusterings with only 1-2 companies in each one with no distinguishable characteristics.\n",
        "\n"
      ],
      "metadata": {
        "id": "6BG42dnvCi65"
      }
    },
    {
      "cell_type": "code",
      "source": [
        "Z = linkage(df_cluster, method = 'ward', metric = 'euclidean')\n",
        "\n",
        "dendrogram(Z)\n",
        "\n",
        "plt.show()"
      ],
      "metadata": {
        "colab": {
          "base_uri": "https://localhost:8080/",
          "height": 434
        },
        "id": "n0vp-d70BEsA",
        "outputId": "0609a1c9-e76d-46fe-e0dd-8ab8e337bd08"
      },
      "execution_count": null,
      "outputs": [
        {
          "output_type": "display_data",
          "data": {
            "text/plain": [
              "<Figure size 640x480 with 1 Axes>"
            ],
            "image/png": "[encoded data removed]"
          },
          "metadata": {}
        }
      ]
    },
    {
      "cell_type": "code",
      "source": [
        "# From dendrogram we see adequate separation of nodes while still being able to distinguish the nodes at 5 clusters.\n",
        "num_clusters = 5\n",
        "\n",
        "clusters = cut_tree(Z, n_clusters = num_clusters).flatten()\n",
        "\n",
        "df_nasdaq['clusters'] = clusters\n",
        "\n",
        "df_nasdaq.head()"
      ],
      "metadata": {
        "colab": {
          "base_uri": "https://localhost:8080/",
          "height": 325
        },
        "id": "AQ8jzSxSDO7k",
        "outputId": "9933da57-ad64-4108-8011-bea892d93810"
      },
      "execution_count": null,
      "outputs": [
        {
          "output_type": "execute_result",
          "data": {
            "text/plain": [
              "  StockSymbol          Industry                 SubIndustry  Ret2000.01  \\\n",
              "0        AAON  Industrial Goods  General Building Materials    0.080678   \n",
              "1        AAPL    Consumer Goods        Electronic Equipment   -0.010680   \n",
              "2        ABAX        Healthcare       Diagnostic Substances    0.047742   \n",
              "3        ABCB         Financial                    Regional   -0.074040   \n",
              "4        ABFS          Services                    Trucking   -0.031046   \n",
              "\n",
              "   Ret2000.02  Ret2000.03  Ret2000.04  Ret2000.05  Ret2000.06  ret2000.07  \\\n",
              "0    0.066250    0.032941    0.183099    0.130334   -0.017642   -0.020517   \n",
              "1    0.102115    0.145496   -0.084428   -0.327300   -0.359266   -0.025321   \n",
              "2    0.035990    0.039702   -0.162353   -0.147427    0.048589   -0.135385   \n",
              "3   -0.048170    0.018219   -0.024679   -0.006036   -0.025304   -0.094000   \n",
              "4   -0.212677    0.091476    0.189338   -0.153846   -0.106115    0.355301   \n",
              "\n",
              "   ...  Ret2009.04  Ret2009.05  Ret2009.06  Ret2009.07  Ret2009.08  \\\n",
              "0  ...    0.100565    0.067762   -0.045062   -0.025832    0.060976   \n",
              "1  ...    0.208858    0.079571    0.043673    0.138606    0.018159   \n",
              "2  ...   -0.119907    0.162126    0.161108    0.304581    0.001883   \n",
              "3  ...    0.402570   -0.039816   -0.020155    0.004651    0.007812   \n",
              "4  ...    0.227007    0.216357   -0.075114    0.069471    0.112273   \n",
              "\n",
              "   Ret2009.09  Ret2009.10  Ret2009.11  Ret2009.12  clusters  \n",
              "0   -0.039234   -0.101297    0.041804    0.019885         0  \n",
              "1    0.103339    0.016995    0.053267    0.041980         1  \n",
              "2    0.014026   -0.141783   -0.024740    0.134043         2  \n",
              "3    0.122449   -0.170423    0.105351    0.062315         0  \n",
              "4   -0.052831   -0.127703   -0.047582    0.191981         0  \n",
              "\n",
              "[5 rows x 124 columns]"
            ],
            "text/html": [
              "\n",
              "  <div id=\"df-5923bf80-9fbe-40cf-bfa1-692cf873fcfe\" class=\"colab-df-container\">\n",
              "    <div>\n",
              "<style scoped>\n",
              "    .dataframe tbody tr th:only-of-type {\n",
              "        vertical-align: middle;\n",
              "    }\n",
              "\n",
              "    .dataframe tbody tr th {\n",
              "        vertical-align: top;\n",
              "    }\n",
              "\n",
              "    .dataframe thead th {\n",
              "        text-align: right;\n",
              "    }\n",
              "</style>\n",
              "<table border=\"1\" class=\"dataframe\">\n",
              "  <thead>\n",
              "    <tr style=\"text-align: right;\">\n",
              "      <th></th>\n",
              "      <th>StockSymbol</th>\n",
              "      <th>Industry</th>\n",
              "      <th>SubIndustry</th>\n",
              "      <th>Ret2000.01</th>\n",
              "      <th>Ret2000.02</th>\n",
              "      <th>Ret2000.03</th>\n",
              "      <th>Ret2000.04</th>\n",
              "      <th>Ret2000.05</th>\n",
              "      <th>Ret2000.06</th>\n",
              "      <th>ret2000.07</th>\n",
              "      <th>...</th>\n",
              "      <th>Ret2009.04</th>\n",
              "      <th>Ret2009.05</th>\n",
              "      <th>Ret2009.06</th>\n",
              "      <th>Ret2009.07</th>\n",
              "      <th>Ret2009.08</th>\n",
              "      <th>Ret2009.09</th>\n",
              "      <th>Ret2009.10</th>\n",
              "      <th>Ret2009.11</th>\n",
              "      <th>Ret2009.12</th>\n",
              "      <th>clusters</th>\n",
              "    </tr>\n",
              "  </thead>\n",
              "  <tbody>\n",
              "    <tr>\n",
              "      <th>0</th>\n",
              "      <td>AAON</td>\n",
              "      <td>Industrial Goods</td>\n",
              "      <td>General Building Materials</td>\n",
              "      <td>0.080678</td>\n",
              "      <td>0.066250</td>\n",
              "      <td>0.032941</td>\n",
              "      <td>0.183099</td>\n",
              "      <td>0.130334</td>\n",
              "      <td>-0.017642</td>\n",
              "      <td>-0.020517</td>\n",
              "      <td>...</td>\n",
              "      <td>0.100565</td>\n",
              "      <td>0.067762</td>\n",
              "      <td>-0.045062</td>\n",
              "      <td>-0.025832</td>\n",
              "      <td>0.060976</td>\n",
              "      <td>-0.039234</td>\n",
              "      <td>-0.101297</td>\n",
              "      <td>0.041804</td>\n",
              "      <td>0.019885</td>\n",
              "      <td>0</td>\n",
              "    </tr>\n",
              "    <tr>\n",
              "      <th>1</th>\n",
              "      <td>AAPL</td>\n",
              "      <td>Consumer Goods</td>\n",
              "      <td>Electronic Equipment</td>\n",
              "      <td>-0.010680</td>\n",
              "      <td>0.102115</td>\n",
              "      <td>0.145496</td>\n",
              "      <td>-0.084428</td>\n",
              "      <td>-0.327300</td>\n",
              "      <td>-0.359266</td>\n",
              "      <td>-0.025321</td>\n",
              "      <td>...</td>\n",
              "      <td>0.208858</td>\n",
              "      <td>0.079571</td>\n",
              "      <td>0.043673</td>\n",
              "      <td>0.138606</td>\n",
              "      <td>0.018159</td>\n",
              "      <td>0.103339</td>\n",
              "      <td>0.016995</td>\n",
              "      <td>0.053267</td>\n",
              "      <td>0.041980</td>\n",
              "      <td>1</td>\n",
              "    </tr>\n",
              "    <tr>\n",
              "      <th>2</th>\n",
              "      <td>ABAX</td>\n",
              "      <td>Healthcare</td>\n",
              "      <td>Diagnostic Substances</td>\n",
              "      <td>0.047742</td>\n",
              "      <td>0.035990</td>\n",
              "      <td>0.039702</td>\n",
              "      <td>-0.162353</td>\n",
              "      <td>-0.147427</td>\n",
              "      <td>0.048589</td>\n",
              "      <td>-0.135385</td>\n",
              "      <td>...</td>\n",
              "      <td>-0.119907</td>\n",
              "      <td>0.162126</td>\n",
              "      <td>0.161108</td>\n",
              "      <td>0.304581</td>\n",
              "      <td>0.001883</td>\n",
              "      <td>0.014026</td>\n",
              "      <td>-0.141783</td>\n",
              "      <td>-0.024740</td>\n",
              "      <td>0.134043</td>\n",
              "      <td>2</td>\n",
              "    </tr>\n",
              "    <tr>\n",
              "      <th>3</th>\n",
              "      <td>ABCB</td>\n",
              "      <td>Financial</td>\n",
              "      <td>Regional</td>\n",
              "      <td>-0.074040</td>\n",
              "      <td>-0.048170</td>\n",
              "      <td>0.018219</td>\n",
              "      <td>-0.024679</td>\n",
              "      <td>-0.006036</td>\n",
              "      <td>-0.025304</td>\n",
              "      <td>-0.094000</td>\n",
              "      <td>...</td>\n",
              "      <td>0.402570</td>\n",
              "      <td>-0.039816</td>\n",
              "      <td>-0.020155</td>\n",
              "      <td>0.004651</td>\n",
              "      <td>0.007812</td>\n",
              "      <td>0.122449</td>\n",
              "      <td>-0.170423</td>\n",
              "      <td>0.105351</td>\n",
              "      <td>0.062315</td>\n",
              "      <td>0</td>\n",
              "    </tr>\n",
              "    <tr>\n",
              "      <th>4</th>\n",
              "      <td>ABFS</td>\n",
              "      <td>Services</td>\n",
              "      <td>Trucking</td>\n",
              "      <td>-0.031046</td>\n",
              "      <td>-0.212677</td>\n",
              "      <td>0.091476</td>\n",
              "      <td>0.189338</td>\n",
              "      <td>-0.153846</td>\n",
              "      <td>-0.106115</td>\n",
              "      <td>0.355301</td>\n",
              "      <td>...</td>\n",
              "      <td>0.227007</td>\n",
              "      <td>0.216357</td>\n",
              "      <td>-0.075114</td>\n",
              "      <td>0.069471</td>\n",
              "      <td>0.112273</td>\n",
              "      <td>-0.052831</td>\n",
              "      <td>-0.127703</td>\n",
              "      <td>-0.047582</td>\n",
              "      <td>0.191981</td>\n",
              "      <td>0</td>\n",
              "    </tr>\n",
              "  </tbody>\n",
              "</table>\n",
              "<p>5 rows × 124 columns</p>\n",
              "</div>\n",
              "    <div class=\"colab-df-buttons\">\n",
              "\n",
              "  <div class=\"colab-df-container\">\n",
              "    <button class=\"colab-df-convert\" onclick=\"convertToInteractive('df-5923bf80-9fbe-40cf-bfa1-692cf873fcfe')\"\n",
              "            title=\"Convert this dataframe to an interactive table.\"\n",
              "            style=\"display:none;\">\n",
              "\n",
              "  <svg xmlns=\"http://www.w3.org/2000/svg\" height=\"24px\" viewBox=\"0 -960 960 960\">\n",
              "    <path d=\"M120-120v-720h720v720H120Zm60-500h600v-160H180v160Zm220 220h160v-160H400v160Zm0 220h160v-160H400v160ZM180-400h160v-160H180v160Zm440 0h160v-160H620v160ZM180-180h160v-160H180v160Zm440 0h160v-160H620v160Z\"/>\n",
              "  </svg>\n",
              "    </button>\n",
              "\n",
              "  <style>\n",
              "    .colab-df-container {\n",
              "      display:flex;\n",
              "      gap: 12px;\n",
              "    }\n",
              "\n",
              "    .colab-df-convert {\n",
              "      background-color: #E8F0FE;\n",
              "      border: none;\n",
              "      border-radius: 50%;\n",
              "      cursor: pointer;\n",
              "      display: none;\n",
              "      fill: #1967D2;\n",
              "      height: 32px;\n",
              "      padding: 0 0 0 0;\n",
              "      width: 32px;\n",
              "    }\n",
              "\n",
              "    .colab-df-convert:hover {\n",
              "      background-color: #E2EBFA;\n",
              "      box-shadow: 0px 1px 2px rgba(60, 64, 67, 0.3), 0px 1px 3px 1px rgba(60, 64, 67, 0.15);\n",
              "      fill: #174EA6;\n",
              "    }\n",
              "\n",
              "    .colab-df-buttons div {\n",
              "      margin-bottom: 4px;\n",
              "    }\n",
              "\n",
              "    [theme=dark] .colab-df-convert {\n",
              "      background-color: #3B4455;\n",
              "      fill: #D2E3FC;\n",
              "    }\n",
              "\n",
              "    [theme=dark] .colab-df-convert:hover {\n",
              "      background-color: #434B5C;\n",
              "      box-shadow: 0px 1px 3px 1px rgba(0, 0, 0, 0.15);\n",
              "      filter: drop-shadow(0px 1px 2px rgba(0, 0, 0, 0.3));\n",
              "      fill: #FFFFFF;\n",
              "    }\n",
              "  </style>\n",
              "\n",
              "    <script>\n",
              "      const buttonEl =\n",
              "        document.querySelector('#df-5923bf80-9fbe-40cf-bfa1-692cf873fcfe button.colab-df-convert');\n",
              "      buttonEl.style.display =\n",
              "        google.colab.kernel.accessAllowed ? 'block' : 'none';\n",
              "\n",
              "      async function convertToInteractive(key) {\n",
              "        const element = document.querySelector('#df-5923bf80-9fbe-40cf-bfa1-692cf873fcfe');\n",
              "        const dataTable =\n",
              "          await google.colab.kernel.invokeFunction('convertToInteractive',\n",
              "                                                    [key], {});\n",
              "        if (!dataTable) return;\n",
              "\n",
              "        const docLinkHtml = 'Like what you see? Visit the ' +\n",
              "          '<a target=\"_blank\" href=https://colab.research.google.com/notebooks/data_table.ipynb>data table notebook</a>'\n",
              "          + ' to learn more about interactive tables.';\n",
              "        element.innerHTML = '';\n",
              "        dataTable['output_type'] = 'display_data';\n",
              "        await google.colab.output.renderOutput(dataTable, element);\n",
              "        const docLink = document.createElement('div');\n",
              "        docLink.innerHTML = docLinkHtml;\n",
              "        element.appendChild(docLink);\n",
              "      }\n",
              "    </script>\n",
              "  </div>\n",
              "\n",
              "\n",
              "<div id=\"df-019127de-816b-42de-ac0a-25f0eaf2b8a6\">\n",
              "  <button class=\"colab-df-quickchart\" onclick=\"quickchart('df-019127de-816b-42de-ac0a-25f0eaf2b8a6')\"\n",
              "            title=\"Suggest charts\"\n",
              "            style=\"display:none;\">\n",
              "\n",
              "<svg xmlns=\"http://www.w3.org/2000/svg\" height=\"24px\"viewBox=\"0 0 24 24\"\n",
              "     width=\"24px\">\n",
              "    <g>\n",
              "        <path d=\"M19 3H5c-1.1 0-2 .9-2 2v14c0 1.1.9 2 2 2h14c1.1 0 2-.9 2-2V5c0-1.1-.9-2-2-2zM9 17H7v-7h2v7zm4 0h-2V7h2v10zm4 0h-2v-4h2v4z\"/>\n",
              "    </g>\n",
              "</svg>\n",
              "  </button>\n",
              "\n",
              "<style>\n",
              "  .colab-df-quickchart {\n",
              "      --bg-color: #E8F0FE;\n",
              "      --fill-color: #1967D2;\n",
              "      --hover-bg-color: #E2EBFA;\n",
              "      --hover-fill-color: #174EA6;\n",
              "      --disabled-fill-color: #AAA;\n",
              "      --disabled-bg-color: #DDD;\n",
              "  }\n",
              "\n",
              "  [theme=dark] .colab-df-quickchart {\n",
              "      --bg-color: #3B4455;\n",
              "      --fill-color: #D2E3FC;\n",
              "      --hover-bg-color: #434B5C;\n",
              "      --hover-fill-color: #FFFFFF;\n",
              "      --disabled-bg-color: #3B4455;\n",
              "      --disabled-fill-color: #666;\n",
              "  }\n",
              "\n",
              "  .colab-df-quickchart {\n",
              "    background-color: var(--bg-color);\n",
              "    border: none;\n",
              "    border-radius: 50%;\n",
              "    cursor: pointer;\n",
              "    display: none;\n",
              "    fill: var(--fill-color);\n",
              "    height: 32px;\n",
              "    padding: 0;\n",
              "    width: 32px;\n",
              "  }\n",
              "\n",
              "  .colab-df-quickchart:hover {\n",
              "    background-color: var(--hover-bg-color);\n",
              "    box-shadow: 0 1px 2px rgba(60, 64, 67, 0.3), 0 1px 3px 1px rgba(60, 64, 67, 0.15);\n",
              "    fill: var(--button-hover-fill-color);\n",
              "  }\n",
              "\n",
              "  .colab-df-quickchart-complete:disabled,\n",
              "  .colab-df-quickchart-complete:disabled:hover {\n",
              "    background-color: var(--disabled-bg-color);\n",
              "    fill: var(--disabled-fill-color);\n",
              "    box-shadow: none;\n",
              "  }\n",
              "\n",
              "  .colab-df-spinner {\n",
              "    border: 2px solid var(--fill-color);\n",
              "    border-color: transparent;\n",
              "    border-bottom-color: var(--fill-color);\n",
              "    animation:\n",
              "      spin 1s steps(1) infinite;\n",
              "  }\n",
              "\n",
              "  @keyframes spin {\n",
              "    0% {\n",
              "      border-color: transparent;\n",
              "      border-bottom-color: var(--fill-color);\n",
              "      border-left-color: var(--fill-color);\n",
              "    }\n",
              "    20% {\n",
              "      border-color: transparent;\n",
              "      border-left-color: var(--fill-color);\n",
              "      border-top-color: var(--fill-color);\n",
              "    }\n",
              "    30% {\n",
              "      border-color: transparent;\n",
              "      border-left-color: var(--fill-color);\n",
              "      border-top-color: var(--fill-color);\n",
              "      border-right-color: var(--fill-color);\n",
              "    }\n",
              "    40% {\n",
              "      border-color: transparent;\n",
              "      border-right-color: var(--fill-color);\n",
              "      border-top-color: var(--fill-color);\n",
              "    }\n",
              "    60% {\n",
              "      border-color: transparent;\n",
              "      border-right-color: var(--fill-color);\n",
              "    }\n",
              "    80% {\n",
              "      border-color: transparent;\n",
              "      border-right-color: var(--fill-color);\n",
              "      border-bottom-color: var(--fill-color);\n",
              "    }\n",
              "    90% {\n",
              "      border-color: transparent;\n",
              "      border-bottom-color: var(--fill-color);\n",
              "    }\n",
              "  }\n",
              "</style>\n",
              "\n",
              "  <script>\n",
              "    async function quickchart(key) {\n",
              "      const quickchartButtonEl =\n",
              "        document.querySelector('#' + key + ' button');\n",
              "      quickchartButtonEl.disabled = true;  // To prevent multiple clicks.\n",
              "      quickchartButtonEl.classList.add('colab-df-spinner');\n",
              "      try {\n",
              "        const charts = await google.colab.kernel.invokeFunction(\n",
              "            'suggestCharts', [key], {});\n",
              "      } catch (error) {\n",
              "        console.error('Error during call to suggestCharts:', error);\n",
              "      }\n",
              "      quickchartButtonEl.classList.remove('colab-df-spinner');\n",
              "      quickchartButtonEl.classList.add('colab-df-quickchart-complete');\n",
              "    }\n",
              "    (() => {\n",
              "      let quickchartButtonEl =\n",
              "        document.querySelector('#df-019127de-816b-42de-ac0a-25f0eaf2b8a6 button');\n",
              "      quickchartButtonEl.style.display =\n",
              "        google.colab.kernel.accessAllowed ? 'block' : 'none';\n",
              "    })();\n",
              "  </script>\n",
              "</div>\n",
              "    </div>\n",
              "  </div>\n"
            ]
          },
          "metadata": {},
          "execution_count": 11
        }
      ]
    },
    {
      "cell_type": "markdown",
      "source": [
        "## b_iii\n",
        "\n",
        "Extract cluster assignments from your hierarchical clustering model, using the number of clusters you selected.\n",
        "\n",
        "Describe each cluster, using the number of observations in the cluster, the industry of the companies in the cluster, and the subindustry of the companies in the cluster.\n",
        "> See cells below"
      ],
      "metadata": {
        "id": "ciKdxftO2gSV"
      }
    },
    {
      "cell_type": "code",
      "source": [
        "# Number of observations in each cluster\n",
        "df_nasdaq.groupby('clusters')['Industry'].count()"
      ],
      "metadata": {
        "colab": {
          "base_uri": "https://localhost:8080/"
        },
        "id": "Ots1IQUsLlNC",
        "outputId": "7429a598-9aed-4a5f-f714-9c9ab8d9ba18"
      },
      "execution_count": null,
      "outputs": [
        {
          "output_type": "execute_result",
          "data": {
            "text/plain": [
              "clusters\n",
              "0    588\n",
              "1    131\n",
              "2    350\n",
              "3     88\n",
              "4      1\n",
              "Name: Industry, dtype: int64"
            ]
          },
          "metadata": {},
          "execution_count": 12
        }
      ]
    },
    {
      "cell_type": "code",
      "source": [
        "# Slice into respective clusters\n",
        "cluster_0 = df_nasdaq[df_nasdaq['clusters'] == 0]\n",
        "cluster_1 = df_nasdaq[df_nasdaq['clusters'] == 1]\n",
        "cluster_2 = df_nasdaq[df_nasdaq['clusters'] == 2]\n",
        "cluster_3 = df_nasdaq[df_nasdaq['clusters'] == 3]\n",
        "cluster_4 = df_nasdaq[df_nasdaq['clusters'] == 4]"
      ],
      "metadata": {
        "id": "fi7Yg_xU3u7Y"
      },
      "execution_count": null,
      "outputs": []
    },
    {
      "cell_type": "code",
      "source": [
        "# Original dataset for reference.\n",
        "df_nasdaq.groupby('Industry')['clusters'].count()"
      ],
      "metadata": {
        "colab": {
          "base_uri": "https://localhost:8080/"
        },
        "id": "zlsQQeMc5ZDT",
        "outputId": "02665492-2cee-4595-cfa9-55f997ea2206"
      },
      "execution_count": null,
      "outputs": [
        {
          "output_type": "execute_result",
          "data": {
            "text/plain": [
              "Industry\n",
              "Basic Materials       50\n",
              "Conglomerates          2\n",
              "Consumer Cyclical      2\n",
              "Consumer Goods        80\n",
              "Financial            338\n",
              "Healthcare           111\n",
              "Industrial Goods      65\n",
              "Services             202\n",
              "Technology           296\n",
              "Utilities             12\n",
              "Name: clusters, dtype: int64"
            ]
          },
          "metadata": {},
          "execution_count": 14
        }
      ]
    },
    {
      "cell_type": "markdown",
      "source": [
        "cluster_0"
      ],
      "metadata": {
        "id": "hWMRsoHb9qBp"
      }
    },
    {
      "cell_type": "code",
      "source": [
        "# Industry count by first cluster.\n",
        "cluster_0.groupby('Industry')['clusters'].count()\n",
        "\n",
        "# Finance and Services heavy"
      ],
      "metadata": {
        "colab": {
          "base_uri": "https://localhost:8080/"
        },
        "id": "uMVhZRI96gVB",
        "outputId": "92699fa3-5aa6-42e8-9e35-9a2399a2657d"
      },
      "execution_count": null,
      "outputs": [
        {
          "output_type": "execute_result",
          "data": {
            "text/plain": [
              "Industry\n",
              "Basic Materials       17\n",
              "Conglomerates          2\n",
              "Consumer Cyclical      2\n",
              "Consumer Goods        54\n",
              "Financial            299\n",
              "Healthcare            29\n",
              "Industrial Goods      23\n",
              "Services             113\n",
              "Technology            38\n",
              "Utilities             11\n",
              "Name: clusters, dtype: int64"
            ]
          },
          "metadata": {},
          "execution_count": 15
        }
      ]
    },
    {
      "cell_type": "code",
      "source": [
        "# SubIndustry count by first cluster, sort to show most prominent\n",
        "cluster_0.groupby('SubIndustry')['clusters'].count().sort_values(ascending=False)"
      ],
      "metadata": {
        "colab": {
          "base_uri": "https://localhost:8080/"
        },
        "id": "YntO6E5_70uf",
        "outputId": "6da48155-ccfe-40f6-c20b-80b5aa81eed5"
      },
      "execution_count": null,
      "outputs": [
        {
          "output_type": "execute_result",
          "data": {
            "text/plain": [
              "SubIndustry\n",
              "Regional                          196\n",
              "Savings & Loans                    51\n",
              "Property & Casualty Insurance      16\n",
              "Restaurants                        11\n",
              "Trucking                           11\n",
              "                                 ... \n",
              "Movie Production, Theaters          1\n",
              "Oil & Gas Equipment & Services      1\n",
              "Oil & Gas Pipelines                 1\n",
              "Paper & Paper Products              1\n",
              "Wireless Communications             1\n",
              "Name: clusters, Length: 125, dtype: int64"
            ]
          },
          "metadata": {},
          "execution_count": 16
        }
      ]
    },
    {
      "cell_type": "markdown",
      "source": [
        "cluster_1"
      ],
      "metadata": {
        "id": "sRnB7NK99sIZ"
      }
    },
    {
      "cell_type": "code",
      "source": [
        "#Industry count by 2nd cluster\n",
        "cluster_1.groupby('Industry')['clusters'].count()\n",
        "\n",
        "# Technology heavy cluster"
      ],
      "metadata": {
        "colab": {
          "base_uri": "https://localhost:8080/"
        },
        "id": "Uk414eZz6yDe",
        "outputId": "2c9e92ee-7e2f-4aa4-d7b9-fc289f535ecb"
      },
      "execution_count": null,
      "outputs": [
        {
          "output_type": "execute_result",
          "data": {
            "text/plain": [
              "Industry\n",
              "Basic Materials       2\n",
              "Consumer Goods        1\n",
              "Financial             5\n",
              "Healthcare            5\n",
              "Industrial Goods      3\n",
              "Services             11\n",
              "Technology          104\n",
              "Name: clusters, dtype: int64"
            ]
          },
          "metadata": {},
          "execution_count": 17
        }
      ]
    },
    {
      "cell_type": "code",
      "source": [
        "#SubIndustry count by 2nd cluster, show most prominent\n",
        "cluster_1.groupby('SubIndustry')['clusters'].count().sort_values(ascending=False)"
      ],
      "metadata": {
        "colab": {
          "base_uri": "https://localhost:8080/"
        },
        "id": "-yDNUgG58Hie",
        "outputId": "7707876b-5a4f-43f4-e3c7-9bc0ce15be61"
      },
      "execution_count": null,
      "outputs": [
        {
          "output_type": "execute_result",
          "data": {
            "text/plain": [
              "SubIndustry\n",
              "Semiconductor                          33\n",
              "Semiconductor Equipment & Materials    14\n",
              "Business Software & Services            8\n",
              "Communication Equipment                 8\n",
              "Scientific & Technical Instruments      7\n",
              "Computer Peripherals                    7\n",
              "Application Software                    6\n",
              "Semiconductor- Memory Chips             4\n",
              "Investment Brokerage                    3\n",
              "Diversified Electronics                 2\n",
              "Medical Appliances & Equipment          2\n",
              "Security Software & Services            2\n",
              "Specialty Retail, Other                 2\n",
              "Data Storage Devices                    2\n",
              "Technical & System Software             2\n",
              "Computer Based Systems                  2\n",
              "CATV Systems                            2\n",
              "Business Services                       2\n",
              "Networking & Communication Devices      2\n",
              "Money Center Banks                      1\n",
              "Steel & Iron                            1\n",
              "Waste Management                        1\n",
              "Research Services                       1\n",
              "Printed Circuit Boards                  1\n",
              "Pollution & Treatment Controls          1\n",
              "Internet Software & Services            1\n",
              "Medical Laboratories & Research         1\n",
              "Management Services                     1\n",
              "Biotechnology                           1\n",
              "Internet Information Providers          1\n",
              "Electronics Wholesale                   1\n",
              "Electronic Equipment                    1\n",
              "Drug Manufacturers                      1\n",
              "Diversified Machinery                   1\n",
              "Diversified Investments                 1\n",
              "Diversified Computer Systems            1\n",
              "Containers &amp; Packaging              1\n",
              "Computers Wholesale                     1\n",
              "Catalog & Mail Order Houses             1\n",
              "Wireless Communications                 1\n",
              "Name: clusters, dtype: int64"
            ]
          },
          "metadata": {},
          "execution_count": 18
        }
      ]
    },
    {
      "cell_type": "markdown",
      "source": [
        "cluster_2"
      ],
      "metadata": {
        "id": "1sAk20PI9uXG"
      }
    },
    {
      "cell_type": "code",
      "source": [
        "#Industry count by 3rd cluster\n",
        "cluster_2.groupby('Industry')['clusters'].count()\n",
        "\n",
        "# Technology heavy, + some diversification"
      ],
      "metadata": {
        "colab": {
          "base_uri": "https://localhost:8080/"
        },
        "id": "xAuG5DkO7TNC",
        "outputId": "c5dfbab9-637a-4d18-ac07-71630d568b33"
      },
      "execution_count": null,
      "outputs": [
        {
          "output_type": "execute_result",
          "data": {
            "text/plain": [
              "Industry\n",
              "Basic Materials      31\n",
              "Consumer Goods       24\n",
              "Financial            34\n",
              "Healthcare           49\n",
              "Industrial Goods     37\n",
              "Services             73\n",
              "Technology          101\n",
              "Utilities             1\n",
              "Name: clusters, dtype: int64"
            ]
          },
          "metadata": {},
          "execution_count": 19
        }
      ]
    },
    {
      "cell_type": "code",
      "source": [
        "#SubIndustry count by 3rd cluster, show most prominent\n",
        "cluster_2.groupby('SubIndustry')['clusters'].count().sort_values(ascending=False)"
      ],
      "metadata": {
        "colab": {
          "base_uri": "https://localhost:8080/"
        },
        "id": "UV27GgxN9X88",
        "outputId": "d23549e0-f41b-48e6-edd3-1a49c94d9ba3"
      },
      "execution_count": null,
      "outputs": [
        {
          "output_type": "execute_result",
          "data": {
            "text/plain": [
              "SubIndustry\n",
              "Application Software                  16\n",
              "Independent Oil & Gas                 13\n",
              "Biotechnology                         13\n",
              "Scientific & Technical Instruments    12\n",
              "Business Services                     11\n",
              "                                      ..\n",
              "Medical Equipment Wholesale            1\n",
              "Medical Practitioners                  1\n",
              "Movie Production, Theaters             1\n",
              "Music & Video Stores                   1\n",
              "Life Insurance                         1\n",
              "Name: clusters, Length: 106, dtype: int64"
            ]
          },
          "metadata": {},
          "execution_count": 20
        }
      ]
    },
    {
      "cell_type": "markdown",
      "source": [
        "cluster_3"
      ],
      "metadata": {
        "id": "NhBto8uW9v0V"
      }
    },
    {
      "cell_type": "code",
      "source": [
        "#Industry count by 4th cluster\n",
        "cluster_3.groupby('Industry')['clusters'].count()\n",
        "\n",
        "# Healthcare and technology cluster"
      ],
      "metadata": {
        "colab": {
          "base_uri": "https://localhost:8080/"
        },
        "id": "3VlpWAIa7UVs",
        "outputId": "4445ab30-c414-401e-edd2-45f961a3a59f"
      },
      "execution_count": null,
      "outputs": [
        {
          "output_type": "execute_result",
          "data": {
            "text/plain": [
              "Industry\n",
              "Consumer Goods       1\n",
              "Healthcare          28\n",
              "Industrial Goods     1\n",
              "Services             5\n",
              "Technology          53\n",
              "Name: clusters, dtype: int64"
            ]
          },
          "metadata": {},
          "execution_count": 21
        }
      ]
    },
    {
      "cell_type": "code",
      "source": [
        "#SubIndustry count by 4th cluster, show most prominent\n",
        "cluster_3.groupby('SubIndustry')['clusters'].count().sort_values(ascending=False)"
      ],
      "metadata": {
        "colab": {
          "base_uri": "https://localhost:8080/"
        },
        "id": "TGijqiGU9ZTa",
        "outputId": "89618b91-0e68-49ed-f03d-7c31127a8b36"
      },
      "execution_count": null,
      "outputs": [
        {
          "output_type": "execute_result",
          "data": {
            "text/plain": [
              "SubIndustry\n",
              "Biotechnology                          17\n",
              "Application Software                    6\n",
              "Communication Equipment                 6\n",
              "Networking & Communication Devices      5\n",
              "Semiconductor Equipment & Materials     5\n",
              "Semiconductor                           5\n",
              "Medical Instruments & Supplies          4\n",
              "Diversified Electronics                 3\n",
              "Multimedia & Graphics Software          3\n",
              "Internet Software & Services            3\n",
              "Computer Peripherals                    2\n",
              "Data Storage Devices                    2\n",
              "Drug Manufacturers                      2\n",
              "Research Services                       2\n",
              "Business Software & Services            2\n",
              "Semiconductor- Memory Chips             1\n",
              "Technical & System Software             1\n",
              "Security Software & Services            1\n",
              "Scientific & Technical Instruments      1\n",
              "Processing Systems & Products           1\n",
              "Printed Circuit Boards                  1\n",
              "Medical Laboratories & Research         1\n",
              "Information Technology Services         1\n",
              "Medical Appliances & Equipment          1\n",
              "Internet Information Providers          1\n",
              "Auto Parts                              1\n",
              "Industrial Equipment Wholesale          1\n",
              "Industrial Electrical Equipment         1\n",
              "Healthcare Information Services         1\n",
              "Electronics Wholesale                   1\n",
              "Drugs                                   1\n",
              "Drug Delivery                           1\n",
              "Diversified Communication Services      1\n",
              "Diagnostic Substances                   1\n",
              "Catalog & Mail Order Houses             1\n",
              "Wireless Communications                 1\n",
              "Name: clusters, dtype: int64"
            ]
          },
          "metadata": {},
          "execution_count": 22
        }
      ]
    },
    {
      "cell_type": "markdown",
      "source": [
        "cluster_4"
      ],
      "metadata": {
        "id": "VIvPYF_m9xWw"
      }
    },
    {
      "cell_type": "code",
      "source": [
        "cluster_4.groupby('Industry')['clusters'].count()\n",
        "\n",
        "cluster_4\n",
        "# Outlier/remainder"
      ],
      "metadata": {
        "colab": {
          "base_uri": "https://localhost:8080/",
          "height": 147
        },
        "id": "nrb8mqvY7VJ0",
        "outputId": "c73be777-aa5d-472a-866d-8f3b2ac9d12b"
      },
      "execution_count": null,
      "outputs": [
        {
          "output_type": "execute_result",
          "data": {
            "text/plain": [
              "    StockSymbol          Industry       SubIndustry  Ret2000.01  Ret2000.02  \\\n",
              "502        IDSA  Industrial Goods  Waste Management    0.166667    0.213592   \n",
              "\n",
              "     Ret2000.03  Ret2000.04  Ret2000.05  Ret2000.06  ret2000.07  ...  \\\n",
              "502    0.333333   -0.333333       -0.11   -0.157303   -0.126667  ...   \n",
              "\n",
              "     Ret2009.04  Ret2009.05  Ret2009.06  Ret2009.07  Ret2009.08  Ret2009.09  \\\n",
              "502    0.002004    0.029412    0.306641     0.09375    0.039402    0.138158   \n",
              "\n",
              "     Ret2009.10  Ret2009.11  Ret2009.12  clusters  \n",
              "502    0.077193    0.057235   -0.041206         4  \n",
              "\n",
              "[1 rows x 124 columns]"
            ],
            "text/html": [
              "\n",
              "  <div id=\"df-f01145b9-9b07-4c0b-bc16-5d2b667912aa\" class=\"colab-df-container\">\n",
              "    <div>\n",
              "<style scoped>\n",
              "    .dataframe tbody tr th:only-of-type {\n",
              "        vertical-align: middle;\n",
              "    }\n",
              "\n",
              "    .dataframe tbody tr th {\n",
              "        vertical-align: top;\n",
              "    }\n",
              "\n",
              "    .dataframe thead th {\n",
              "        text-align: right;\n",
              "    }\n",
              "</style>\n",
              "<table border=\"1\" class=\"dataframe\">\n",
              "  <thead>\n",
              "    <tr style=\"text-align: right;\">\n",
              "      <th></th>\n",
              "      <th>StockSymbol</th>\n",
              "      <th>Industry</th>\n",
              "      <th>SubIndustry</th>\n",
              "      <th>Ret2000.01</th>\n",
              "      <th>Ret2000.02</th>\n",
              "      <th>Ret2000.03</th>\n",
              "      <th>Ret2000.04</th>\n",
              "      <th>Ret2000.05</th>\n",
              "      <th>Ret2000.06</th>\n",
              "      <th>ret2000.07</th>\n",
              "      <th>...</th>\n",
              "      <th>Ret2009.04</th>\n",
              "      <th>Ret2009.05</th>\n",
              "      <th>Ret2009.06</th>\n",
              "      <th>Ret2009.07</th>\n",
              "      <th>Ret2009.08</th>\n",
              "      <th>Ret2009.09</th>\n",
              "      <th>Ret2009.10</th>\n",
              "      <th>Ret2009.11</th>\n",
              "      <th>Ret2009.12</th>\n",
              "      <th>clusters</th>\n",
              "    </tr>\n",
              "  </thead>\n",
              "  <tbody>\n",
              "    <tr>\n",
              "      <th>502</th>\n",
              "      <td>IDSA</td>\n",
              "      <td>Industrial Goods</td>\n",
              "      <td>Waste Management</td>\n",
              "      <td>0.166667</td>\n",
              "      <td>0.213592</td>\n",
              "      <td>0.333333</td>\n",
              "      <td>-0.333333</td>\n",
              "      <td>-0.11</td>\n",
              "      <td>-0.157303</td>\n",
              "      <td>-0.126667</td>\n",
              "      <td>...</td>\n",
              "      <td>0.002004</td>\n",
              "      <td>0.029412</td>\n",
              "      <td>0.306641</td>\n",
              "      <td>0.09375</td>\n",
              "      <td>0.039402</td>\n",
              "      <td>0.138158</td>\n",
              "      <td>0.077193</td>\n",
              "      <td>0.057235</td>\n",
              "      <td>-0.041206</td>\n",
              "      <td>4</td>\n",
              "    </tr>\n",
              "  </tbody>\n",
              "</table>\n",
              "<p>1 rows × 124 columns</p>\n",
              "</div>\n",
              "    <div class=\"colab-df-buttons\">\n",
              "\n",
              "  <div class=\"colab-df-container\">\n",
              "    <button class=\"colab-df-convert\" onclick=\"convertToInteractive('df-f01145b9-9b07-4c0b-bc16-5d2b667912aa')\"\n",
              "            title=\"Convert this dataframe to an interactive table.\"\n",
              "            style=\"display:none;\">\n",
              "\n",
              "  <svg xmlns=\"http://www.w3.org/2000/svg\" height=\"24px\" viewBox=\"0 -960 960 960\">\n",
              "    <path d=\"M120-120v-720h720v720H120Zm60-500h600v-160H180v160Zm220 220h160v-160H400v160Zm0 220h160v-160H400v160ZM180-400h160v-160H180v160Zm440 0h160v-160H620v160ZM180-180h160v-160H180v160Zm440 0h160v-160H620v160Z\"/>\n",
              "  </svg>\n",
              "    </button>\n",
              "\n",
              "  <style>\n",
              "    .colab-df-container {\n",
              "      display:flex;\n",
              "      gap: 12px;\n",
              "    }\n",
              "\n",
              "    .colab-df-convert {\n",
              "      background-color: #E8F0FE;\n",
              "      border: none;\n",
              "      border-radius: 50%;\n",
              "      cursor: pointer;\n",
              "      display: none;\n",
              "      fill: #1967D2;\n",
              "      height: 32px;\n",
              "      padding: 0 0 0 0;\n",
              "      width: 32px;\n",
              "    }\n",
              "\n",
              "    .colab-df-convert:hover {\n",
              "      background-color: #E2EBFA;\n",
              "      box-shadow: 0px 1px 2px rgba(60, 64, 67, 0.3), 0px 1px 3px 1px rgba(60, 64, 67, 0.15);\n",
              "      fill: #174EA6;\n",
              "    }\n",
              "\n",
              "    .colab-df-buttons div {\n",
              "      margin-bottom: 4px;\n",
              "    }\n",
              "\n",
              "    [theme=dark] .colab-df-convert {\n",
              "      background-color: #3B4455;\n",
              "      fill: #D2E3FC;\n",
              "    }\n",
              "\n",
              "    [theme=dark] .colab-df-convert:hover {\n",
              "      background-color: #434B5C;\n",
              "      box-shadow: 0px 1px 3px 1px rgba(0, 0, 0, 0.15);\n",
              "      filter: drop-shadow(0px 1px 2px rgba(0, 0, 0, 0.3));\n",
              "      fill: #FFFFFF;\n",
              "    }\n",
              "  </style>\n",
              "\n",
              "    <script>\n",
              "      const buttonEl =\n",
              "        document.querySelector('#df-f01145b9-9b07-4c0b-bc16-5d2b667912aa button.colab-df-convert');\n",
              "      buttonEl.style.display =\n",
              "        google.colab.kernel.accessAllowed ? 'block' : 'none';\n",
              "\n",
              "      async function convertToInteractive(key) {\n",
              "        const element = document.querySelector('#df-f01145b9-9b07-4c0b-bc16-5d2b667912aa');\n",
              "        const dataTable =\n",
              "          await google.colab.kernel.invokeFunction('convertToInteractive',\n",
              "                                                    [key], {});\n",
              "        if (!dataTable) return;\n",
              "\n",
              "        const docLinkHtml = 'Like what you see? Visit the ' +\n",
              "          '<a target=\"_blank\" href=https://colab.research.google.com/notebooks/data_table.ipynb>data table notebook</a>'\n",
              "          + ' to learn more about interactive tables.';\n",
              "        element.innerHTML = '';\n",
              "        dataTable['output_type'] = 'display_data';\n",
              "        await google.colab.output.renderOutput(dataTable, element);\n",
              "        const docLink = document.createElement('div');\n",
              "        docLink.innerHTML = docLinkHtml;\n",
              "        element.appendChild(docLink);\n",
              "      }\n",
              "    </script>\n",
              "  </div>\n",
              "\n",
              "    </div>\n",
              "  </div>\n"
            ]
          },
          "metadata": {},
          "execution_count": 23
        }
      ]
    },
    {
      "cell_type": "markdown",
      "source": [
        "## b_iv\n",
        "\n",
        "We expect there to be significant differences between the returns of stocks in different clusters.\n",
        "\n",
        "For February 2000, do some clusters have negative average returns while other clusters have positive average returns?\n",
        "\n",
        "> The 1st cluster had -2.36% return for the month\n",
        "\n",
        "> The 2nd cluster had +19.71% return for the month\n",
        "\n",
        "> The 3rd cluster had +11.37% return for the month\n",
        "\n",
        "> The 4th cluster had +103.81% return for the month\n",
        "\n",
        "> The 5th cluster had +21.36% return for the month\n",
        "\n",
        "How about for March 2000?\n",
        "\n",
        "> The 1st cluster had +1.14 return for the month\n",
        "\n",
        "> The 2nd cluster had -5.20% return for the month\n",
        "\n",
        "> The 3rd cluster had -0.34% return for the month\n",
        "\n",
        "> The 4th cluster had -25.93% return for the month\n",
        "\n",
        "> The 5th cluster had +33.33% return for the month"
      ],
      "metadata": {
        "id": "FYcyCzS6-t_t"
      }
    },
    {
      "cell_type": "code",
      "source": [
        "# Slice 'Ret2000.02' then groupby.mean() to get average return for each cluster.\n",
        "\n",
        "feb_2000 = df_nasdaq[['Ret2000.02', 'clusters']]\n",
        "\n",
        "feb_2000.groupby('clusters')['Ret2000.02'].mean()"
      ],
      "metadata": {
        "id": "N4X2rTK67WGg",
        "colab": {
          "base_uri": "https://localhost:8080/"
        },
        "outputId": "8d0e0b46-b14b-4148-845d-c802443864a6"
      },
      "execution_count": null,
      "outputs": [
        {
          "output_type": "execute_result",
          "data": {
            "text/plain": [
              "clusters\n",
              "0   -0.023660\n",
              "1    0.197151\n",
              "2    0.113708\n",
              "3    1.038105\n",
              "4    0.213592\n",
              "Name: Ret2000.02, dtype: float64"
            ]
          },
          "metadata": {},
          "execution_count": 24
        }
      ]
    },
    {
      "cell_type": "code",
      "source": [
        "# Slice 'Ret2000.03' then groupby.mean() to get average return for each cluster.\n",
        "\n",
        "mar_2000 = df_nasdaq[['Ret2000.03', 'clusters']]\n",
        "\n",
        "mar_2000.groupby('clusters')['Ret2000.03'].mean()"
      ],
      "metadata": {
        "colab": {
          "base_uri": "https://localhost:8080/"
        },
        "id": "NwyLaZLD_aSi",
        "outputId": "6d866899-b3f4-42bc-e98e-a299b51af51e"
      },
      "execution_count": null,
      "outputs": [
        {
          "output_type": "execute_result",
          "data": {
            "text/plain": [
              "clusters\n",
              "0    0.011428\n",
              "1   -0.052053\n",
              "2   -0.003415\n",
              "3   -0.259350\n",
              "4    0.333333\n",
              "Name: Ret2000.03, dtype: float64"
            ]
          },
          "metadata": {},
          "execution_count": 25
        }
      ]
    },
    {
      "cell_type": "code",
      "source": [
        "print('Average returns of lifetime of stocks within each hierarchical cluster')\n",
        "print((cluster_0.iloc[:,3:-1].mean(axis=1)).mean())\n",
        "print((cluster_1.iloc[:,3:-1].mean(axis=1)).mean())\n",
        "print((cluster_2.iloc[:,3:-1].mean(axis=1)).mean())\n",
        "print((cluster_3.iloc[:,3:-1].mean(axis=1)).mean())\n",
        "print((cluster_4.iloc[:,3:-1].mean(axis=1)).mean())\n",
        "\n",
        "#cluster_4 has the best return at 7.93%"
      ],
      "metadata": {
        "colab": {
          "base_uri": "https://localhost:8080/"
        },
        "id": "0izCvS_uh-vf",
        "outputId": "8fe91cc0-a4aa-4e47-fb9e-e5c58bcef287"
      },
      "execution_count": null,
      "outputs": [
        {
          "output_type": "stream",
          "name": "stdout",
          "text": [
            "Average returns of lifetime of stocks within each hierarchical cluster\n",
            "0.006143887716354875\n",
            "0.010419559001717558\n",
            "0.015344571379785715\n",
            "0.016295135261458333\n",
            "0.07935574077500002\n"
          ]
        }
      ]
    },
    {
      "cell_type": "markdown",
      "source": [
        "## b_v\n",
        "\n",
        "Now run the K-means clustering algorithm on this data. You should select the same number of clusters you used for hierarchical clustering.\n",
        "\n",
        "Extract cluster assignments from your K-means clustering model, and compare to hierarchical clustering.\n",
        "\n",
        "Are the clusters similar or different?\n",
        "> There some general similarities such as both hierarchical and k-means clustering resulting in Finance, Technology, Healthcare+Technology, or Diversified clusters for both models. The differences are in the counts of each industry amongst clusters. For example, when comapring cluster_0 and k_cluster_0 they are both weighted in the Finance and Services industries, however k_cluster_0 selected a few more Finance companies and omitted some Services companies.\n",
        "\n",
        "> It should noted however, k-means clustering results in higher average returns in 4/5 clusters compared to hierarchical clustering."
      ],
      "metadata": {
        "id": "24vlNYDGBHxM"
      }
    },
    {
      "cell_type": "code",
      "source": [
        "#KMeans clustering\n",
        "\n",
        "K = df_cluster\n",
        "\n",
        "kmeans = KMeans(n_clusters = num_clusters, random_state=42)\n",
        "\n",
        "kmeans.fit(K)"
      ],
      "metadata": {
        "colab": {
          "base_uri": "https://localhost:8080/",
          "height": 129
        },
        "id": "PG9ZCfK1Asv4",
        "outputId": "0d5261f3-17ba-4128-f169-215b7aedb51e"
      },
      "execution_count": null,
      "outputs": [
        {
          "output_type": "stream",
          "name": "stderr",
          "text": [
            "/usr/local/lib/python3.10/dist-packages/sklearn/cluster/_kmeans.py:870: FutureWarning: The default value of `n_init` will change from 10 to 'auto' in 1.4. Set the value of `n_init` explicitly to suppress the warning\n",
            "  warnings.warn(\n"
          ]
        },
        {
          "output_type": "execute_result",
          "data": {
            "text/plain": [
              "KMeans(n_clusters=5, random_state=42)"
            ],
            "text/html": [
              "<style>#sk-container-id-1 {color: black;background-color: white;}#sk-container-id-1 pre{padding: 0;}#sk-container-id-1 div.sk-toggleable {background-color: white;}#sk-container-id-1 label.sk-toggleable__label {cursor: pointer;display: block;width: 100%;margin-bottom: 0;padding: 0.3em;box-sizing: border-box;text-align: center;}#sk-container-id-1 label.sk-toggleable__label-arrow:before {content: \"▸\";float: left;margin-right: 0.25em;color: #696969;}#sk-container-id-1 label.sk-toggleable__label-arrow:hover:before {color: black;}#sk-container-id-1 div.sk-estimator:hover label.sk-toggleable__label-arrow:before {color: black;}#sk-container-id-1 div.sk-toggleable__content {max-height: 0;max-width: 0;overflow: hidden;text-align: left;background-color: #f0f8ff;}#sk-container-id-1 div.sk-toggleable__content pre {margin: 0.2em;color: black;border-radius: 0.25em;background-color: #f0f8ff;}#sk-container-id-1 input.sk-toggleable__control:checked~div.sk-toggleable__content {max-height: 200px;max-width: 100%;overflow: auto;}#sk-container-id-1 input.sk-toggleable__control:checked~label.sk-toggleable__label-arrow:before {content: \"▾\";}#sk-container-id-1 div.sk-estimator input.sk-toggleable__control:checked~label.sk-toggleable__label {background-color: #d4ebff;}#sk-container-id-1 div.sk-label input.sk-toggleable__control:checked~label.sk-toggleable__label {background-color: #d4ebff;}#sk-container-id-1 input.sk-hidden--visually {border: 0;clip: rect(1px 1px 1px 1px);clip: rect(1px, 1px, 1px, 1px);height: 1px;margin: -1px;overflow: hidden;padding: 0;position: absolute;width: 1px;}#sk-container-id-1 div.sk-estimator {font-family: monospace;background-color: #f0f8ff;border: 1px dotted black;border-radius: 0.25em;box-sizing: border-box;margin-bottom: 0.5em;}#sk-container-id-1 div.sk-estimator:hover {background-color: #d4ebff;}#sk-container-id-1 div.sk-parallel-item::after {content: \"\";width: 100%;border-bottom: 1px solid gray;flex-grow: 1;}#sk-container-id-1 div.sk-label:hover label.sk-toggleable__label {background-color: #d4ebff;}#sk-container-id-1 div.sk-serial::before {content: \"\";position: absolute;border-left: 1px solid gray;box-sizing: border-box;top: 0;bottom: 0;left: 50%;z-index: 0;}#sk-container-id-1 div.sk-serial {display: flex;flex-direction: column;align-items: center;background-color: white;padding-right: 0.2em;padding-left: 0.2em;position: relative;}#sk-container-id-1 div.sk-item {position: relative;z-index: 1;}#sk-container-id-1 div.sk-parallel {display: flex;align-items: stretch;justify-content: center;background-color: white;position: relative;}#sk-container-id-1 div.sk-item::before, #sk-container-id-1 div.sk-parallel-item::before {content: \"\";position: absolute;border-left: 1px solid gray;box-sizing: border-box;top: 0;bottom: 0;left: 50%;z-index: -1;}#sk-container-id-1 div.sk-parallel-item {display: flex;flex-direction: column;z-index: 1;position: relative;background-color: white;}#sk-container-id-1 div.sk-parallel-item:first-child::after {align-self: flex-end;width: 50%;}#sk-container-id-1 div.sk-parallel-item:last-child::after {align-self: flex-start;width: 50%;}#sk-container-id-1 div.sk-parallel-item:only-child::after {width: 0;}#sk-container-id-1 div.sk-dashed-wrapped {border: 1px dashed gray;margin: 0 0.4em 0.5em 0.4em;box-sizing: border-box;padding-bottom: 0.4em;background-color: white;}#sk-container-id-1 div.sk-label label {font-family: monospace;font-weight: bold;display: inline-block;line-height: 1.2em;}#sk-container-id-1 div.sk-label-container {text-align: center;}#sk-container-id-1 div.sk-container {/* jupyter's `normalize.less` sets `[hidden] { display: none; }` but bootstrap.min.css set `[hidden] { display: none !important; }` so we also need the `!important` here to be able to override the default hidden behavior on the sphinx rendered scikit-learn.org. See: https://github.com/scikit-learn/scikit-learn/issues/21755 */display: inline-block !important;position: relative;}#sk-container-id-1 div.sk-text-repr-fallback {display: none;}</style><div id=\"sk-container-id-1\" class=\"sk-top-container\"><div class=\"sk-text-repr-fallback\"><pre>KMeans(n_clusters=5, random_state=42)</pre><b>In a Jupyter environment, please rerun this cell to show the HTML representation or trust the notebook. <br />On GitHub, the HTML representation is unable to render, please try loading this page with nbviewer.org.</b></div><div class=\"sk-container\" hidden><div class=\"sk-item\"><div class=\"sk-estimator sk-toggleable\"><input class=\"sk-toggleable__control sk-hidden--visually\" id=\"sk-estimator-id-1\" type=\"checkbox\" checked><label for=\"sk-estimator-id-1\" class=\"sk-toggleable__label sk-toggleable__label-arrow\">KMeans</label><div class=\"sk-toggleable__content\"><pre>KMeans(n_clusters=5, random_state=42)</pre></div></div></div></div></div>"
            ]
          },
          "metadata": {},
          "execution_count": 27
        }
      ]
    },
    {
      "cell_type": "code",
      "source": [
        "k_clusters = kmeans.fit_predict(K)\n",
        "df_nasdaq['k_clusters'] = k_clusters"
      ],
      "metadata": {
        "colab": {
          "base_uri": "https://localhost:8080/"
        },
        "id": "w2AKC8JZCWq9",
        "outputId": "aa98ea84-babf-416d-dd78-0d8dfcbbb9e5"
      },
      "execution_count": null,
      "outputs": [
        {
          "output_type": "stream",
          "name": "stderr",
          "text": [
            "/usr/local/lib/python3.10/dist-packages/sklearn/cluster/_kmeans.py:870: FutureWarning: The default value of `n_init` will change from 10 to 'auto' in 1.4. Set the value of `n_init` explicitly to suppress the warning\n",
            "  warnings.warn(\n"
          ]
        }
      ]
    },
    {
      "cell_type": "code",
      "source": [
        "# Slice into respective k_clusters\n",
        "k_cluster_0 = df_nasdaq[df_nasdaq['k_clusters'] == 0]\n",
        "k_cluster_1 = df_nasdaq[df_nasdaq['k_clusters'] == 1]\n",
        "k_cluster_2 = df_nasdaq[df_nasdaq['k_clusters'] == 2]\n",
        "k_cluster_3 = df_nasdaq[df_nasdaq['k_clusters'] == 3]\n",
        "k_cluster_4 = df_nasdaq[df_nasdaq['k_clusters'] == 4]"
      ],
      "metadata": {
        "id": "kM-gq875C357"
      },
      "execution_count": null,
      "outputs": []
    },
    {
      "cell_type": "code",
      "source": [
        "k_cluster_0.groupby('Industry')['clusters'].count()\n",
        "\n",
        "#Finance heavy"
      ],
      "metadata": {
        "colab": {
          "base_uri": "https://localhost:8080/"
        },
        "id": "7F50aU_jDSmO",
        "outputId": "c4162543-415e-4f80-82e6-2ea79668e8c7"
      },
      "execution_count": null,
      "outputs": [
        {
          "output_type": "execute_result",
          "data": {
            "text/plain": [
              "Industry\n",
              "Basic Materials       11\n",
              "Consumer Cyclical      1\n",
              "Consumer Goods        37\n",
              "Financial            303\n",
              "Healthcare            31\n",
              "Industrial Goods      18\n",
              "Services              97\n",
              "Technology            32\n",
              "Utilities             10\n",
              "Name: clusters, dtype: int64"
            ]
          },
          "metadata": {},
          "execution_count": 30
        }
      ]
    },
    {
      "cell_type": "code",
      "source": [
        "k_cluster_1.groupby('Industry')['clusters'].count()\n",
        "\n",
        "# Remaining/outlier cluster"
      ],
      "metadata": {
        "colab": {
          "base_uri": "https://localhost:8080/"
        },
        "id": "pchaA08EcxpH",
        "outputId": "68f7e776-17ef-4709-a90d-ddae35e0ea8e"
      },
      "execution_count": null,
      "outputs": [
        {
          "output_type": "execute_result",
          "data": {
            "text/plain": [
              "Industry\n",
              "Healthcare    1\n",
              "Services      1\n",
              "Name: clusters, dtype: int64"
            ]
          },
          "metadata": {},
          "execution_count": 31
        }
      ]
    },
    {
      "cell_type": "code",
      "source": [
        "k_cluster_2.groupby('Industry')['clusters'].count()\n",
        "\n",
        "#Mix of Healthcare and Technology"
      ],
      "metadata": {
        "colab": {
          "base_uri": "https://localhost:8080/"
        },
        "id": "3YpXsPPIczCx",
        "outputId": "e9ef0f43-84f5-47cb-91e5-ec22d9a813f2"
      },
      "execution_count": null,
      "outputs": [
        {
          "output_type": "execute_result",
          "data": {
            "text/plain": [
              "Industry\n",
              "Healthcare          24\n",
              "Industrial Goods     2\n",
              "Services             3\n",
              "Technology          34\n",
              "Utilities            1\n",
              "Name: clusters, dtype: int64"
            ]
          },
          "metadata": {},
          "execution_count": 32
        }
      ]
    },
    {
      "cell_type": "code",
      "source": [
        "k_cluster_3.groupby('Industry')['clusters'].count()\n",
        "\n",
        "# Diversified cluster"
      ],
      "metadata": {
        "colab": {
          "base_uri": "https://localhost:8080/"
        },
        "id": "2A8eFAyyc0V2",
        "outputId": "19113fcb-b443-4fc6-b657-e7044e3a78d4"
      },
      "execution_count": null,
      "outputs": [
        {
          "output_type": "execute_result",
          "data": {
            "text/plain": [
              "Industry\n",
              "Basic Materials      38\n",
              "Conglomerates         2\n",
              "Consumer Cyclical     1\n",
              "Consumer Goods       40\n",
              "Financial            27\n",
              "Healthcare           37\n",
              "Industrial Goods     39\n",
              "Services             81\n",
              "Technology           68\n",
              "Utilities             1\n",
              "Name: clusters, dtype: int64"
            ]
          },
          "metadata": {},
          "execution_count": 33
        }
      ]
    },
    {
      "cell_type": "code",
      "source": [
        "k_cluster_4.groupby('Industry')['clusters'].count()\n",
        "\n",
        "#Technology heavy cluster"
      ],
      "metadata": {
        "colab": {
          "base_uri": "https://localhost:8080/"
        },
        "id": "C__oftKhc1Zz",
        "outputId": "32f223b0-26d2-4dea-f20b-b4702c3f00bc"
      },
      "execution_count": null,
      "outputs": [
        {
          "output_type": "execute_result",
          "data": {
            "text/plain": [
              "Industry\n",
              "Basic Materials       1\n",
              "Consumer Goods        3\n",
              "Financial             8\n",
              "Healthcare           18\n",
              "Industrial Goods      6\n",
              "Services             20\n",
              "Technology          162\n",
              "Name: clusters, dtype: int64"
            ]
          },
          "metadata": {},
          "execution_count": 34
        }
      ]
    },
    {
      "cell_type": "code",
      "source": [
        "print('Average returns of lifetime of stocks within each k-means cluster')\n",
        "print((k_cluster_0.iloc[:,3:-1].mean(axis=1)).mean())\n",
        "print((k_cluster_1.iloc[:,3:-1].mean(axis=1)).mean())\n",
        "print((k_cluster_2.iloc[:,3:-1].mean(axis=1)).mean())\n",
        "print((k_cluster_3.iloc[:,3:-1].mean(axis=1)).mean())\n",
        "print((k_cluster_4.iloc[:,3:-1].mean(axis=1)).mean())\n",
        "\n",
        "#k_cluster_1 has the best return at 6.62%"
      ],
      "metadata": {
        "colab": {
          "base_uri": "https://localhost:8080/"
        },
        "id": "08VmLBXjjpZ6",
        "outputId": "969b242a-8814-4d73-d6c8-70dcace7a4a3"
      },
      "execution_count": null,
      "outputs": [
        {
          "output_type": "stream",
          "name": "stdout",
          "text": [
            "Average returns of lifetime of stocks within each k-means cluster\n",
            "0.006748396987725742\n",
            "0.06620350109917353\n",
            "0.04304061153254132\n",
            "0.02839811982741129\n",
            "0.022155958871825004\n"
          ]
        }
      ]
    },
    {
      "cell_type": "code",
      "source": [
        "k_cluster_1"
      ],
      "metadata": {
        "colab": {
          "base_uri": "https://localhost:8080/",
          "height": 179
        },
        "id": "RpvaTIi6uNXf",
        "outputId": "2bcdd476-a9d2-4999-d0e7-43f2f60a4520"
      },
      "execution_count": null,
      "outputs": [
        {
          "output_type": "execute_result",
          "data": {
            "text/plain": [
              "    StockSymbol    Industry         SubIndustry  Ret2000.01  Ret2000.02  \\\n",
              "316        DYII  Healthcare           Hospitals   -0.563559    0.063107   \n",
              "636        MDCA    Services  Marketing Services    0.165517    0.401198   \n",
              "\n",
              "     Ret2000.03  Ret2000.04  Ret2000.05  Ret2000.06  ret2000.07  ...  \\\n",
              "316    3.363208   -0.027027   -0.230425    0.088483   -0.052903  ...   \n",
              "636    4.008621   -0.214286    0.027778   -0.047568   -0.048808  ...   \n",
              "\n",
              "     Ret2009.05  Ret2009.06  Ret2009.07  Ret2009.08  Ret2009.09  Ret2009.10  \\\n",
              "316    0.051429   -0.144022    0.027778    0.055556   -0.028986   -0.069364   \n",
              "636    0.309353   -0.012545    0.237750   -0.119708    0.229752    0.086667   \n",
              "\n",
              "     Ret2009.11  Ret2009.12  clusters  k_clusters  \n",
              "316    0.171875   -0.090667         2           1  \n",
              "636   -0.001214    0.001200         2           1  \n",
              "\n",
              "[2 rows x 125 columns]"
            ],
            "text/html": [
              "\n",
              "  <div id=\"df-422b30d3-e26b-4bff-a8fc-41097a3c0c03\" class=\"colab-df-container\">\n",
              "    <div>\n",
              "<style scoped>\n",
              "    .dataframe tbody tr th:only-of-type {\n",
              "        vertical-align: middle;\n",
              "    }\n",
              "\n",
              "    .dataframe tbody tr th {\n",
              "        vertical-align: top;\n",
              "    }\n",
              "\n",
              "    .dataframe thead th {\n",
              "        text-align: right;\n",
              "    }\n",
              "</style>\n",
              "<table border=\"1\" class=\"dataframe\">\n",
              "  <thead>\n",
              "    <tr style=\"text-align: right;\">\n",
              "      <th></th>\n",
              "      <th>StockSymbol</th>\n",
              "      <th>Industry</th>\n",
              "      <th>SubIndustry</th>\n",
              "      <th>Ret2000.01</th>\n",
              "      <th>Ret2000.02</th>\n",
              "      <th>Ret2000.03</th>\n",
              "      <th>Ret2000.04</th>\n",
              "      <th>Ret2000.05</th>\n",
              "      <th>Ret2000.06</th>\n",
              "      <th>ret2000.07</th>\n",
              "      <th>...</th>\n",
              "      <th>Ret2009.05</th>\n",
              "      <th>Ret2009.06</th>\n",
              "      <th>Ret2009.07</th>\n",
              "      <th>Ret2009.08</th>\n",
              "      <th>Ret2009.09</th>\n",
              "      <th>Ret2009.10</th>\n",
              "      <th>Ret2009.11</th>\n",
              "      <th>Ret2009.12</th>\n",
              "      <th>clusters</th>\n",
              "      <th>k_clusters</th>\n",
              "    </tr>\n",
              "  </thead>\n",
              "  <tbody>\n",
              "    <tr>\n",
              "      <th>316</th>\n",
              "      <td>DYII</td>\n",
              "      <td>Healthcare</td>\n",
              "      <td>Hospitals</td>\n",
              "      <td>-0.563559</td>\n",
              "      <td>0.063107</td>\n",
              "      <td>3.363208</td>\n",
              "      <td>-0.027027</td>\n",
              "      <td>-0.230425</td>\n",
              "      <td>0.088483</td>\n",
              "      <td>-0.052903</td>\n",
              "      <td>...</td>\n",
              "      <td>0.051429</td>\n",
              "      <td>-0.144022</td>\n",
              "      <td>0.027778</td>\n",
              "      <td>0.055556</td>\n",
              "      <td>-0.028986</td>\n",
              "      <td>-0.069364</td>\n",
              "      <td>0.171875</td>\n",
              "      <td>-0.090667</td>\n",
              "      <td>2</td>\n",
              "      <td>1</td>\n",
              "    </tr>\n",
              "    <tr>\n",
              "      <th>636</th>\n",
              "      <td>MDCA</td>\n",
              "      <td>Services</td>\n",
              "      <td>Marketing Services</td>\n",
              "      <td>0.165517</td>\n",
              "      <td>0.401198</td>\n",
              "      <td>4.008621</td>\n",
              "      <td>-0.214286</td>\n",
              "      <td>0.027778</td>\n",
              "      <td>-0.047568</td>\n",
              "      <td>-0.048808</td>\n",
              "      <td>...</td>\n",
              "      <td>0.309353</td>\n",
              "      <td>-0.012545</td>\n",
              "      <td>0.237750</td>\n",
              "      <td>-0.119708</td>\n",
              "      <td>0.229752</td>\n",
              "      <td>0.086667</td>\n",
              "      <td>-0.001214</td>\n",
              "      <td>0.001200</td>\n",
              "      <td>2</td>\n",
              "      <td>1</td>\n",
              "    </tr>\n",
              "  </tbody>\n",
              "</table>\n",
              "<p>2 rows × 125 columns</p>\n",
              "</div>\n",
              "    <div class=\"colab-df-buttons\">\n",
              "\n",
              "  <div class=\"colab-df-container\">\n",
              "    <button class=\"colab-df-convert\" onclick=\"convertToInteractive('df-422b30d3-e26b-4bff-a8fc-41097a3c0c03')\"\n",
              "            title=\"Convert this dataframe to an interactive table.\"\n",
              "            style=\"display:none;\">\n",
              "\n",
              "  <svg xmlns=\"http://www.w3.org/2000/svg\" height=\"24px\" viewBox=\"0 -960 960 960\">\n",
              "    <path d=\"M120-120v-720h720v720H120Zm60-500h600v-160H180v160Zm220 220h160v-160H400v160Zm0 220h160v-160H400v160ZM180-400h160v-160H180v160Zm440 0h160v-160H620v160ZM180-180h160v-160H180v160Zm440 0h160v-160H620v160Z\"/>\n",
              "  </svg>\n",
              "    </button>\n",
              "\n",
              "  <style>\n",
              "    .colab-df-container {\n",
              "      display:flex;\n",
              "      gap: 12px;\n",
              "    }\n",
              "\n",
              "    .colab-df-convert {\n",
              "      background-color: #E8F0FE;\n",
              "      border: none;\n",
              "      border-radius: 50%;\n",
              "      cursor: pointer;\n",
              "      display: none;\n",
              "      fill: #1967D2;\n",
              "      height: 32px;\n",
              "      padding: 0 0 0 0;\n",
              "      width: 32px;\n",
              "    }\n",
              "\n",
              "    .colab-df-convert:hover {\n",
              "      background-color: #E2EBFA;\n",
              "      box-shadow: 0px 1px 2px rgba(60, 64, 67, 0.3), 0px 1px 3px 1px rgba(60, 64, 67, 0.15);\n",
              "      fill: #174EA6;\n",
              "    }\n",
              "\n",
              "    .colab-df-buttons div {\n",
              "      margin-bottom: 4px;\n",
              "    }\n",
              "\n",
              "    [theme=dark] .colab-df-convert {\n",
              "      background-color: #3B4455;\n",
              "      fill: #D2E3FC;\n",
              "    }\n",
              "\n",
              "    [theme=dark] .colab-df-convert:hover {\n",
              "      background-color: #434B5C;\n",
              "      box-shadow: 0px 1px 3px 1px rgba(0, 0, 0, 0.15);\n",
              "      filter: drop-shadow(0px 1px 2px rgba(0, 0, 0, 0.3));\n",
              "      fill: #FFFFFF;\n",
              "    }\n",
              "  </style>\n",
              "\n",
              "    <script>\n",
              "      const buttonEl =\n",
              "        document.querySelector('#df-422b30d3-e26b-4bff-a8fc-41097a3c0c03 button.colab-df-convert');\n",
              "      buttonEl.style.display =\n",
              "        google.colab.kernel.accessAllowed ? 'block' : 'none';\n",
              "\n",
              "      async function convertToInteractive(key) {\n",
              "        const element = document.querySelector('#df-422b30d3-e26b-4bff-a8fc-41097a3c0c03');\n",
              "        const dataTable =\n",
              "          await google.colab.kernel.invokeFunction('convertToInteractive',\n",
              "                                                    [key], {});\n",
              "        if (!dataTable) return;\n",
              "\n",
              "        const docLinkHtml = 'Like what you see? Visit the ' +\n",
              "          '<a target=\"_blank\" href=https://colab.research.google.com/notebooks/data_table.ipynb>data table notebook</a>'\n",
              "          + ' to learn more about interactive tables.';\n",
              "        element.innerHTML = '';\n",
              "        dataTable['output_type'] = 'display_data';\n",
              "        await google.colab.output.renderOutput(dataTable, element);\n",
              "        const docLink = document.createElement('div');\n",
              "        docLink.innerHTML = docLinkHtml;\n",
              "        element.appendChild(docLink);\n",
              "      }\n",
              "    </script>\n",
              "  </div>\n",
              "\n",
              "\n",
              "<div id=\"df-9e762ecf-fcee-4633-8769-12d64114cd80\">\n",
              "  <button class=\"colab-df-quickchart\" onclick=\"quickchart('df-9e762ecf-fcee-4633-8769-12d64114cd80')\"\n",
              "            title=\"Suggest charts\"\n",
              "            style=\"display:none;\">\n",
              "\n",
              "<svg xmlns=\"http://www.w3.org/2000/svg\" height=\"24px\"viewBox=\"0 0 24 24\"\n",
              "     width=\"24px\">\n",
              "    <g>\n",
              "        <path d=\"M19 3H5c-1.1 0-2 .9-2 2v14c0 1.1.9 2 2 2h14c1.1 0 2-.9 2-2V5c0-1.1-.9-2-2-2zM9 17H7v-7h2v7zm4 0h-2V7h2v10zm4 0h-2v-4h2v4z\"/>\n",
              "    </g>\n",
              "</svg>\n",
              "  </button>\n",
              "\n",
              "<style>\n",
              "  .colab-df-quickchart {\n",
              "      --bg-color: #E8F0FE;\n",
              "      --fill-color: #1967D2;\n",
              "      --hover-bg-color: #E2EBFA;\n",
              "      --hover-fill-color: #174EA6;\n",
              "      --disabled-fill-color: #AAA;\n",
              "      --disabled-bg-color: #DDD;\n",
              "  }\n",
              "\n",
              "  [theme=dark] .colab-df-quickchart {\n",
              "      --bg-color: #3B4455;\n",
              "      --fill-color: #D2E3FC;\n",
              "      --hover-bg-color: #434B5C;\n",
              "      --hover-fill-color: #FFFFFF;\n",
              "      --disabled-bg-color: #3B4455;\n",
              "      --disabled-fill-color: #666;\n",
              "  }\n",
              "\n",
              "  .colab-df-quickchart {\n",
              "    background-color: var(--bg-color);\n",
              "    border: none;\n",
              "    border-radius: 50%;\n",
              "    cursor: pointer;\n",
              "    display: none;\n",
              "    fill: var(--fill-color);\n",
              "    height: 32px;\n",
              "    padding: 0;\n",
              "    width: 32px;\n",
              "  }\n",
              "\n",
              "  .colab-df-quickchart:hover {\n",
              "    background-color: var(--hover-bg-color);\n",
              "    box-shadow: 0 1px 2px rgba(60, 64, 67, 0.3), 0 1px 3px 1px rgba(60, 64, 67, 0.15);\n",
              "    fill: var(--button-hover-fill-color);\n",
              "  }\n",
              "\n",
              "  .colab-df-quickchart-complete:disabled,\n",
              "  .colab-df-quickchart-complete:disabled:hover {\n",
              "    background-color: var(--disabled-bg-color);\n",
              "    fill: var(--disabled-fill-color);\n",
              "    box-shadow: none;\n",
              "  }\n",
              "\n",
              "  .colab-df-spinner {\n",
              "    border: 2px solid var(--fill-color);\n",
              "    border-color: transparent;\n",
              "    border-bottom-color: var(--fill-color);\n",
              "    animation:\n",
              "      spin 1s steps(1) infinite;\n",
              "  }\n",
              "\n",
              "  @keyframes spin {\n",
              "    0% {\n",
              "      border-color: transparent;\n",
              "      border-bottom-color: var(--fill-color);\n",
              "      border-left-color: var(--fill-color);\n",
              "    }\n",
              "    20% {\n",
              "      border-color: transparent;\n",
              "      border-left-color: var(--fill-color);\n",
              "      border-top-color: var(--fill-color);\n",
              "    }\n",
              "    30% {\n",
              "      border-color: transparent;\n",
              "      border-left-color: var(--fill-color);\n",
              "      border-top-color: var(--fill-color);\n",
              "      border-right-color: var(--fill-color);\n",
              "    }\n",
              "    40% {\n",
              "      border-color: transparent;\n",
              "      border-right-color: var(--fill-color);\n",
              "      border-top-color: var(--fill-color);\n",
              "    }\n",
              "    60% {\n",
              "      border-color: transparent;\n",
              "      border-right-color: var(--fill-color);\n",
              "    }\n",
              "    80% {\n",
              "      border-color: transparent;\n",
              "      border-right-color: var(--fill-color);\n",
              "      border-bottom-color: var(--fill-color);\n",
              "    }\n",
              "    90% {\n",
              "      border-color: transparent;\n",
              "      border-bottom-color: var(--fill-color);\n",
              "    }\n",
              "  }\n",
              "</style>\n",
              "\n",
              "  <script>\n",
              "    async function quickchart(key) {\n",
              "      const quickchartButtonEl =\n",
              "        document.querySelector('#' + key + ' button');\n",
              "      quickchartButtonEl.disabled = true;  // To prevent multiple clicks.\n",
              "      quickchartButtonEl.classList.add('colab-df-spinner');\n",
              "      try {\n",
              "        const charts = await google.colab.kernel.invokeFunction(\n",
              "            'suggestCharts', [key], {});\n",
              "      } catch (error) {\n",
              "        console.error('Error during call to suggestCharts:', error);\n",
              "      }\n",
              "      quickchartButtonEl.classList.remove('colab-df-spinner');\n",
              "      quickchartButtonEl.classList.add('colab-df-quickchart-complete');\n",
              "    }\n",
              "    (() => {\n",
              "      let quickchartButtonEl =\n",
              "        document.querySelector('#df-9e762ecf-fcee-4633-8769-12d64114cd80 button');\n",
              "      quickchartButtonEl.style.display =\n",
              "        google.colab.kernel.accessAllowed ? 'block' : 'none';\n",
              "    })();\n",
              "  </script>\n",
              "</div>\n",
              "    </div>\n",
              "  </div>\n"
            ]
          },
          "metadata": {},
          "execution_count": 36
        }
      ]
    },
    {
      "cell_type": "markdown",
      "source": [
        "# c\n",
        "\n",
        "Propose a diverse portfolio of stocks using the results of your clusters.\n",
        "\n",
        "How do you think you can use both Hierarchical and K-Means clustering to acheive the best outcome?\n",
        "> Let us assume US annual inflation rate is 4% so we want to find stocks that performed > 0.04 for the lifetime of this dataset (df_nasdaq_pos_roi).\n",
        "\n",
        "> We see that there were only 217 out of 1355 Nasdaq companies that beat inflation thus providing overall profit.\n",
        "\n",
        "> Only 7 out 10 industries presented overall profit,\n",
        "* 'Healthcare', 'Basic Materials', 'Technology', 'Services', 'Industrial Goods', 'Financial', 'Consumer Goods'\n",
        "\n",
        "> Hierarchical cluster_4 containing just \"ISDA\" an Industrial Goods stock returned 7.93% overall.\n",
        "\n",
        "> K-means k_cluster_1 containing just \"DYII\" and \"MDCA\", Healthcare and Services industry stocks returned 6.62% overall.\n",
        "\n",
        "> To further diversify out portfolio I would recommend picking stocks from the df_nasdaq_pos_roi dataset and from industries not represented above by \"ISDA, DYII, and MDCA\"\n"
      ],
      "metadata": {
        "id": "ZKyQqQDZfT14"
      }
    },
    {
      "cell_type": "code",
      "source": [
        "#Calcuate average return over lifetime of stock. Append to original df_nasdaq\n",
        "\n",
        "avg_return_lifetime = df_cluster.mean(axis=1)\n",
        "\n",
        "df_nasdaq['avg_return_lifetime'] = avg_return_lifetime"
      ],
      "metadata": {
        "id": "_0h6CpH3fwHx"
      },
      "execution_count": null,
      "outputs": []
    },
    {
      "cell_type": "code",
      "source": [
        "# Lets assume US annual inflation rate is 4%\n",
        "#Find stocks whose returns were postive or negative/no gains\n",
        "df_nasdaq_pos_roi = df_nasdaq[df_nasdaq['avg_return_lifetime'] > 0.04]\n",
        "df_nasdaq_neg_roi = df_nasdaq[df_nasdaq['avg_return_lifetime'] <= 0.04]"
      ],
      "metadata": {
        "id": "fsFhA-Zvf2c8"
      },
      "execution_count": null,
      "outputs": []
    },
    {
      "cell_type": "code",
      "source": [
        "print(df_nasdaq_pos_roi.count())\n",
        "print(df_nasdaq_neg_roi.count())"
      ],
      "metadata": {
        "colab": {
          "base_uri": "https://localhost:8080/"
        },
        "id": "7S8sM-sNhnp0",
        "outputId": "e15402ae-f611-4b93-da5a-77918d0c81bb"
      },
      "execution_count": null,
      "outputs": [
        {
          "output_type": "stream",
          "name": "stdout",
          "text": [
            "StockSymbol            20\n",
            "Industry               20\n",
            "SubIndustry            20\n",
            "Ret2000.01             20\n",
            "Ret2000.02             20\n",
            "                       ..\n",
            "Ret2009.11             20\n",
            "Ret2009.12             20\n",
            "clusters               20\n",
            "k_clusters             20\n",
            "avg_return_lifetime    20\n",
            "Length: 126, dtype: int64\n",
            "StockSymbol            1138\n",
            "Industry               1138\n",
            "SubIndustry            1138\n",
            "Ret2000.01             1138\n",
            "Ret2000.02             1138\n",
            "                       ... \n",
            "Ret2009.11             1138\n",
            "Ret2009.12             1138\n",
            "clusters               1138\n",
            "k_clusters             1138\n",
            "avg_return_lifetime    1138\n",
            "Length: 126, dtype: int64\n"
          ]
        }
      ]
    },
    {
      "cell_type": "code",
      "source": [
        "df_nasdaq_pos_roi['Industry'].unique()"
      ],
      "metadata": {
        "colab": {
          "base_uri": "https://localhost:8080/"
        },
        "id": "t025JQuKlC6J",
        "outputId": "0aa166b1-be9e-40ab-9e2e-65fa7a2ead00"
      },
      "execution_count": null,
      "outputs": [
        {
          "output_type": "execute_result",
          "data": {
            "text/plain": [
              "array(['Healthcare', 'Industrial Goods', 'Technology', 'Consumer Goods',\n",
              "       'Basic Materials', 'Services'], dtype=object)"
            ]
          },
          "metadata": {},
          "execution_count": 40
        }
      ]
    }
  ]
}